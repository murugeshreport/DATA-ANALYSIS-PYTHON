{
 "cells": [
  {
   "cell_type": "code",
   "execution_count": 1,
   "id": "78dd6c44",
   "metadata": {},
   "outputs": [],
   "source": [
    "import pandas as pd"
   ]
  },
  {
   "cell_type": "code",
   "execution_count": 6,
   "id": "867c6fc2",
   "metadata": {},
   "outputs": [],
   "source": [
    "import numpy as np\n",
    "import matplotlib.pyplot as plt\n",
    "import seaborn as sns"
   ]
  },
  {
   "cell_type": "code",
   "execution_count": 3,
   "id": "e60e1b5e",
   "metadata": {},
   "outputs": [],
   "source": [
    "data = pd.read_csv(r'C:\\Users\\hp\\Downloads\\kerala_covid19.csv')"
   ]
  },
  {
   "cell_type": "code",
   "execution_count": 4,
   "id": "82ac2127",
   "metadata": {},
   "outputs": [
    {
     "data": {
      "text/html": [
       "<div>\n",
       "<style scoped>\n",
       "    .dataframe tbody tr th:only-of-type {\n",
       "        vertical-align: middle;\n",
       "    }\n",
       "\n",
       "    .dataframe tbody tr th {\n",
       "        vertical-align: top;\n",
       "    }\n",
       "\n",
       "    .dataframe thead th {\n",
       "        text-align: right;\n",
       "    }\n",
       "</style>\n",
       "<table border=\"1\" class=\"dataframe\">\n",
       "  <thead>\n",
       "    <tr style=\"text-align: right;\">\n",
       "      <th></th>\n",
       "      <th>Date</th>\n",
       "      <th>Cases</th>\n",
       "      <th>Recovered</th>\n",
       "      <th>ActiveCases</th>\n",
       "      <th>Deaths</th>\n",
       "    </tr>\n",
       "  </thead>\n",
       "  <tbody>\n",
       "    <tr>\n",
       "      <th>0</th>\n",
       "      <td>2020-01-30</td>\n",
       "      <td>1</td>\n",
       "      <td>0</td>\n",
       "      <td>1</td>\n",
       "      <td>0</td>\n",
       "    </tr>\n",
       "    <tr>\n",
       "      <th>1</th>\n",
       "      <td>2020-02-02</td>\n",
       "      <td>2</td>\n",
       "      <td>0</td>\n",
       "      <td>2</td>\n",
       "      <td>0</td>\n",
       "    </tr>\n",
       "  </tbody>\n",
       "</table>\n",
       "</div>"
      ],
      "text/plain": [
       "         Date  Cases  Recovered  ActiveCases  Deaths\n",
       "0  2020-01-30      1          0            1       0\n",
       "1  2020-02-02      2          0            2       0"
      ]
     },
     "execution_count": 4,
     "metadata": {},
     "output_type": "execute_result"
    }
   ],
   "source": [
    "data.head(2)"
   ]
  },
  {
   "cell_type": "code",
   "execution_count": 7,
   "id": "318da156",
   "metadata": {},
   "outputs": [
    {
     "name": "stdout",
     "output_type": "stream",
     "text": [
      "<class 'pandas.core.frame.DataFrame'>\n",
      "RangeIndex: 603 entries, 0 to 602\n",
      "Data columns (total 5 columns):\n",
      " #   Column       Non-Null Count  Dtype \n",
      "---  ------       --------------  ----- \n",
      " 0   Date         603 non-null    object\n",
      " 1   Cases        603 non-null    int64 \n",
      " 2   Recovered    603 non-null    int64 \n",
      " 3   ActiveCases  603 non-null    int64 \n",
      " 4   Deaths       603 non-null    int64 \n",
      "dtypes: int64(4), object(1)\n",
      "memory usage: 23.7+ KB\n"
     ]
    }
   ],
   "source": [
    "data.info()"
   ]
  },
  {
   "cell_type": "code",
   "execution_count": 8,
   "id": "208fb3b3",
   "metadata": {},
   "outputs": [
    {
     "data": {
      "text/plain": [
       "Date           0\n",
       "Cases          0\n",
       "Recovered      0\n",
       "ActiveCases    0\n",
       "Deaths         0\n",
       "dtype: int64"
      ]
     },
     "execution_count": 8,
     "metadata": {},
     "output_type": "execute_result"
    }
   ],
   "source": [
    "data.isnull().sum()"
   ]
  },
  {
   "cell_type": "code",
   "execution_count": 11,
   "id": "326023bd",
   "metadata": {},
   "outputs": [],
   "source": [
    "data['year']=pd.to_datetime(data['Date']).dt.year"
   ]
  },
  {
   "cell_type": "code",
   "execution_count": 12,
   "id": "8c7a1fb9",
   "metadata": {},
   "outputs": [],
   "source": [
    "data['month']=pd.to_datetime(data['Date']).dt.month"
   ]
  },
  {
   "cell_type": "code",
   "execution_count": 13,
   "id": "48548e10",
   "metadata": {},
   "outputs": [
    {
     "data": {
      "text/html": [
       "<div>\n",
       "<style scoped>\n",
       "    .dataframe tbody tr th:only-of-type {\n",
       "        vertical-align: middle;\n",
       "    }\n",
       "\n",
       "    .dataframe tbody tr th {\n",
       "        vertical-align: top;\n",
       "    }\n",
       "\n",
       "    .dataframe thead th {\n",
       "        text-align: right;\n",
       "    }\n",
       "</style>\n",
       "<table border=\"1\" class=\"dataframe\">\n",
       "  <thead>\n",
       "    <tr style=\"text-align: right;\">\n",
       "      <th></th>\n",
       "      <th>Date</th>\n",
       "      <th>Cases</th>\n",
       "      <th>Recovered</th>\n",
       "      <th>ActiveCases</th>\n",
       "      <th>Deaths</th>\n",
       "      <th>year</th>\n",
       "      <th>month</th>\n",
       "    </tr>\n",
       "  </thead>\n",
       "  <tbody>\n",
       "    <tr>\n",
       "      <th>0</th>\n",
       "      <td>2020-01-30</td>\n",
       "      <td>1</td>\n",
       "      <td>0</td>\n",
       "      <td>1</td>\n",
       "      <td>0</td>\n",
       "      <td>2020</td>\n",
       "      <td>1</td>\n",
       "    </tr>\n",
       "    <tr>\n",
       "      <th>1</th>\n",
       "      <td>2020-02-02</td>\n",
       "      <td>2</td>\n",
       "      <td>0</td>\n",
       "      <td>2</td>\n",
       "      <td>0</td>\n",
       "      <td>2020</td>\n",
       "      <td>2</td>\n",
       "    </tr>\n",
       "    <tr>\n",
       "      <th>2</th>\n",
       "      <td>2020-02-03</td>\n",
       "      <td>3</td>\n",
       "      <td>0</td>\n",
       "      <td>3</td>\n",
       "      <td>0</td>\n",
       "      <td>2020</td>\n",
       "      <td>2</td>\n",
       "    </tr>\n",
       "    <tr>\n",
       "      <th>3</th>\n",
       "      <td>2020-02-16</td>\n",
       "      <td>3</td>\n",
       "      <td>2</td>\n",
       "      <td>1</td>\n",
       "      <td>0</td>\n",
       "      <td>2020</td>\n",
       "      <td>2</td>\n",
       "    </tr>\n",
       "    <tr>\n",
       "      <th>4</th>\n",
       "      <td>2020-02-20</td>\n",
       "      <td>3</td>\n",
       "      <td>3</td>\n",
       "      <td>0</td>\n",
       "      <td>0</td>\n",
       "      <td>2020</td>\n",
       "      <td>2</td>\n",
       "    </tr>\n",
       "  </tbody>\n",
       "</table>\n",
       "</div>"
      ],
      "text/plain": [
       "         Date  Cases  Recovered  ActiveCases  Deaths  year  month\n",
       "0  2020-01-30      1          0            1       0  2020      1\n",
       "1  2020-02-02      2          0            2       0  2020      2\n",
       "2  2020-02-03      3          0            3       0  2020      2\n",
       "3  2020-02-16      3          2            1       0  2020      2\n",
       "4  2020-02-20      3          3            0       0  2020      2"
      ]
     },
     "execution_count": 13,
     "metadata": {},
     "output_type": "execute_result"
    }
   ],
   "source": [
    "data.head()"
   ]
  },
  {
   "cell_type": "code",
   "execution_count": 51,
   "id": "01667188",
   "metadata": {},
   "outputs": [],
   "source": [
    "monthdeath=data.groupby(['month'])['Deaths'].sum()\n",
    "monthdeath=pd.DataFrame(monthdeath)\n",
    "monthdeath=monthdeath.reset_index()"
   ]
  },
  {
   "cell_type": "code",
   "execution_count": 93,
   "id": "a4477997",
   "metadata": {},
   "outputs": [
    {
     "data": {
      "text/plain": [
       "<AxesSubplot:title={'center':'month vis Deaths'}, xlabel='month', ylabel='Death'>"
      ]
     },
     "execution_count": 93,
     "metadata": {},
     "output_type": "execute_result"
    },
    {
     "data": {
      "image/png": "[encoded data removed]",
      "text/plain": [
       "<Figure size 720x432 with 1 Axes>"
      ]
     },
     "metadata": {
      "needs_background": "light"
     },
     "output_type": "display_data"
    }
   ],
   "source": [
    "monthdeath.plot.bar(rot=90,color=['red'],figsize=(10,6),xlabel='month',ylabel='Death',title='month vis Deaths')"
   ]
  },
  {
   "cell_type": "code",
   "execution_count": 64,
   "id": "05dd5bec",
   "metadata": {},
   "outputs": [
    {
     "name": "stderr",
     "output_type": "stream",
     "text": [
      "C:\\Users\\hp\\AppData\\Local\\Temp/ipykernel_8200/3592070939.py:1: FutureWarning: Indexing with multiple keys (implicitly converted to a tuple of keys) will be deprecated, use a list instead.\n",
      "  monthrecoverd=data.groupby(['month'])['Deaths','Recovered'].sum()\n"
     ]
    }
   ],
   "source": [
    "monthrecoverd=data.groupby(['month'])['Deaths','Recovered'].sum()"
   ]
  },
  {
   "cell_type": "code",
   "execution_count": 94,
   "id": "60502b0a",
   "metadata": {},
   "outputs": [
    {
     "data": {
      "text/plain": [
       "<AxesSubplot:title={'center':'month vis Deaths and Recovered'}, xlabel='month', ylabel='Death vs Recovered'>"
      ]
     },
     "execution_count": 94,
     "metadata": {},
     "output_type": "execute_result"
    },
    {
     "data": {
      "image/png": "[encoded data removed]",
      "text/plain": [
       "<Figure size 720x432 with 1 Axes>"
      ]
     },
     "metadata": {
      "needs_background": "light"
     },
     "output_type": "display_data"
    }
   ],
   "source": [
    "monthrecoverd.plot.bar(rot=0,figsize=(10,6),xlabel='month',ylabel='Death vs Recovered',title='month vis Deaths and Recovered')"
   ]
  },
  {
   "cell_type": "code",
   "execution_count": 38,
   "id": "47054969",
   "metadata": {},
   "outputs": [
    {
     "name": "stderr",
     "output_type": "stream",
     "text": [
      "C:\\Users\\hp\\AppData\\Local\\Temp/ipykernel_8200/1075887023.py:1: FutureWarning: Indexing with multiple keys (implicitly converted to a tuple of keys) will be deprecated, use a list instead.\n",
      "  cases=data.groupby('month')['Cases','ActiveCases'].sum()\n"
     ]
    }
   ],
   "source": [
    "cases=data.groupby('month')['Cases','ActiveCases'].sum()"
   ]
  },
  {
   "cell_type": "code",
   "execution_count": 95,
   "id": "62d9a11b",
   "metadata": {},
   "outputs": [
    {
     "data": {
      "text/plain": [
       "<AxesSubplot:title={'center':'month vis cases and activecases'}, xlabel='month', ylabel='cases and Activecases'>"
      ]
     },
     "execution_count": 95,
     "metadata": {},
     "output_type": "execute_result"
    },
    {
     "data": {
      "image/png": "[encoded data removed]",
      "text/plain": [
       "<Figure size 720x432 with 1 Axes>"
      ]
     },
     "metadata": {
      "needs_background": "light"
     },
     "output_type": "display_data"
    }
   ],
   "source": [
    "cases.plot.bar(rot=0,figsize=(10,6),xlabel='month',ylabel='cases and Activecases',title='month vis cases and activecases')"
   ]
  },
  {
   "cell_type": "code",
   "execution_count": 56,
   "id": "a574f9b2",
   "metadata": {},
   "outputs": [],
   "source": [
    "yeardeath=data.groupby('year')['Deaths'].sum()\n",
    "yeardeath=pd.DataFrame(yeardeath)\n",
    "yeardeath=yeardeath.reset_index()"
   ]
  },
  {
   "cell_type": "code",
   "execution_count": 97,
   "id": "fb226eeb",
   "metadata": {},
   "outputs": [
    {
     "data": {
      "text/plain": [
       "<AxesSubplot:title={'center':'year vis Deaths'}, xlabel='year', ylabel='Death'>"
      ]
     },
     "execution_count": 97,
     "metadata": {},
     "output_type": "execute_result"
    },
    {
     "data": {
      "image/png": "[encoded data removed]",
      "text/plain": [
       "<Figure size 720x504 with 1 Axes>"
      ]
     },
     "metadata": {
      "needs_background": "light"
     },
     "output_type": "display_data"
    }
   ],
   "source": [
    "yeardeath.plot.line(figsize=(10,7),xlabel='year',ylabel='Death',title='year vis Deaths')"
   ]
  },
  {
   "cell_type": "code",
   "execution_count": 69,
   "id": "b4204aed",
   "metadata": {},
   "outputs": [
    {
     "name": "stderr",
     "output_type": "stream",
     "text": [
      "C:\\Users\\hp\\AppData\\Local\\Temp/ipykernel_8200/209573098.py:1: FutureWarning: Indexing with multiple keys (implicitly converted to a tuple of keys) will be deprecated, use a list instead.\n",
      "  yearrecovd=data.groupby('year')['Recovered','Deaths'].sum()\n"
     ]
    }
   ],
   "source": [
    "yearrecovd=data.groupby('year')['Recovered','Deaths'].sum()\n",
    "yearrecovd=pd.DataFrame(yearrecovd)\n",
    "yearrecovd=yearrecovd.reset_index()"
   ]
  },
  {
   "cell_type": "code",
   "execution_count": 99,
   "id": "60669ed9",
   "metadata": {},
   "outputs": [
    {
     "data": {
      "text/plain": [
       "<AxesSubplot:title={'center':'year vis deaths and recoverd'}, xlabel='year', ylabel='Death and recoved'>"
      ]
     },
     "execution_count": 99,
     "metadata": {},
     "output_type": "execute_result"
    },
    {
     "data": {
      "image/png": "[encoded data removed]",
      "text/plain": [
       "<Figure size 720x432 with 1 Axes>"
      ]
     },
     "metadata": {
      "needs_background": "light"
     },
     "output_type": "display_data"
    }
   ],
   "source": [
    "yearrecovd.plot.line(figsize=(10,6),xlabel='year',ylabel='Death and recoved',title='year vis deaths and recoverd')"
   ]
  },
  {
   "cell_type": "code",
   "execution_count": 103,
   "id": "31e01026",
   "metadata": {},
   "outputs": [
    {
     "name": "stderr",
     "output_type": "stream",
     "text": [
      "C:\\Users\\hp\\AppData\\Local\\Temp/ipykernel_8200/1186698036.py:1: FutureWarning: Indexing with multiple keys (implicitly converted to a tuple of keys) will be deprecated, use a list instead.\n",
      "  activecase=data.groupby('year')['Cases','ActiveCases'].sum()\n"
     ]
    }
   ],
   "source": [
    "activecase=data.groupby('year')['Cases','ActiveCases'].sum()\n",
    "activecase=pd.DataFrame(activecase)\n",
    "activecase=activecase.reset_index()"
   ]
  },
  {
   "cell_type": "code",
   "execution_count": 109,
   "id": "13fc09d7",
   "metadata": {},
   "outputs": [
    {
     "data": {
      "text/plain": [
       "<AxesSubplot:ylabel='cases and activecases'>"
      ]
     },
     "execution_count": 109,
     "metadata": {},
     "output_type": "execute_result"
    },
    {
     "data": {
      "image/png": "[encoded data removed]",
      "text/plain": [
       "<Figure size 432x288 with 1 Axes>"
      ]
     },
     "metadata": {
      "needs_background": "light"
     },
     "output_type": "display_data"
    }
   ],
   "source": [
    "activecase.plot.barh(ylabel='year',xlabel='cases and activecases')"
   ]
  },
  {
   "cell_type": "code",
   "execution_count": 126,
   "id": "2232324a",
   "metadata": {},
   "outputs": [],
   "source": [
    "x=data['month']\n",
    "y=data['Deaths']"
   ]
  },
  {
   "cell_type": "code",
   "execution_count": 127,
   "id": "4b6e461e",
   "metadata": {},
   "outputs": [],
   "source": [
    "x1=data['month']\n",
    "y1=data['Recovered']"
   ]
  },
  {
   "cell_type": "code",
   "execution_count": 128,
   "id": "324a023d",
   "metadata": {},
   "outputs": [],
   "source": [
    "x3=data['month']\n",
    "y3=data['ActiveCases']"
   ]
  },
  {
   "cell_type": "code",
   "execution_count": 129,
   "id": "ce83f080",
   "metadata": {},
   "outputs": [],
   "source": [
    "x4=data['month']\n",
    "y4=data['Cases']"
   ]
  },
  {
   "cell_type": "code",
   "execution_count": 120,
   "id": "d279f2d3",
   "metadata": {},
   "outputs": [],
   "source": [
    "y=y.astype(int)"
   ]
  },
  {
   "cell_type": "code",
   "execution_count": 141,
   "id": "9849ca23",
   "metadata": {},
   "outputs": [
    {
     "data": {
      "text/plain": [
       "<matplotlib.legend.Legend at 0x2210157c730>"
      ]
     },
     "execution_count": 141,
     "metadata": {},
     "output_type": "execute_result"
    },
    {
     "data": {
      "image/png": "[encoded data removed]",
      "text/plain": [
       "<Figure size 720x432 with 1 Axes>"
      ]
     },
     "metadata": {
      "needs_background": "light"
     },
     "output_type": "display_data"
    }
   ],
   "source": [
    "axes.legend(['label1','label2','label3','label4'])\n",
    "fig,axes=plt.subplots(figsize=(10,6))\n",
    "axes.set_xlabel('month')\n",
    "axes.set_ylabel('cases,activecases,death,recovered')\n",
    "axes.plot(x,y)\n",
    "axes.plot(x1,y1)\n",
    "axes.plot(x3,y3)\n",
    "axes.plot(x4,y4)\n",
    "axes.legend(['death','recovered','activecases','cases'],loc='upper right')"
   ]
  },
  {
   "cell_type": "code",
   "execution_count": null,
   "id": "6c954add",
   "metadata": {},
   "outputs": [],
   "source": []
  },
  {
   "cell_type": "code",
   "execution_count": null,
   "id": "202804e0",
   "metadata": {},
   "outputs": [],
   "source": []
  },
  {
   "cell_type": "code",
   "execution_count": null,
   "id": "37856ea7",
   "metadata": {},
   "outputs": [],
   "source": []
  }
 ],
 "metadata": {
  "kernelspec": {
   "display_name": "Python 3 (ipykernel)",
   "language": "python",
   "name": "python3"
  },
  "language_info": {
   "codemirror_mode": {
    "name": "ipython",
    "version": 3
   },
   "file_extension": ".py",
   "mimetype": "text/x-python",
   "name": "python",
   "nbconvert_exporter": "python",
   "pygments_lexer": "ipython3",
   "version": "3.8.11"
  }
 },
 "nbformat": 4,
 "nbformat_minor": 5
}
