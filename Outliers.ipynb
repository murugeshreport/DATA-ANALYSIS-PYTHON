{
 "cells": [
  {
   "cell_type": "code",
   "execution_count": 1,
   "id": "ec73702d",
   "metadata": {},
   "outputs": [],
   "source": [
    "import pandas as pd\n",
    "import numpy as np\n",
    "import matplotlib.pyplot as plt\n",
    "import seaborn as sns"
   ]
  },
  {
   "cell_type": "code",
   "execution_count": 4,
   "id": "def19be5",
   "metadata": {},
   "outputs": [],
   "source": [
    "data =pd.read_csv(r'C:\\Users\\hp\\Downloads\\Air_Quality.csv')"
   ]
  },
  {
   "cell_type": "code",
   "execution_count": 5,
   "id": "0adda205",
   "metadata": {},
   "outputs": [
    {
     "data": {
      "text/html": [
       "<div>\n",
       "<style scoped>\n",
       "    .dataframe tbody tr th:only-of-type {\n",
       "        vertical-align: middle;\n",
       "    }\n",
       "\n",
       "    .dataframe tbody tr th {\n",
       "        vertical-align: top;\n",
       "    }\n",
       "\n",
       "    .dataframe thead th {\n",
       "        text-align: right;\n",
       "    }\n",
       "</style>\n",
       "<table border=\"1\" class=\"dataframe\">\n",
       "  <thead>\n",
       "    <tr style=\"text-align: right;\">\n",
       "      <th></th>\n",
       "      <th>id</th>\n",
       "      <th>country</th>\n",
       "      <th>state</th>\n",
       "      <th>city</th>\n",
       "      <th>station</th>\n",
       "      <th>pollutant_id</th>\n",
       "      <th>last_update</th>\n",
       "      <th>pollutant_min</th>\n",
       "      <th>pollutant_max</th>\n",
       "      <th>pollutant_avg</th>\n",
       "    </tr>\n",
       "  </thead>\n",
       "  <tbody>\n",
       "    <tr>\n",
       "      <th>0</th>\n",
       "      <td>1</td>\n",
       "      <td>India</td>\n",
       "      <td>Andhra_Pradesh</td>\n",
       "      <td>Amaravati</td>\n",
       "      <td>Secretariat, Amaravati - APPCB</td>\n",
       "      <td>PM2.5</td>\n",
       "      <td>21-10-2021 01:00:00</td>\n",
       "      <td>69.0</td>\n",
       "      <td>109.0</td>\n",
       "      <td>86.0</td>\n",
       "    </tr>\n",
       "    <tr>\n",
       "      <th>1</th>\n",
       "      <td>2</td>\n",
       "      <td>India</td>\n",
       "      <td>Andhra_Pradesh</td>\n",
       "      <td>Amaravati</td>\n",
       "      <td>Secretariat, Amaravati - APPCB</td>\n",
       "      <td>PM10</td>\n",
       "      <td>21-10-2021 01:00:00</td>\n",
       "      <td>82.0</td>\n",
       "      <td>138.0</td>\n",
       "      <td>105.0</td>\n",
       "    </tr>\n",
       "  </tbody>\n",
       "</table>\n",
       "</div>"
      ],
      "text/plain": [
       "   id country           state       city                         station  \\\n",
       "0   1   India  Andhra_Pradesh  Amaravati  Secretariat, Amaravati - APPCB   \n",
       "1   2   India  Andhra_Pradesh  Amaravati  Secretariat, Amaravati - APPCB   \n",
       "\n",
       "  pollutant_id          last_update  pollutant_min  pollutant_max  \\\n",
       "0        PM2.5  21-10-2021 01:00:00           69.0          109.0   \n",
       "1         PM10  21-10-2021 01:00:00           82.0          138.0   \n",
       "\n",
       "   pollutant_avg  \n",
       "0           86.0  \n",
       "1          105.0  "
      ]
     },
     "execution_count": 5,
     "metadata": {},
     "output_type": "execute_result"
    }
   ],
   "source": [
    "data.head(2)"
   ]
  },
  {
   "cell_type": "markdown",
   "id": "2fc1f410",
   "metadata": {},
   "source": [
    "# DISTRIPUTION CHECK"
   ]
  },
  {
   "cell_type": "code",
   "execution_count": 9,
   "id": "b7d7d18b",
   "metadata": {},
   "outputs": [
    {
     "data": {
      "text/plain": [
       "<AxesSubplot:ylabel='Density'>"
      ]
     },
     "execution_count": 9,
     "metadata": {},
     "output_type": "execute_result"
    },
    {
     "data": {
      "image/png": "[encoded data removed]",
      "text/plain": [
       "<Figure size 432x288 with 1 Axes>"
      ]
     },
     "metadata": {
      "needs_background": "light"
     },
     "output_type": "display_data"
    }
   ],
   "source": [
    "sns.distplot(x=data['pollutant_min'])"
   ]
  },
  {
   "cell_type": "markdown",
   "id": "3388961c",
   "metadata": {},
   "source": [
    "# BOX PLOT"
   ]
  },
  {
   "cell_type": "code",
   "execution_count": 6,
   "id": "82e72a5b",
   "metadata": {},
   "outputs": [
    {
     "data": {
      "text/plain": [
       "<AxesSubplot:>"
      ]
     },
     "execution_count": 6,
     "metadata": {},
     "output_type": "execute_result"
    },
    {
     "data": {
      "image/png": "[encoded data removed]",
      "text/plain": [
       "<Figure size 432x288 with 1 Axes>"
      ]
     },
     "metadata": {
      "needs_background": "light"
     },
     "output_type": "display_data"
    }
   ],
   "source": [
    "data.boxplot('pollutant_min')"
   ]
  },
  {
   "cell_type": "markdown",
   "id": "a5b94880",
   "metadata": {},
   "source": [
    "see this outliers"
   ]
  },
  {
   "cell_type": "code",
   "execution_count": 12,
   "id": "44d2098d",
   "metadata": {},
   "outputs": [],
   "source": [
    "low = data['pollutant_min'].quantile(0.25)\n",
    "hight  = data['pollutant_min'].quantile(0.75)"
   ]
  },
  {
   "cell_type": "code",
   "execution_count": 13,
   "id": "665b408a",
   "metadata": {},
   "outputs": [],
   "source": [
    "IQR = hight - low"
   ]
  },
  {
   "cell_type": "code",
   "execution_count": 16,
   "id": "0b9ebb87",
   "metadata": {},
   "outputs": [],
   "source": [
    "highQ = hight + 1.5 *IQR\n",
    "lowQ = low - 1.5 *IQR"
   ]
  },
  {
   "cell_type": "code",
   "execution_count": 17,
   "id": "6689ea0c",
   "metadata": {},
   "outputs": [],
   "source": [
    " data['pollutant_min']=np.where(data['pollutant_min']>highQ,highQ,\n",
    "                               np.where(data['pollutant_min']<lowQ,lowQ,\n",
    "                                       data['pollutant_min']\n",
    "                                       ))"
   ]
  },
  {
   "cell_type": "markdown",
   "id": "bd3876c3",
   "metadata": {},
   "source": [
    "# now see blow plot no outliers"
   ]
  },
  {
   "cell_type": "code",
   "execution_count": 18,
   "id": "8ca248b1",
   "metadata": {},
   "outputs": [
    {
     "data": {
      "text/plain": [
       "<AxesSubplot:>"
      ]
     },
     "execution_count": 18,
     "metadata": {},
     "output_type": "execute_result"
    },
    {
     "data": {
      "image/png": "[encoded data removed]",
      "text/plain": [
       "<Figure size 432x288 with 1 Axes>"
      ]
     },
     "metadata": {
      "needs_background": "light"
     },
     "output_type": "display_data"
    }
   ],
   "source": [
    "data.boxplot('pollutant_min')"
   ]
  },
  {
   "cell_type": "code",
   "execution_count": 19,
   "id": "aaa5cf0d",
   "metadata": {},
   "outputs": [
    {
     "name": "stderr",
     "output_type": "stream",
     "text": [
      "C:\\Users\\hp\\anaconda3\\envs\\tensorflow_env\\lib\\site-packages\\seaborn\\distributions.py:2619: FutureWarning: `distplot` is a deprecated function and will be removed in a future version. Please adapt your code to use either `displot` (a figure-level function with similar flexibility) or `histplot` (an axes-level function for histograms).\n",
      "  warnings.warn(msg, FutureWarning)\n"
     ]
    },
    {
     "data": {
      "text/plain": [
       "<AxesSubplot:ylabel='Density'>"
      ]
     },
     "execution_count": 19,
     "metadata": {},
     "output_type": "execute_result"
    },
    {
     "data": {
      "image/png": "[encoded data removed]",
      "text/plain": [
       "<Figure size 432x288 with 1 Axes>"
      ]
     },
     "metadata": {
      "needs_background": "light"
     },
     "output_type": "display_data"
    }
   ],
   "source": [
    "sns.distplot(x=data['pollutant_min'])"
   ]
  },
  {
   "cell_type": "code",
   "execution_count": null,
   "id": "bf57e1ba",
   "metadata": {},
   "outputs": [],
   "source": []
  }
 ],
 "metadata": {
  "kernelspec": {
   "display_name": "Python 3 (ipykernel)",
   "language": "python",
   "name": "python3"
  },
  "language_info": {
   "codemirror_mode": {
    "name": "ipython",
    "version": 3
   },
   "file_extension": ".py",
   "mimetype": "text/x-python",
   "name": "python",
   "nbconvert_exporter": "python",
   "pygments_lexer": "ipython3",
   "version": "3.8.11"
  }
 },
 "nbformat": 4,
 "nbformat_minor": 5
}
