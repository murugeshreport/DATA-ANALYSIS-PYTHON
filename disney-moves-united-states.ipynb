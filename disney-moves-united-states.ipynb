{
 "cells": [
  {
   "cell_type": "code",
   "execution_count": 1,
   "id": "c1dd72ce",
   "metadata": {
    "_cell_guid": "b1076dfc-b9ad-4769-8c92-a6c4dae69d19",
    "_uuid": "8f2839f25d086af736a60e9eeb907d3b93b6e0e5",
    "execution": {
     "iopub.execute_input": "2021-11-23T10:31:35.754673Z",
     "iopub.status.busy": "2021-11-23T10:31:35.753439Z",
     "iopub.status.idle": "2021-11-23T10:31:35.777161Z",
     "shell.execute_reply": "2021-11-23T10:31:35.777707Z",
     "shell.execute_reply.started": "2021-11-23T08:37:12.831618Z"
    },
    "papermill": {
     "duration": 0.054852,
     "end_time": "2021-11-23T10:31:35.778028",
     "exception": false,
     "start_time": "2021-11-23T10:31:35.723176",
     "status": "completed"
    },
    "tags": []
   },
   "outputs": [
    {
     "name": "stdout",
     "output_type": "stream",
     "text": [
      "/kaggle/input/disney-movies-and-tv-shows/disney_plus_titles.csv\n"
     ]
    }
   ],
   "source": [
    "# This Python 3 environment comes with many helpful analytics libraries installed\n",
    "# It is defined by the kaggle/python Docker image: https://github.com/kaggle/docker-python\n",
    "# For example, here's several helpful packages to load\n",
    "\n",
    "import numpy as np # linear algebra\n",
    "import pandas as pd # data processing, CSV file I/O (e.g. pd.read_csv)\n",
    "\n",
    "# Input data files are available in the read-only \"../input/\" directory\n",
    "# For example, running this (by clicking run or pressing Shift+Enter) will list all files under the input directory\n",
    "\n",
    "import os\n",
    "for dirname, _, filenames in os.walk('/kaggle/input'):\n",
    "    for filename in filenames:\n",
    "        print(os.path.join(dirname, filename))\n",
    "\n",
    "# You can write up to 20GB to the current directory (/kaggle/working/) that gets preserved as output when you create a version using \"Save & Run All\" \n",
    "# You can also write temporary files to /kaggle/temp/, but they won't be saved outside of the current session"
   ]
  },
  {
   "cell_type": "markdown",
   "id": "d8d261c7",
   "metadata": {
    "papermill": {
     "duration": 0.023603,
     "end_time": "2021-11-23T10:31:35.830204",
     "exception": false,
     "start_time": "2021-11-23T10:31:35.806601",
     "status": "completed"
    },
    "tags": []
   },
   "source": [
    "#  ![](https://tse4.mm.bing.net/th?id=OIP.wFNnM0Ao2zQfVgrW3EbpZQHaEC&pid=Api&P=0&w=286&h=155)**United state Disney+**"
   ]
  },
  {
   "cell_type": "code",
   "execution_count": 2,
   "id": "9b781310",
   "metadata": {
    "execution": {
     "iopub.execute_input": "2021-11-23T10:31:35.890730Z",
     "iopub.status.busy": "2021-11-23T10:31:35.890018Z",
     "iopub.status.idle": "2021-11-23T10:31:36.857944Z",
     "shell.execute_reply": "2021-11-23T10:31:36.857260Z",
     "shell.execute_reply.started": "2021-11-23T08:37:12.871856Z"
    },
    "papermill": {
     "duration": 1.00031,
     "end_time": "2021-11-23T10:31:36.858087",
     "exception": false,
     "start_time": "2021-11-23T10:31:35.857777",
     "status": "completed"
    },
    "tags": []
   },
   "outputs": [],
   "source": [
    "import pandas as pd\n",
    "import numpy as np\n",
    "import matplotlib.pyplot as plt\n",
    "import seaborn as sns"
   ]
  },
  {
   "cell_type": "code",
   "execution_count": 3,
   "id": "b031ceed",
   "metadata": {
    "execution": {
     "iopub.execute_input": "2021-11-23T10:31:36.913747Z",
     "iopub.status.busy": "2021-11-23T10:31:36.913033Z",
     "iopub.status.idle": "2021-11-23T10:31:36.944705Z",
     "shell.execute_reply": "2021-11-23T10:31:36.943981Z",
     "shell.execute_reply.started": "2021-11-23T08:37:13.778189Z"
    },
    "papermill": {
     "duration": 0.061521,
     "end_time": "2021-11-23T10:31:36.944935",
     "exception": false,
     "start_time": "2021-11-23T10:31:36.883414",
     "status": "completed"
    },
    "tags": []
   },
   "outputs": [],
   "source": [
    "data = pd.read_csv('../input/disney-movies-and-tv-shows/disney_plus_titles.csv')"
   ]
  },
  {
   "cell_type": "code",
   "execution_count": 4,
   "id": "5db7c540",
   "metadata": {
    "execution": {
     "iopub.execute_input": "2021-11-23T10:31:37.002116Z",
     "iopub.status.busy": "2021-11-23T10:31:37.001280Z",
     "iopub.status.idle": "2021-11-23T10:31:37.029192Z",
     "shell.execute_reply": "2021-11-23T10:31:37.028450Z",
     "shell.execute_reply.started": "2021-11-23T08:37:13.812613Z"
    },
    "papermill": {
     "duration": 0.06018,
     "end_time": "2021-11-23T10:31:37.029357",
     "exception": false,
     "start_time": "2021-11-23T10:31:36.969177",
     "status": "completed"
    },
    "tags": []
   },
   "outputs": [
    {
     "data": {
      "text/html": [
       "<div>\n",
       "<style scoped>\n",
       "    .dataframe tbody tr th:only-of-type {\n",
       "        vertical-align: middle;\n",
       "    }\n",
       "\n",
       "    .dataframe tbody tr th {\n",
       "        vertical-align: top;\n",
       "    }\n",
       "\n",
       "    .dataframe thead th {\n",
       "        text-align: right;\n",
       "    }\n",
       "</style>\n",
       "<table border=\"1\" class=\"dataframe\">\n",
       "  <thead>\n",
       "    <tr style=\"text-align: right;\">\n",
       "      <th></th>\n",
       "      <th>show_id</th>\n",
       "      <th>type</th>\n",
       "      <th>title</th>\n",
       "      <th>director</th>\n",
       "      <th>cast</th>\n",
       "      <th>country</th>\n",
       "      <th>date_added</th>\n",
       "      <th>release_year</th>\n",
       "      <th>rating</th>\n",
       "      <th>duration</th>\n",
       "      <th>listed_in</th>\n",
       "      <th>description</th>\n",
       "    </tr>\n",
       "  </thead>\n",
       "  <tbody>\n",
       "    <tr>\n",
       "      <th>0</th>\n",
       "      <td>s1</td>\n",
       "      <td>Movie</td>\n",
       "      <td>A Spark Story</td>\n",
       "      <td>Jason Sterman, Leanne Dare</td>\n",
       "      <td>Apthon Corbin, Louis Gonzales</td>\n",
       "      <td>NaN</td>\n",
       "      <td>September 24, 2021</td>\n",
       "      <td>2021</td>\n",
       "      <td>TV-PG</td>\n",
       "      <td>88 min</td>\n",
       "      <td>Documentary</td>\n",
       "      <td>Two Pixar filmmakers strive to bring their uni...</td>\n",
       "    </tr>\n",
       "    <tr>\n",
       "      <th>1</th>\n",
       "      <td>s2</td>\n",
       "      <td>Movie</td>\n",
       "      <td>Spooky Buddies</td>\n",
       "      <td>Robert Vince</td>\n",
       "      <td>Tucker Albrizzi, Diedrich Bader, Ameko Eks Mas...</td>\n",
       "      <td>United States, Canada</td>\n",
       "      <td>September 24, 2021</td>\n",
       "      <td>2011</td>\n",
       "      <td>G</td>\n",
       "      <td>93 min</td>\n",
       "      <td>Comedy, Fantasy, Kids</td>\n",
       "      <td>The puppies go on a spooky adventure through a...</td>\n",
       "    </tr>\n",
       "    <tr>\n",
       "      <th>2</th>\n",
       "      <td>s3</td>\n",
       "      <td>Movie</td>\n",
       "      <td>The Fault in Our Stars</td>\n",
       "      <td>Josh Boone</td>\n",
       "      <td>Shailene Woodley, Ansel Elgort, Laura Dern, Sa...</td>\n",
       "      <td>United States</td>\n",
       "      <td>September 24, 2021</td>\n",
       "      <td>2014</td>\n",
       "      <td>PG-13</td>\n",
       "      <td>127 min</td>\n",
       "      <td>Coming of Age, Drama, Romance</td>\n",
       "      <td>Hazel and Gus share a love that sweeps them on...</td>\n",
       "    </tr>\n",
       "    <tr>\n",
       "      <th>3</th>\n",
       "      <td>s4</td>\n",
       "      <td>TV Show</td>\n",
       "      <td>Dog: Impossible</td>\n",
       "      <td>NaN</td>\n",
       "      <td>Matt Beisner</td>\n",
       "      <td>United States</td>\n",
       "      <td>September 22, 2021</td>\n",
       "      <td>2019</td>\n",
       "      <td>TV-PG</td>\n",
       "      <td>2 Seasons</td>\n",
       "      <td>Animals &amp; Nature, Docuseries, Family</td>\n",
       "      <td>Matt Beisner uses unique approaches to modifyi...</td>\n",
       "    </tr>\n",
       "    <tr>\n",
       "      <th>4</th>\n",
       "      <td>s5</td>\n",
       "      <td>TV Show</td>\n",
       "      <td>Spidey And His Amazing Friends</td>\n",
       "      <td>NaN</td>\n",
       "      <td>Benjamin Valic, Lily Sanfelippo, Jakari Fraser...</td>\n",
       "      <td>United States</td>\n",
       "      <td>September 22, 2021</td>\n",
       "      <td>2021</td>\n",
       "      <td>TV-Y</td>\n",
       "      <td>1 Season</td>\n",
       "      <td>Action-Adventure, Animation, Kids</td>\n",
       "      <td>Spidey teams up with pals to become The Spidey...</td>\n",
       "    </tr>\n",
       "    <tr>\n",
       "      <th>...</th>\n",
       "      <td>...</td>\n",
       "      <td>...</td>\n",
       "      <td>...</td>\n",
       "      <td>...</td>\n",
       "      <td>...</td>\n",
       "      <td>...</td>\n",
       "      <td>...</td>\n",
       "      <td>...</td>\n",
       "      <td>...</td>\n",
       "      <td>...</td>\n",
       "      <td>...</td>\n",
       "      <td>...</td>\n",
       "    </tr>\n",
       "    <tr>\n",
       "      <th>1363</th>\n",
       "      <td>s1364</td>\n",
       "      <td>Movie</td>\n",
       "      <td>The Sword in the Stone</td>\n",
       "      <td>Wolfgang Reitherman</td>\n",
       "      <td>Sebastian Cabot, Karl Swenson, Rickie Sorensen...</td>\n",
       "      <td>United States</td>\n",
       "      <td>October 1, 2019</td>\n",
       "      <td>1963</td>\n",
       "      <td>G</td>\n",
       "      <td>80 min</td>\n",
       "      <td>Action-Adventure, Animation, Comedy</td>\n",
       "      <td>Merlin trains a young orphan who's destined to...</td>\n",
       "    </tr>\n",
       "    <tr>\n",
       "      <th>1364</th>\n",
       "      <td>s1365</td>\n",
       "      <td>Movie</td>\n",
       "      <td>Those Calloways</td>\n",
       "      <td>Norman Tokar</td>\n",
       "      <td>Brian Keith, Vera Miles, Brandon de Wilde, Wal...</td>\n",
       "      <td>United States</td>\n",
       "      <td>October 1, 2019</td>\n",
       "      <td>1965</td>\n",
       "      <td>PG</td>\n",
       "      <td>132 min</td>\n",
       "      <td>Animals &amp; Nature, Drama, Family</td>\n",
       "      <td>A strong-willed family struggles to establish ...</td>\n",
       "    </tr>\n",
       "    <tr>\n",
       "      <th>1365</th>\n",
       "      <td>s1366</td>\n",
       "      <td>TV Show</td>\n",
       "      <td>Disney Kirby Buckets</td>\n",
       "      <td>NaN</td>\n",
       "      <td>Jacob Bertrand, Mekai Curtis, Cade Sutton, Oli...</td>\n",
       "      <td>United States</td>\n",
       "      <td>NaN</td>\n",
       "      <td>2014</td>\n",
       "      <td>TV-Y7</td>\n",
       "      <td>3 Seasons</td>\n",
       "      <td>Action-Adventure, Comedy, Coming of Age</td>\n",
       "      <td>Welcome to Kirby's world! It's rude and sketchy.</td>\n",
       "    </tr>\n",
       "    <tr>\n",
       "      <th>1366</th>\n",
       "      <td>s1367</td>\n",
       "      <td>TV Show</td>\n",
       "      <td>Disney Mech-X4</td>\n",
       "      <td>NaN</td>\n",
       "      <td>Nathaniel Potvin, Raymond Cham, Kamran Lucas, ...</td>\n",
       "      <td>Canada</td>\n",
       "      <td>NaN</td>\n",
       "      <td>2016</td>\n",
       "      <td>TV-Y7</td>\n",
       "      <td>2 Seasons</td>\n",
       "      <td>Action-Adventure, Comedy, Science Fiction</td>\n",
       "      <td>Ryan discovers his ability to control a giant ...</td>\n",
       "    </tr>\n",
       "    <tr>\n",
       "      <th>1367</th>\n",
       "      <td>s1368</td>\n",
       "      <td>TV Show</td>\n",
       "      <td>Imagination Movers</td>\n",
       "      <td>NaN</td>\n",
       "      <td>Rich Collins, Dave Poche, Scott Durbin, Scott ...</td>\n",
       "      <td>United States</td>\n",
       "      <td>NaN</td>\n",
       "      <td>2008</td>\n",
       "      <td>TV-Y</td>\n",
       "      <td>3 Seasons</td>\n",
       "      <td>Kids, Music</td>\n",
       "      <td>Rock out with the Imagination Movers, Disney J...</td>\n",
       "    </tr>\n",
       "  </tbody>\n",
       "</table>\n",
       "<p>1368 rows × 12 columns</p>\n",
       "</div>"
      ],
      "text/plain": [
       "     show_id     type                           title  \\\n",
       "0         s1    Movie                   A Spark Story   \n",
       "1         s2    Movie                  Spooky Buddies   \n",
       "2         s3    Movie          The Fault in Our Stars   \n",
       "3         s4  TV Show                 Dog: Impossible   \n",
       "4         s5  TV Show  Spidey And His Amazing Friends   \n",
       "...      ...      ...                             ...   \n",
       "1363   s1364    Movie          The Sword in the Stone   \n",
       "1364   s1365    Movie                 Those Calloways   \n",
       "1365   s1366  TV Show            Disney Kirby Buckets   \n",
       "1366   s1367  TV Show                  Disney Mech-X4   \n",
       "1367   s1368  TV Show              Imagination Movers   \n",
       "\n",
       "                        director  \\\n",
       "0     Jason Sterman, Leanne Dare   \n",
       "1                   Robert Vince   \n",
       "2                     Josh Boone   \n",
       "3                            NaN   \n",
       "4                            NaN   \n",
       "...                          ...   \n",
       "1363         Wolfgang Reitherman   \n",
       "1364                Norman Tokar   \n",
       "1365                         NaN   \n",
       "1366                         NaN   \n",
       "1367                         NaN   \n",
       "\n",
       "                                                   cast  \\\n",
       "0                         Apthon Corbin, Louis Gonzales   \n",
       "1     Tucker Albrizzi, Diedrich Bader, Ameko Eks Mas...   \n",
       "2     Shailene Woodley, Ansel Elgort, Laura Dern, Sa...   \n",
       "3                                          Matt Beisner   \n",
       "4     Benjamin Valic, Lily Sanfelippo, Jakari Fraser...   \n",
       "...                                                 ...   \n",
       "1363  Sebastian Cabot, Karl Swenson, Rickie Sorensen...   \n",
       "1364  Brian Keith, Vera Miles, Brandon de Wilde, Wal...   \n",
       "1365  Jacob Bertrand, Mekai Curtis, Cade Sutton, Oli...   \n",
       "1366  Nathaniel Potvin, Raymond Cham, Kamran Lucas, ...   \n",
       "1367  Rich Collins, Dave Poche, Scott Durbin, Scott ...   \n",
       "\n",
       "                    country          date_added  release_year rating  \\\n",
       "0                       NaN  September 24, 2021          2021  TV-PG   \n",
       "1     United States, Canada  September 24, 2021          2011      G   \n",
       "2             United States  September 24, 2021          2014  PG-13   \n",
       "3             United States  September 22, 2021          2019  TV-PG   \n",
       "4             United States  September 22, 2021          2021   TV-Y   \n",
       "...                     ...                 ...           ...    ...   \n",
       "1363          United States     October 1, 2019          1963      G   \n",
       "1364          United States     October 1, 2019          1965     PG   \n",
       "1365          United States                 NaN          2014  TV-Y7   \n",
       "1366                 Canada                 NaN          2016  TV-Y7   \n",
       "1367          United States                 NaN          2008   TV-Y   \n",
       "\n",
       "       duration                                  listed_in  \\\n",
       "0        88 min                                Documentary   \n",
       "1        93 min                      Comedy, Fantasy, Kids   \n",
       "2       127 min              Coming of Age, Drama, Romance   \n",
       "3     2 Seasons       Animals & Nature, Docuseries, Family   \n",
       "4      1 Season          Action-Adventure, Animation, Kids   \n",
       "...         ...                                        ...   \n",
       "1363     80 min        Action-Adventure, Animation, Comedy   \n",
       "1364    132 min            Animals & Nature, Drama, Family   \n",
       "1365  3 Seasons    Action-Adventure, Comedy, Coming of Age   \n",
       "1366  2 Seasons  Action-Adventure, Comedy, Science Fiction   \n",
       "1367  3 Seasons                                Kids, Music   \n",
       "\n",
       "                                            description  \n",
       "0     Two Pixar filmmakers strive to bring their uni...  \n",
       "1     The puppies go on a spooky adventure through a...  \n",
       "2     Hazel and Gus share a love that sweeps them on...  \n",
       "3     Matt Beisner uses unique approaches to modifyi...  \n",
       "4     Spidey teams up with pals to become The Spidey...  \n",
       "...                                                 ...  \n",
       "1363  Merlin trains a young orphan who's destined to...  \n",
       "1364  A strong-willed family struggles to establish ...  \n",
       "1365   Welcome to Kirby's world! It's rude and sketchy.  \n",
       "1366  Ryan discovers his ability to control a giant ...  \n",
       "1367  Rock out with the Imagination Movers, Disney J...  \n",
       "\n",
       "[1368 rows x 12 columns]"
      ]
     },
     "execution_count": 4,
     "metadata": {},
     "output_type": "execute_result"
    }
   ],
   "source": [
    "data"
   ]
  },
  {
   "cell_type": "code",
   "execution_count": 5,
   "id": "3f9d849b",
   "metadata": {
    "execution": {
     "iopub.execute_input": "2021-11-23T10:31:37.088188Z",
     "iopub.status.busy": "2021-11-23T10:31:37.087458Z",
     "iopub.status.idle": "2021-11-23T10:31:37.093012Z",
     "shell.execute_reply": "2021-11-23T10:31:37.093627Z",
     "shell.execute_reply.started": "2021-11-23T08:37:13.848003Z"
    },
    "papermill": {
     "duration": 0.03411,
     "end_time": "2021-11-23T10:31:37.093863",
     "exception": false,
     "start_time": "2021-11-23T10:31:37.059753",
     "status": "completed"
    },
    "tags": []
   },
   "outputs": [
    {
     "data": {
      "text/plain": [
       "Index(['show_id', 'type', 'title', 'director', 'cast', 'country', 'date_added',\n",
       "       'release_year', 'rating', 'duration', 'listed_in', 'description'],\n",
       "      dtype='object')"
      ]
     },
     "execution_count": 5,
     "metadata": {},
     "output_type": "execute_result"
    }
   ],
   "source": [
    "data.columns"
   ]
  },
  {
   "cell_type": "markdown",
   "id": "27259121",
   "metadata": {
    "papermill": {
     "duration": 0.02551,
     "end_time": "2021-11-23T10:31:37.147456",
     "exception": false,
     "start_time": "2021-11-23T10:31:37.121946",
     "status": "completed"
    },
    "tags": []
   },
   "source": [
    "# Replace correct country name"
   ]
  },
  {
   "cell_type": "code",
   "execution_count": 6,
   "id": "409a186a",
   "metadata": {
    "execution": {
     "iopub.execute_input": "2021-11-23T10:31:37.200776Z",
     "iopub.status.busy": "2021-11-23T10:31:37.200097Z",
     "iopub.status.idle": "2021-11-23T10:31:37.213716Z",
     "shell.execute_reply": "2021-11-23T10:31:37.214308Z",
     "shell.execute_reply.started": "2021-11-23T08:37:13.855528Z"
    },
    "papermill": {
     "duration": 0.041932,
     "end_time": "2021-11-23T10:31:37.214488",
     "exception": false,
     "start_time": "2021-11-23T10:31:37.172556",
     "status": "completed"
    },
    "tags": []
   },
   "outputs": [],
   "source": [
    "data['country'].replace({'United States, Canada':'Canada','United States, United Kingdom':'United Kingdom','Canada, United States':'Canada','United Kingdom, United States, Canada':'Canada','United States, Germany, Ireland, United Kingdom':'Germany,ireland','United States, United Kingdom, South Africa':'South Africa','New Zealand, United States':'New Zealand','United Kingdom, United States':'United Kingdom','United States, Australia':'Australia','United States, Japan':'Japan','France, United Kingdom, United States':'France','United Kingdom, United States, Ireland':'Ireland','Ireland, United Kingdom, United States, South Korea, Canada':'South Korea','United States, France':'France','United States, Ireland':'Ireland','United States, United Kingdom, Hungary':'Hungary','United States, South Korea, France':'France','United States, Australia, France, Canada':'Canada'},inplace=True)\n"
   ]
  },
  {
   "cell_type": "code",
   "execution_count": 7,
   "id": "e6e79a64",
   "metadata": {
    "execution": {
     "iopub.execute_input": "2021-11-23T10:31:37.267921Z",
     "iopub.status.busy": "2021-11-23T10:31:37.267240Z",
     "iopub.status.idle": "2021-11-23T10:31:37.275343Z",
     "shell.execute_reply": "2021-11-23T10:31:37.275877Z",
     "shell.execute_reply.started": "2021-11-23T08:37:13.875002Z"
    },
    "papermill": {
     "duration": 0.03646,
     "end_time": "2021-11-23T10:31:37.276044",
     "exception": false,
     "start_time": "2021-11-23T10:31:37.239584",
     "status": "completed"
    },
    "tags": []
   },
   "outputs": [],
   "source": [
    "data['country'].replace({'United States, United Kingdom, Australia':'Australia','Australia, United States':'Austalia','United States, United Kingdom, Canada':'Canada','United States, South Korea':'South Korea','United States, United Kingdom, Australia':'Australia','United States, United Kingdom, Canada':'Canada','United States, South Korea':'South Korea','United Kingdom, Germany, United States':'Germany','United States, Mexico':'Mexico','United States, Germany, United Kingdom':'Germany','United States, New Zealand':'New Zealand','France, United States':'France','United Kingdom, China, United States':'China','United Kingdom, Canada, United States':'Canada','United Kingdom, Germany':'Germany','United States, United Kingdom, South Korea':'South Korea'},inplace=True)"
   ]
  },
  {
   "cell_type": "code",
   "execution_count": 8,
   "id": "c0d1c2f8",
   "metadata": {
    "execution": {
     "iopub.execute_input": "2021-11-23T10:31:37.334327Z",
     "iopub.status.busy": "2021-11-23T10:31:37.328380Z",
     "iopub.status.idle": "2021-11-23T10:31:37.344912Z",
     "shell.execute_reply": "2021-11-23T10:31:37.345494Z",
     "shell.execute_reply.started": "2021-11-23T08:37:13.886974Z"
    },
    "papermill": {
     "duration": 0.044702,
     "end_time": "2021-11-23T10:31:37.345666",
     "exception": false,
     "start_time": "2021-11-23T10:31:37.300964",
     "status": "completed"
    },
    "tags": []
   },
   "outputs": [],
   "source": [
    "data['country'].replace({'United States, Philippines, South Korea':'South Korea','United States, Panama, Mexico':'Mexico','Germany, United States':'Germany','United States, United Kingdom, Australia, Canada':'Australia','United States, Angola, Botswana, Namibia, South Africa':'South Africa','Canada, United States, United Kingdom, France, Luxembourg':'France','Tanzania, United States':'Tanzania','United States, Guatemala':'Guatemala','United States, Denmark':'Denmark','United States, Hong Kong, South Korea, France, Canada, China, United Kingdom, Australia, Japan, Taiwan, Philippines':'Japan','United States, South Korea, Singapore, Russia, Malaysia, Kazakhstan, Taiwan, Hong Kong, Japan, China, India, Syria, Iran, Egypt, Pakistan':'Pakistan','United States, Canada, Australia':'Canada','United States, South Korea, China, Taiwan':'Taiwan','United States, Taiwan, China':'China','Ireland, United States':'Ireland','France, Japan':'Japan','Norway, Sweden, United States':'Sweden','China, Hong Kong, United States':'China','Germany,ireland':'Germany','United States, Canada, Australia, Taiwan':'Canada','United States, Poland, Slovenia, Czech Republic, United Kingdom':'Poland','France, Canada, United States':'France','United States, Hungary, United Kingdom':'Hungary','United States, Taiwan, South Korea, China, Japan, United Kingdom':'Japan','United States, India, United Kingdom':'India','Canada, Malaysia, United States':'Canada','France, Switzerland, Spain, United States, United Arab Emirates':'United Arab','United Kingdom, United States, France':'France'\n",
    ",'United Kingdom, Australia':'Australia','South Korea, United States, China, Japan':'Japan','Argentina, Mexico':'Mexico','United States, Canada, Hong Kong':'Hong Kong','United States, United Kingdom, Belgium, Canada':'Canada','United Kingdom, United States, Canada, Ireland':'Ireland',\n",
    "                        'Austria, South Africa':'Africa',                                                     \n",
    "'United States, Brazil':'Brazil',                                                      \n",
    "'United States, Canada, Ireland':'Ireland',                                            \n",
    "'Australia, United Kingdom':'Australia',                                                \n",
    "'United States, Canada, United Kingdom, Singapore, Australia, Thailand':'Thailand',     \n",
    "'United States, India':'India',                                                      \n",
    "'France, United Kingdom':'France',                                                   \n",
    "'United States, Germany':'Germany',                                                   \n",
    "'United States, Spain, France, Canada, United Kingdom':'Canada',                     \n",
    "'France, South Korea, Japan, United States':'Japan',\n",
    "                        'Austria, United Kingdom, United States':'Austria' },inplace=True)"
   ]
  },
  {
   "cell_type": "markdown",
   "id": "623cbc74",
   "metadata": {
    "papermill": {
     "duration": 0.024644,
     "end_time": "2021-11-23T10:31:37.395137",
     "exception": false,
     "start_time": "2021-11-23T10:31:37.370493",
     "status": "completed"
    },
    "tags": []
   },
   "source": [
    "# United State Perticipate Disney+"
   ]
  },
  {
   "cell_type": "code",
   "execution_count": 9,
   "id": "ab69d571",
   "metadata": {
    "execution": {
     "iopub.execute_input": "2021-11-23T10:31:37.449404Z",
     "iopub.status.busy": "2021-11-23T10:31:37.448726Z",
     "iopub.status.idle": "2021-11-23T10:31:37.459234Z",
     "shell.execute_reply": "2021-11-23T10:31:37.459823Z",
     "shell.execute_reply.started": "2021-11-23T08:37:13.912827Z"
    },
    "papermill": {
     "duration": 0.03933,
     "end_time": "2021-11-23T10:31:37.459999",
     "exception": false,
     "start_time": "2021-11-23T10:31:37.420669",
     "status": "completed"
    },
    "tags": []
   },
   "outputs": [],
   "source": [
    "country=data['country'].value_counts().reset_index()"
   ]
  },
  {
   "cell_type": "code",
   "execution_count": 10,
   "id": "b33ffd00",
   "metadata": {
    "execution": {
     "iopub.execute_input": "2021-11-23T10:31:37.514596Z",
     "iopub.status.busy": "2021-11-23T10:31:37.513944Z",
     "iopub.status.idle": "2021-11-23T10:31:37.517481Z",
     "shell.execute_reply": "2021-11-23T10:31:37.518003Z",
     "shell.execute_reply.started": "2021-11-23T08:37:13.928829Z"
    },
    "papermill": {
     "duration": 0.032316,
     "end_time": "2021-11-23T10:31:37.518170",
     "exception": false,
     "start_time": "2021-11-23T10:31:37.485854",
     "status": "completed"
    },
    "tags": []
   },
   "outputs": [],
   "source": [
    "country.columns=['country','counts']"
   ]
  },
  {
   "cell_type": "code",
   "execution_count": 11,
   "id": "d5e4a14b",
   "metadata": {
    "execution": {
     "iopub.execute_input": "2021-11-23T10:31:37.575505Z",
     "iopub.status.busy": "2021-11-23T10:31:37.574814Z",
     "iopub.status.idle": "2021-11-23T10:31:38.483196Z",
     "shell.execute_reply": "2021-11-23T10:31:38.483709Z",
     "shell.execute_reply.started": "2021-11-23T08:37:13.940939Z"
    },
    "papermill": {
     "duration": 0.939405,
     "end_time": "2021-11-23T10:31:38.483908",
     "exception": false,
     "start_time": "2021-11-23T10:31:37.544503",
     "status": "completed"
    },
    "tags": []
   },
   "outputs": [
    {
     "data": {
      "image/png": "[encoded data removed]",
      "text/plain": [
       "<Figure size 1440x480 with 1 Axes>"
      ]
     },
     "metadata": {
      "needs_background": "light"
     },
     "output_type": "display_data"
    }
   ],
   "source": [
    "color=['Maroon','Olive','Green','#F08080']\n",
    "fig = plt.figure(figsize=(12,4),dpi=120)\n",
    "m=sns.barplot(x=country['country'],y=country['counts'],linewidth=50,ci=None,data=data,palette=color)\n",
    "plt.tick_params(axis='x',labelsize=10,labelrotation=90)\n",
    "plt.tick_params(axis = 'y',left = False,labelleft=False)\n",
    "plt.xlabel('Country',weight='semibold')\n",
    "plt.title('Number of Peticipate Per Country',weight='bold',fontname='Arial Black')\n",
    "plt.text(12.5,980,'With United State Peticipate',fontsize=12,fontname='Times New Roman')\n",
    "for index,row in country.iterrows():\n",
    "    m.text(row.name,row.counts,round(row.counts),ha='center',fontsize=8)\n",
    "    \n"
   ]
  },
  {
   "cell_type": "markdown",
   "id": "e4eb0bdc",
   "metadata": {
    "papermill": {
     "duration": 0.027453,
     "end_time": "2021-11-23T10:31:38.538830",
     "exception": false,
     "start_time": "2021-11-23T10:31:38.511377",
     "status": "completed"
    },
    "tags": []
   },
   "source": [
    "see that rank of united state **1 place** participate disney+"
   ]
  },
  {
   "cell_type": "markdown",
   "id": "5b34afb7",
   "metadata": {
    "papermill": {
     "duration": 0.027053,
     "end_time": "2021-11-23T10:31:38.593751",
     "exception": false,
     "start_time": "2021-11-23T10:31:38.566698",
     "status": "completed"
    },
    "tags": []
   },
   "source": [
    "# Yealy release Rank United States"
   ]
  },
  {
   "cell_type": "code",
   "execution_count": 12,
   "id": "29c5600c",
   "metadata": {
    "execution": {
     "iopub.execute_input": "2021-11-23T10:31:38.657397Z",
     "iopub.status.busy": "2021-11-23T10:31:38.656685Z",
     "iopub.status.idle": "2021-11-23T10:31:38.665942Z",
     "shell.execute_reply": "2021-11-23T10:31:38.665257Z",
     "shell.execute_reply.started": "2021-11-23T08:37:14.857290Z"
    },
    "papermill": {
     "duration": 0.044069,
     "end_time": "2021-11-23T10:31:38.666118",
     "exception": false,
     "start_time": "2021-11-23T10:31:38.622049",
     "status": "completed"
    },
    "tags": []
   },
   "outputs": [],
   "source": [
    "rank = data.groupby(['country', 'release_year']).agg('count').reset_index()"
   ]
  },
  {
   "cell_type": "code",
   "execution_count": 13,
   "id": "3b8a1394",
   "metadata": {
    "execution": {
     "iopub.execute_input": "2021-11-23T10:31:38.735823Z",
     "iopub.status.busy": "2021-11-23T10:31:38.735086Z",
     "iopub.status.idle": "2021-11-23T10:31:38.745150Z",
     "shell.execute_reply": "2021-11-23T10:31:38.745639Z",
     "shell.execute_reply.started": "2021-11-23T08:37:14.871842Z"
    },
    "papermill": {
     "duration": 0.046409,
     "end_time": "2021-11-23T10:31:38.745891",
     "exception": false,
     "start_time": "2021-11-23T10:31:38.699482",
     "status": "completed"
    },
    "tags": []
   },
   "outputs": [],
   "source": [
    "rank['rank'] =rank['rating'].rank(method='dense',ascending=False).astype(int)"
   ]
  },
  {
   "cell_type": "code",
   "execution_count": 14,
   "id": "f4084bdc",
   "metadata": {
    "execution": {
     "iopub.execute_input": "2021-11-23T10:31:38.808579Z",
     "iopub.status.busy": "2021-11-23T10:31:38.807574Z",
     "iopub.status.idle": "2021-11-23T10:31:38.814012Z",
     "shell.execute_reply": "2021-11-23T10:31:38.814533Z",
     "shell.execute_reply.started": "2021-11-23T08:37:14.887193Z"
    },
    "papermill": {
     "duration": 0.041495,
     "end_time": "2021-11-23T10:31:38.814702",
     "exception": false,
     "start_time": "2021-11-23T10:31:38.773207",
     "status": "completed"
    },
    "tags": []
   },
   "outputs": [],
   "source": [
    "rank=rank[(rank['country']=='United States')]\n",
    "rankchart = rank[['release_year','rating','rank']]\n",
    "x=rankchart['release_year']\n",
    "y=rankchart['rating']\n",
    "x1=rankchart['release_year']\n",
    "y1=rankchart['rank']"
   ]
  },
  {
   "cell_type": "code",
   "execution_count": 15,
   "id": "2d7953f7",
   "metadata": {
    "execution": {
     "iopub.execute_input": "2021-11-23T10:31:38.874882Z",
     "iopub.status.busy": "2021-11-23T10:31:38.873884Z",
     "iopub.status.idle": "2021-11-23T10:31:39.407371Z",
     "shell.execute_reply": "2021-11-23T10:31:39.407930Z",
     "shell.execute_reply.started": "2021-11-23T08:39:34.120264Z"
    },
    "papermill": {
     "duration": 0.56529,
     "end_time": "2021-11-23T10:31:39.408108",
     "exception": false,
     "start_time": "2021-11-23T10:31:38.842818",
     "status": "completed"
    },
    "tags": []
   },
   "outputs": [
    {
     "data": {
      "text/plain": [
       "<matplotlib.legend.Legend at 0x7fe77327d550>"
      ]
     },
     "execution_count": 15,
     "metadata": {},
     "output_type": "execute_result"
    },
    {
     "data": {
      "image/png": "[encoded data removed]",
      "text/plain": [
       "<Figure size 936x360 with 1 Axes>"
      ]
     },
     "metadata": {
      "needs_background": "light"
     },
     "output_type": "display_data"
    }
   ],
   "source": [
    "ax,legend = (['l1','l2'])\n",
    "fig,ax = plt.subplots(figsize=(13,5))\n",
    "ax.bar(x,y,color=color)\n",
    "ax.plot(x1,y1,marker = 'o',color='red')\n",
    "ax.set_xlabel('Year',weight='semibold')\n",
    "ax.set_title('Yearly Release Disney+ Rank and Rating 1928-2021',weight='bold',fontname='Arial Black')\n",
    "ax.legend(['Rating','Rank'])"
   ]
  },
  {
   "cell_type": "markdown",
   "id": "d8d7cb3e",
   "metadata": {
    "papermill": {
     "duration": 0.028673,
     "end_time": "2021-11-23T10:31:39.465957",
     "exception": false,
     "start_time": "2021-11-23T10:31:39.437284",
     "status": "completed"
    },
    "tags": []
   },
   "source": [
    "# How to Paticipate USA compare with Other Countrys"
   ]
  },
  {
   "cell_type": "code",
   "execution_count": 16,
   "id": "8626b3e6",
   "metadata": {
    "execution": {
     "iopub.execute_input": "2021-11-23T10:31:39.531500Z",
     "iopub.status.busy": "2021-11-23T10:31:39.527346Z",
     "iopub.status.idle": "2021-11-23T10:31:39.541077Z",
     "shell.execute_reply": "2021-11-23T10:31:39.541597Z",
     "shell.execute_reply.started": "2021-11-23T08:55:08.488485Z"
    },
    "papermill": {
     "duration": 0.046577,
     "end_time": "2021-11-23T10:31:39.541807",
     "exception": false,
     "start_time": "2021-11-23T10:31:39.495230",
     "status": "completed"
    },
    "tags": []
   },
   "outputs": [],
   "source": [
    "us = data[(data['country']=='United States')]\n",
    "us =us['type'].value_counts().reset_index()\n",
    "ca = data[(data['country']=='Canada')]\n",
    "ca = ca['type'].value_counts().reset_index()\n",
    "fa = data[(data['country']=='France')]\n",
    "fa=fa['type'].value_counts().reset_index()"
   ]
  },
  {
   "cell_type": "code",
   "execution_count": 17,
   "id": "b96dc955",
   "metadata": {
    "execution": {
     "iopub.execute_input": "2021-11-23T10:31:39.604436Z",
     "iopub.status.busy": "2021-11-23T10:31:39.603747Z",
     "iopub.status.idle": "2021-11-23T10:31:39.873379Z",
     "shell.execute_reply": "2021-11-23T10:31:39.872731Z",
     "shell.execute_reply.started": "2021-11-23T09:41:07.374552Z"
    },
    "papermill": {
     "duration": 0.30197,
     "end_time": "2021-11-23T10:31:39.873524",
     "exception": false,
     "start_time": "2021-11-23T10:31:39.571554",
     "status": "completed"
    },
    "tags": []
   },
   "outputs": [
    {
     "data": {
      "text/plain": [
       "Text(0.1, 1.5, 'How To Participate United States Compare With Canada and France')"
      ]
     },
     "execution_count": 17,
     "metadata": {},
     "output_type": "execute_result"
    },
    {
     "data": {
      "image/png": "[encoded data removed]",
      "text/plain": [
       "<Figure size 864x288 with 3 Axes>"
      ]
     },
     "metadata": {},
     "output_type": "display_data"
    }
   ],
   "source": [
    "ax,legend=(['l1','l2'])\n",
    "fig,ax =plt.subplots(1,3,figsize=(12,4))\n",
    "ax[0].pie(us['type'],colors=color,autopct='%1.1f%%')\n",
    "ax[0].text(1,1,'United States',weight = 'semibold')\n",
    "ax[1].pie(ca['type'],colors=color,autopct='%1.1f%%')\n",
    "ax[1].text(1,1,'Canada',weight='semibold')\n",
    "ax[2].pie(fa['type'],colors=color,autopct='%1.1f%%')\n",
    "ax[2].text(1,1,'France',weight='semibold')\n",
    "ax[0].text(0.1,1.5,'How To Participate United States Compare With Canada and France',weight='bold',fontname='Arial Black',fontsize=15)"
   ]
  },
  {
   "cell_type": "markdown",
   "id": "cf9b8bac",
   "metadata": {
    "papermill": {
     "duration": 0.029977,
     "end_time": "2021-11-23T10:31:39.933626",
     "exception": false,
     "start_time": "2021-11-23T10:31:39.903649",
     "status": "completed"
    },
    "tags": []
   },
   "source": [
    "# "
   ]
  },
  {
   "cell_type": "markdown",
   "id": "18102da9",
   "metadata": {
    "papermill": {
     "duration": 0.030887,
     "end_time": "2021-11-23T10:31:39.994625",
     "exception": false,
     "start_time": "2021-11-23T10:31:39.963738",
     "status": "completed"
    },
    "tags": []
   },
   "source": [
    "# Duration Time United States Compare with Other Countrys"
   ]
  },
  {
   "cell_type": "code",
   "execution_count": 18,
   "id": "5a6e820c",
   "metadata": {
    "execution": {
     "iopub.execute_input": "2021-11-23T10:31:40.067262Z",
     "iopub.status.busy": "2021-11-23T10:31:40.066530Z",
     "iopub.status.idle": "2021-11-23T10:31:40.069552Z",
     "shell.execute_reply": "2021-11-23T10:31:40.068850Z",
     "shell.execute_reply.started": "2021-11-23T09:49:53.197893Z"
    },
    "papermill": {
     "duration": 0.044447,
     "end_time": "2021-11-23T10:31:40.069722",
     "exception": false,
     "start_time": "2021-11-23T10:31:40.025275",
     "status": "completed"
    },
    "tags": []
   },
   "outputs": [],
   "source": [
    "data[['mint','str']]=data['duration'].str.split(' ',expand=True)"
   ]
  },
  {
   "cell_type": "code",
   "execution_count": 19,
   "id": "75c70016",
   "metadata": {
    "execution": {
     "iopub.execute_input": "2021-11-23T10:31:40.137739Z",
     "iopub.status.busy": "2021-11-23T10:31:40.137085Z",
     "iopub.status.idle": "2021-11-23T10:31:40.139595Z",
     "shell.execute_reply": "2021-11-23T10:31:40.139085Z",
     "shell.execute_reply.started": "2021-11-23T09:50:38.835365Z"
    },
    "papermill": {
     "duration": 0.039204,
     "end_time": "2021-11-23T10:31:40.139737",
     "exception": false,
     "start_time": "2021-11-23T10:31:40.100533",
     "status": "completed"
    },
    "tags": []
   },
   "outputs": [],
   "source": [
    "data['mint']=data['mint'].astype(int)"
   ]
  },
  {
   "cell_type": "code",
   "execution_count": 20,
   "id": "60a7d1d8",
   "metadata": {
    "execution": {
     "iopub.execute_input": "2021-11-23T10:31:40.203466Z",
     "iopub.status.busy": "2021-11-23T10:31:40.202827Z",
     "iopub.status.idle": "2021-11-23T10:31:40.211551Z",
     "shell.execute_reply": "2021-11-23T10:31:40.212117Z",
     "shell.execute_reply.started": "2021-11-23T09:54:23.733329Z"
    },
    "papermill": {
     "duration": 0.041988,
     "end_time": "2021-11-23T10:31:40.212291",
     "exception": false,
     "start_time": "2021-11-23T10:31:40.170303",
     "status": "completed"
    },
    "tags": []
   },
   "outputs": [],
   "source": [
    "timeduration = data.groupby(['country'])['mint'].sum().reset_index()"
   ]
  },
  {
   "cell_type": "code",
   "execution_count": 21,
   "id": "2a2ebacc",
   "metadata": {
    "execution": {
     "iopub.execute_input": "2021-11-23T10:31:40.275967Z",
     "iopub.status.busy": "2021-11-23T10:31:40.274976Z",
     "iopub.status.idle": "2021-11-23T10:31:40.279426Z",
     "shell.execute_reply": "2021-11-23T10:31:40.279984Z",
     "shell.execute_reply.started": "2021-11-23T09:56:20.738295Z"
    },
    "papermill": {
     "duration": 0.038016,
     "end_time": "2021-11-23T10:31:40.280160",
     "exception": false,
     "start_time": "2021-11-23T10:31:40.242144",
     "status": "completed"
    },
    "tags": []
   },
   "outputs": [],
   "source": [
    "timeduration=timeduration.sort_values('mint')"
   ]
  },
  {
   "cell_type": "code",
   "execution_count": 22,
   "id": "09bbdf17",
   "metadata": {
    "execution": {
     "iopub.execute_input": "2021-11-23T10:31:40.345697Z",
     "iopub.status.busy": "2021-11-23T10:31:40.344827Z",
     "iopub.status.idle": "2021-11-23T10:31:40.904298Z",
     "shell.execute_reply": "2021-11-23T10:31:40.904932Z",
     "shell.execute_reply.started": "2021-11-23T10:05:40.147020Z"
    },
    "papermill": {
     "duration": 0.594344,
     "end_time": "2021-11-23T10:31:40.905123",
     "exception": false,
     "start_time": "2021-11-23T10:31:40.310779",
     "status": "completed"
    },
    "tags": []
   },
   "outputs": [
    {
     "data": {
      "text/plain": [
       "Text(0.5, 1.0, 'Duration Time United States Compare With Other Countrys')"
      ]
     },
     "execution_count": 22,
     "metadata": {},
     "output_type": "execute_result"
    },
    {
     "data": {
      "image/png": "[encoded data removed]",
      "text/plain": [
       "<Figure size 864x504 with 1 Axes>"
      ]
     },
     "metadata": {
      "needs_background": "light"
     },
     "output_type": "display_data"
    }
   ],
   "source": [
    "fig = plt.figure(figsize=(12,7))\n",
    "sns.barplot(x=timeduration['mint'],y=timeduration['country'],palette=color)\n",
    "plt.tick_params(axis ='x',labelsize=2)\n",
    "plt.title('Duration Time United States Compare With Other Countrys',fontname='Arial Black',weight='bold',fontsize=15)"
   ]
  },
  {
   "cell_type": "markdown",
   "id": "f0f55b70",
   "metadata": {
    "papermill": {
     "duration": 0.031633,
     "end_time": "2021-11-23T10:31:40.969056",
     "exception": false,
     "start_time": "2021-11-23T10:31:40.937423",
     "status": "completed"
    },
    "tags": []
   },
   "source": [
    "# # **Most of Participate United States Disney+\n",
    "# # Moive,Tv Show all rank is high performance of United States\n",
    "# # # Time duration Also very high rank.**"
   ]
  },
  {
   "cell_type": "code",
   "execution_count": null,
   "id": "b978f482",
   "metadata": {
    "papermill": {
     "duration": 0.032919,
     "end_time": "2021-11-23T10:31:41.034402",
     "exception": false,
     "start_time": "2021-11-23T10:31:41.001483",
     "status": "completed"
    },
    "tags": []
   },
   "outputs": [],
   "source": []
  }
 ],
 "metadata": {
  "kernelspec": {
   "display_name": "Python 3",
   "language": "python",
   "name": "python3"
  },
  "language_info": {
   "codemirror_mode": {
    "name": "ipython",
    "version": 3
   },
   "file_extension": ".py",
   "mimetype": "text/x-python",
   "name": "python",
   "nbconvert_exporter": "python",
   "pygments_lexer": "ipython3",
   "version": "3.7.10"
  },
  "papermill": {
   "default_parameters": {},
   "duration": 16.122012,
   "end_time": "2021-11-23T10:31:41.779172",
   "environment_variables": {},
   "exception": null,
   "input_path": "__notebook__.ipynb",
   "output_path": "__notebook__.ipynb",
   "parameters": {},
   "start_time": "2021-11-23T10:31:25.657160",
   "version": "2.3.3"
  }
 },
 "nbformat": 4,
 "nbformat_minor": 5
}
