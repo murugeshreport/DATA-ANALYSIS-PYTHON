{
 "cells": [
  {
   "cell_type": "markdown",
   "id": "8d691ca0",
   "metadata": {
    "papermill": {
     "duration": 0.024642,
     "end_time": "2022-01-06T08:57:43.397119",
     "exception": false,
     "start_time": "2022-01-06T08:57:43.372477",
     "status": "completed"
    },
    "tags": []
   },
   "source": [
    "# # SUPERMARKET ANALYSIS"
   ]
  },
  {
   "cell_type": "markdown",
   "id": "990ae2cf",
   "metadata": {
    "papermill": {
     "duration": 0.022193,
     "end_time": "2022-01-06T08:57:43.442103",
     "exception": false,
     "start_time": "2022-01-06T08:57:43.419910",
     "status": "completed"
    },
    "tags": []
   },
   "source": [
    "![](https://thumbs.dreamstime.com/b/shopping-cart-supermarket-empty-shelves-40320116.jpg)"
   ]
  },
  {
   "cell_type": "code",
   "execution_count": 1,
   "id": "1b3bbeff",
   "metadata": {
    "execution": {
     "iopub.execute_input": "2022-01-06T08:57:43.498859Z",
     "iopub.status.busy": "2022-01-06T08:57:43.498113Z",
     "iopub.status.idle": "2022-01-06T08:57:44.609589Z",
     "shell.execute_reply": "2022-01-06T08:57:44.608911Z",
     "shell.execute_reply.started": "2022-01-06T08:41:31.726781Z"
    },
    "papermill": {
     "duration": 1.145249,
     "end_time": "2022-01-06T08:57:44.609770",
     "exception": false,
     "start_time": "2022-01-06T08:57:43.464521",
     "status": "completed"
    },
    "tags": []
   },
   "outputs": [],
   "source": [
    "import pandas as pd\n",
    "import numpy as np\n",
    "import seaborn as sns\n",
    "import matplotlib.pyplot as plt"
   ]
  },
  {
   "cell_type": "code",
   "execution_count": 2,
   "id": "8c113e00",
   "metadata": {
    "execution": {
     "iopub.execute_input": "2022-01-06T08:57:44.662007Z",
     "iopub.status.busy": "2022-01-06T08:57:44.661355Z",
     "iopub.status.idle": "2022-01-06T08:57:44.691655Z",
     "shell.execute_reply": "2022-01-06T08:57:44.692113Z",
     "shell.execute_reply.started": "2022-01-06T08:41:32.844330Z"
    },
    "papermill": {
     "duration": 0.06007,
     "end_time": "2022-01-06T08:57:44.692321",
     "exception": false,
     "start_time": "2022-01-06T08:57:44.632251",
     "status": "completed"
    },
    "tags": []
   },
   "outputs": [],
   "source": [
    "data  = pd.read_csv('../input/supermarket-sales/supermarket_sales - Sheet1.csv')"
   ]
  },
  {
   "cell_type": "code",
   "execution_count": 3,
   "id": "a2040c2a",
   "metadata": {
    "execution": {
     "iopub.execute_input": "2022-01-06T08:57:44.741460Z",
     "iopub.status.busy": "2022-01-06T08:57:44.740840Z",
     "iopub.status.idle": "2022-01-06T08:57:44.769792Z",
     "shell.execute_reply": "2022-01-06T08:57:44.769157Z",
     "shell.execute_reply.started": "2022-01-06T08:41:32.868910Z"
    },
    "papermill": {
     "duration": 0.054914,
     "end_time": "2022-01-06T08:57:44.769927",
     "exception": false,
     "start_time": "2022-01-06T08:57:44.715013",
     "status": "completed"
    },
    "tags": []
   },
   "outputs": [
    {
     "data": {
      "text/html": [
       "<div>\n",
       "<style scoped>\n",
       "    .dataframe tbody tr th:only-of-type {\n",
       "        vertical-align: middle;\n",
       "    }\n",
       "\n",
       "    .dataframe tbody tr th {\n",
       "        vertical-align: top;\n",
       "    }\n",
       "\n",
       "    .dataframe thead th {\n",
       "        text-align: right;\n",
       "    }\n",
       "</style>\n",
       "<table border=\"1\" class=\"dataframe\">\n",
       "  <thead>\n",
       "    <tr style=\"text-align: right;\">\n",
       "      <th></th>\n",
       "      <th>Invoice ID</th>\n",
       "      <th>Branch</th>\n",
       "      <th>City</th>\n",
       "      <th>Customer type</th>\n",
       "      <th>Gender</th>\n",
       "      <th>Product line</th>\n",
       "      <th>Unit price</th>\n",
       "      <th>Quantity</th>\n",
       "      <th>Tax 5%</th>\n",
       "      <th>Total</th>\n",
       "      <th>Date</th>\n",
       "      <th>Time</th>\n",
       "      <th>Payment</th>\n",
       "      <th>cogs</th>\n",
       "      <th>gross margin percentage</th>\n",
       "      <th>gross income</th>\n",
       "      <th>Rating</th>\n",
       "    </tr>\n",
       "  </thead>\n",
       "  <tbody>\n",
       "    <tr>\n",
       "      <th>0</th>\n",
       "      <td>750-67-8428</td>\n",
       "      <td>A</td>\n",
       "      <td>Yangon</td>\n",
       "      <td>Member</td>\n",
       "      <td>Female</td>\n",
       "      <td>Health and beauty</td>\n",
       "      <td>74.69</td>\n",
       "      <td>7</td>\n",
       "      <td>26.1415</td>\n",
       "      <td>548.9715</td>\n",
       "      <td>1/5/2019</td>\n",
       "      <td>13:08</td>\n",
       "      <td>Ewallet</td>\n",
       "      <td>522.83</td>\n",
       "      <td>4.761905</td>\n",
       "      <td>26.1415</td>\n",
       "      <td>9.1</td>\n",
       "    </tr>\n",
       "    <tr>\n",
       "      <th>1</th>\n",
       "      <td>226-31-3081</td>\n",
       "      <td>C</td>\n",
       "      <td>Naypyitaw</td>\n",
       "      <td>Normal</td>\n",
       "      <td>Female</td>\n",
       "      <td>Electronic accessories</td>\n",
       "      <td>15.28</td>\n",
       "      <td>5</td>\n",
       "      <td>3.8200</td>\n",
       "      <td>80.2200</td>\n",
       "      <td>3/8/2019</td>\n",
       "      <td>10:29</td>\n",
       "      <td>Cash</td>\n",
       "      <td>76.40</td>\n",
       "      <td>4.761905</td>\n",
       "      <td>3.8200</td>\n",
       "      <td>9.6</td>\n",
       "    </tr>\n",
       "    <tr>\n",
       "      <th>2</th>\n",
       "      <td>631-41-3108</td>\n",
       "      <td>A</td>\n",
       "      <td>Yangon</td>\n",
       "      <td>Normal</td>\n",
       "      <td>Male</td>\n",
       "      <td>Home and lifestyle</td>\n",
       "      <td>46.33</td>\n",
       "      <td>7</td>\n",
       "      <td>16.2155</td>\n",
       "      <td>340.5255</td>\n",
       "      <td>3/3/2019</td>\n",
       "      <td>13:23</td>\n",
       "      <td>Credit card</td>\n",
       "      <td>324.31</td>\n",
       "      <td>4.761905</td>\n",
       "      <td>16.2155</td>\n",
       "      <td>7.4</td>\n",
       "    </tr>\n",
       "  </tbody>\n",
       "</table>\n",
       "</div>"
      ],
      "text/plain": [
       "    Invoice ID Branch       City Customer type  Gender  \\\n",
       "0  750-67-8428      A     Yangon        Member  Female   \n",
       "1  226-31-3081      C  Naypyitaw        Normal  Female   \n",
       "2  631-41-3108      A     Yangon        Normal    Male   \n",
       "\n",
       "             Product line  Unit price  Quantity   Tax 5%     Total      Date  \\\n",
       "0       Health and beauty       74.69         7  26.1415  548.9715  1/5/2019   \n",
       "1  Electronic accessories       15.28         5   3.8200   80.2200  3/8/2019   \n",
       "2      Home and lifestyle       46.33         7  16.2155  340.5255  3/3/2019   \n",
       "\n",
       "    Time      Payment    cogs  gross margin percentage  gross income  Rating  \n",
       "0  13:08      Ewallet  522.83                 4.761905       26.1415     9.1  \n",
       "1  10:29         Cash   76.40                 4.761905        3.8200     9.6  \n",
       "2  13:23  Credit card  324.31                 4.761905       16.2155     7.4  "
      ]
     },
     "execution_count": 3,
     "metadata": {},
     "output_type": "execute_result"
    }
   ],
   "source": [
    "data.head(3)"
   ]
  },
  {
   "cell_type": "code",
   "execution_count": 4,
   "id": "c88e5d93",
   "metadata": {
    "execution": {
     "iopub.execute_input": "2022-01-06T08:57:44.823331Z",
     "iopub.status.busy": "2022-01-06T08:57:44.822681Z",
     "iopub.status.idle": "2022-01-06T08:57:44.825575Z",
     "shell.execute_reply": "2022-01-06T08:57:44.826063Z",
     "shell.execute_reply.started": "2022-01-06T08:41:32.900534Z"
    },
    "papermill": {
     "duration": 0.032809,
     "end_time": "2022-01-06T08:57:44.826227",
     "exception": false,
     "start_time": "2022-01-06T08:57:44.793418",
     "status": "completed"
    },
    "tags": []
   },
   "outputs": [
    {
     "data": {
      "text/plain": [
       "Index(['Invoice ID', 'Branch', 'City', 'Customer type', 'Gender',\n",
       "       'Product line', 'Unit price', 'Quantity', 'Tax 5%', 'Total', 'Date',\n",
       "       'Time', 'Payment', 'cogs', 'gross margin percentage', 'gross income',\n",
       "       'Rating'],\n",
       "      dtype='object')"
      ]
     },
     "execution_count": 4,
     "metadata": {},
     "output_type": "execute_result"
    }
   ],
   "source": [
    "data.columns"
   ]
  },
  {
   "cell_type": "code",
   "execution_count": 5,
   "id": "a2ba7255",
   "metadata": {
    "execution": {
     "iopub.execute_input": "2022-01-06T08:57:44.878127Z",
     "iopub.status.busy": "2022-01-06T08:57:44.877486Z",
     "iopub.status.idle": "2022-01-06T08:57:44.886168Z",
     "shell.execute_reply": "2022-01-06T08:57:44.886717Z",
     "shell.execute_reply.started": "2022-01-06T08:41:32.909122Z"
    },
    "papermill": {
     "duration": 0.037276,
     "end_time": "2022-01-06T08:57:44.886885",
     "exception": false,
     "start_time": "2022-01-06T08:57:44.849609",
     "status": "completed"
    },
    "tags": []
   },
   "outputs": [
    {
     "data": {
      "text/plain": [
       "Invoice ID                 0\n",
       "Branch                     0\n",
       "City                       0\n",
       "Customer type              0\n",
       "Gender                     0\n",
       "Product line               0\n",
       "Unit price                 0\n",
       "Quantity                   0\n",
       "Tax 5%                     0\n",
       "Total                      0\n",
       "Date                       0\n",
       "Time                       0\n",
       "Payment                    0\n",
       "cogs                       0\n",
       "gross margin percentage    0\n",
       "gross income               0\n",
       "Rating                     0\n",
       "dtype: int64"
      ]
     },
     "execution_count": 5,
     "metadata": {},
     "output_type": "execute_result"
    }
   ],
   "source": [
    "data.isnull().sum()"
   ]
  },
  {
   "cell_type": "markdown",
   "id": "9856bef9",
   "metadata": {
    "papermill": {
     "duration": 0.023602,
     "end_time": "2022-01-06T08:57:44.934887",
     "exception": false,
     "start_time": "2022-01-06T08:57:44.911285",
     "status": "completed"
    },
    "tags": []
   },
   "source": [
    "#  Total sales with Tax"
   ]
  },
  {
   "cell_type": "code",
   "execution_count": 6,
   "id": "3ea77529",
   "metadata": {
    "execution": {
     "iopub.execute_input": "2022-01-06T08:57:44.987246Z",
     "iopub.status.busy": "2022-01-06T08:57:44.986628Z",
     "iopub.status.idle": "2022-01-06T08:57:44.996179Z",
     "shell.execute_reply": "2022-01-06T08:57:44.996826Z",
     "shell.execute_reply.started": "2022-01-06T08:41:32.927059Z"
    },
    "papermill": {
     "duration": 0.037406,
     "end_time": "2022-01-06T08:57:44.996998",
     "exception": false,
     "start_time": "2022-01-06T08:57:44.959592",
     "status": "completed"
    },
    "tags": []
   },
   "outputs": [
    {
     "name": "stdout",
     "output_type": "stream",
     "text": [
      "Total sales =  322966.749\n"
     ]
    }
   ],
   "source": [
    "print('Total sales = ',data['Total'].sum())"
   ]
  },
  {
   "cell_type": "markdown",
   "id": "9ab53bf0",
   "metadata": {
    "papermill": {
     "duration": 0.024823,
     "end_time": "2022-01-06T08:57:45.045878",
     "exception": false,
     "start_time": "2022-01-06T08:57:45.021055",
     "status": "completed"
    },
    "tags": []
   },
   "source": [
    "# Which Branch High sales"
   ]
  },
  {
   "cell_type": "code",
   "execution_count": 7,
   "id": "085d7f31",
   "metadata": {
    "execution": {
     "iopub.execute_input": "2022-01-06T08:57:45.109703Z",
     "iopub.status.busy": "2022-01-06T08:57:45.108798Z",
     "iopub.status.idle": "2022-01-06T08:57:45.347388Z",
     "shell.execute_reply": "2022-01-06T08:57:45.346693Z",
     "shell.execute_reply.started": "2022-01-06T08:41:32.948514Z"
    },
    "papermill": {
     "duration": 0.276544,
     "end_time": "2022-01-06T08:57:45.347549",
     "exception": false,
     "start_time": "2022-01-06T08:57:45.071005",
     "status": "completed"
    },
    "tags": []
   },
   "outputs": [
    {
     "data": {
      "image/png": "[encoded data removed]",
      "text/plain": [
       "<Figure size 720x432 with 1 Axes>"
      ]
     },
     "metadata": {
      "needs_background": "light"
     },
     "output_type": "display_data"
    }
   ],
   "source": [
    "fig = plt.figure(figsize=(10,6))\n",
    "sns.lineplot(x=data['Branch'].value_counts().index,y=data['Branch'].value_counts().values,palette='#800000')\n",
    "sns.despine()\n",
    "plt.xlabel('Branch',weight ='bold',fontsize=15)\n",
    "plt.title('Branch with Sales',weight = 'bold',fontsize=20)\n",
    "plt.show()"
   ]
  },
  {
   "cell_type": "markdown",
   "id": "aea25e6f",
   "metadata": {
    "papermill": {
     "duration": 0.026627,
     "end_time": "2022-01-06T08:57:45.400072",
     "exception": false,
     "start_time": "2022-01-06T08:57:45.373445",
     "status": "completed"
    },
    "tags": []
   },
   "source": [
    "# Which City Higher sales"
   ]
  },
  {
   "cell_type": "code",
   "execution_count": 8,
   "id": "123705d7",
   "metadata": {
    "execution": {
     "iopub.execute_input": "2022-01-06T08:57:45.482660Z",
     "iopub.status.busy": "2022-01-06T08:57:45.480636Z",
     "iopub.status.idle": "2022-01-06T08:57:45.650361Z",
     "shell.execute_reply": "2022-01-06T08:57:45.650850Z",
     "shell.execute_reply.started": "2022-01-06T08:41:33.203421Z"
    },
    "papermill": {
     "duration": 0.223451,
     "end_time": "2022-01-06T08:57:45.651048",
     "exception": false,
     "start_time": "2022-01-06T08:57:45.427597",
     "status": "completed"
    },
    "tags": []
   },
   "outputs": [
    {
     "data": {
      "text/plain": [
       "Text(0.5, 0, 'City')"
      ]
     },
     "execution_count": 8,
     "metadata": {},
     "output_type": "execute_result"
    },
    {
     "data": {
      "image/png": "[encoded data removed]",
      "text/plain": [
       "<Figure size 720x432 with 1 Axes>"
      ]
     },
     "metadata": {
      "needs_background": "light"
     },
     "output_type": "display_data"
    }
   ],
   "source": [
    "color = ['#800000','#8B0000','#A52A2A','#B22222','#DC143C','#FF0000','#FF6347']\n",
    "fig = plt.figure(figsize=(10,6))\n",
    "sns.barplot(x=data['City'].value_counts().index,y=data['City'].value_counts().values,palette=color)\n",
    "plt.title('Sales of each city',weight='bold',fontsize=20)\n",
    "plt.xlabel('City',weight='bold',fontsize=10)"
   ]
  },
  {
   "cell_type": "markdown",
   "id": "980aeb23",
   "metadata": {
    "papermill": {
     "duration": 0.026511,
     "end_time": "2022-01-06T08:57:45.704967",
     "exception": false,
     "start_time": "2022-01-06T08:57:45.678456",
     "status": "completed"
    },
    "tags": []
   },
   "source": [
    "# Gender of Sales"
   ]
  },
  {
   "cell_type": "code",
   "execution_count": 9,
   "id": "20106a1f",
   "metadata": {
    "execution": {
     "iopub.execute_input": "2022-01-06T08:57:45.761996Z",
     "iopub.status.busy": "2022-01-06T08:57:45.761377Z",
     "iopub.status.idle": "2022-01-06T08:57:45.771607Z",
     "shell.execute_reply": "2022-01-06T08:57:45.771013Z",
     "shell.execute_reply.started": "2022-01-06T08:41:33.420063Z"
    },
    "papermill": {
     "duration": 0.039918,
     "end_time": "2022-01-06T08:57:45.771762",
     "exception": false,
     "start_time": "2022-01-06T08:57:45.731844",
     "status": "completed"
    },
    "tags": []
   },
   "outputs": [],
   "source": [
    "salesGender = data.groupby(['Gender'])['Total'].sum().reset_index()"
   ]
  },
  {
   "cell_type": "code",
   "execution_count": 10,
   "id": "1e9ff9d6",
   "metadata": {
    "execution": {
     "iopub.execute_input": "2022-01-06T08:57:45.838436Z",
     "iopub.status.busy": "2022-01-06T08:57:45.837481Z",
     "iopub.status.idle": "2022-01-06T08:57:45.998074Z",
     "shell.execute_reply": "2022-01-06T08:57:45.998562Z",
     "shell.execute_reply.started": "2022-01-06T08:41:33.433162Z"
    },
    "papermill": {
     "duration": 0.20007,
     "end_time": "2022-01-06T08:57:45.998755",
     "exception": false,
     "start_time": "2022-01-06T08:57:45.798685",
     "status": "completed"
    },
    "tags": []
   },
   "outputs": [
    {
     "data": {
      "text/plain": [
       "Text(0.5, 0, 'Gender')"
      ]
     },
     "execution_count": 10,
     "metadata": {},
     "output_type": "execute_result"
    },
    {
     "data": {
      "image/png": "[encoded data removed]",
      "text/plain": [
       "<Figure size 720x576 with 1 Axes>"
      ]
     },
     "metadata": {
      "needs_background": "light"
     },
     "output_type": "display_data"
    }
   ],
   "source": [
    "fig = plt.figure(figsize=(10,8))\n",
    "sns.barplot(x=salesGender['Gender'],y=salesGender['Total'],palette=color)\n",
    "plt.title('Gender of Sales',weight='bold',fontsize=20)\n",
    "plt.xlabel('Gender',weight = 'bold',fontsize=10)"
   ]
  },
  {
   "cell_type": "code",
   "execution_count": 11,
   "id": "d2453528",
   "metadata": {
    "execution": {
     "iopub.execute_input": "2022-01-06T08:57:46.057735Z",
     "iopub.status.busy": "2022-01-06T08:57:46.056740Z",
     "iopub.status.idle": "2022-01-06T08:57:46.063958Z",
     "shell.execute_reply": "2022-01-06T08:57:46.064525Z",
     "shell.execute_reply.started": "2022-01-06T08:41:33.657457Z"
    },
    "papermill": {
     "duration": 0.038276,
     "end_time": "2022-01-06T08:57:46.064695",
     "exception": false,
     "start_time": "2022-01-06T08:57:46.026419",
     "status": "completed"
    },
    "tags": []
   },
   "outputs": [],
   "source": [
    "Productline = data.groupby(['Product line'])['Total'].sum().reset_index().sort_values('Total',ascending=False)"
   ]
  },
  {
   "cell_type": "code",
   "execution_count": 12,
   "id": "e0dc00c6",
   "metadata": {
    "execution": {
     "iopub.execute_input": "2022-01-06T08:57:46.127019Z",
     "iopub.status.busy": "2022-01-06T08:57:46.126001Z",
     "iopub.status.idle": "2022-01-06T08:57:46.379838Z",
     "shell.execute_reply": "2022-01-06T08:57:46.380370Z",
     "shell.execute_reply.started": "2022-01-06T08:41:33.667666Z"
    },
    "papermill": {
     "duration": 0.287127,
     "end_time": "2022-01-06T08:57:46.380584",
     "exception": false,
     "start_time": "2022-01-06T08:57:46.093457",
     "status": "completed"
    },
    "tags": []
   },
   "outputs": [
    {
     "data": {
      "text/plain": [
       "Text(0.5, 0, 'Product')"
      ]
     },
     "execution_count": 12,
     "metadata": {},
     "output_type": "execute_result"
    },
    {
     "data": {
      "image/png": "[encoded data removed]",
      "text/plain": [
       "<Figure size 864x504 with 1 Axes>"
      ]
     },
     "metadata": {
      "needs_background": "light"
     },
     "output_type": "display_data"
    }
   ],
   "source": [
    "fig = plt.figure(figsize=(12,7))\n",
    "sns.barplot(x=Productline['Product line'],y=Productline['Total'],palette=color)\n",
    "plt.title('Product Of sales',weight='bold',fontsize = 20)\n",
    "plt.xlabel('Product',weight='bold',fontsize=10)"
   ]
  },
  {
   "cell_type": "markdown",
   "id": "fbd1e9cd",
   "metadata": {
    "papermill": {
     "duration": 0.029046,
     "end_time": "2022-01-06T08:57:46.439550",
     "exception": false,
     "start_time": "2022-01-06T08:57:46.410504",
     "status": "completed"
    },
    "tags": []
   },
   "source": [
    "# Which month more sales"
   ]
  },
  {
   "cell_type": "code",
   "execution_count": 13,
   "id": "5f20d6ce",
   "metadata": {
    "execution": {
     "iopub.execute_input": "2022-01-06T08:57:46.505872Z",
     "iopub.status.busy": "2022-01-06T08:57:46.505205Z",
     "iopub.status.idle": "2022-01-06T08:57:46.521552Z",
     "shell.execute_reply": "2022-01-06T08:57:46.527054Z",
     "shell.execute_reply.started": "2022-01-06T08:41:33.924397Z"
    },
    "papermill": {
     "duration": 0.057157,
     "end_time": "2022-01-06T08:57:46.527286",
     "exception": false,
     "start_time": "2022-01-06T08:57:46.470129",
     "status": "completed"
    },
    "tags": []
   },
   "outputs": [],
   "source": [
    "data['Date1'] = pd.to_datetime (data['Date'])"
   ]
  },
  {
   "cell_type": "code",
   "execution_count": 14,
   "id": "7369096d",
   "metadata": {
    "execution": {
     "iopub.execute_input": "2022-01-06T08:57:46.590868Z",
     "iopub.status.busy": "2022-01-06T08:57:46.590243Z",
     "iopub.status.idle": "2022-01-06T08:57:46.597500Z",
     "shell.execute_reply": "2022-01-06T08:57:46.598059Z",
     "shell.execute_reply.started": "2022-01-06T08:41:33.946560Z"
    },
    "papermill": {
     "duration": 0.040351,
     "end_time": "2022-01-06T08:57:46.598228",
     "exception": false,
     "start_time": "2022-01-06T08:57:46.557877",
     "status": "completed"
    },
    "tags": []
   },
   "outputs": [],
   "source": [
    "data['year']=data['Date1'].dt.year\n",
    "data['month']=data['Date1'].dt.month_name()"
   ]
  },
  {
   "cell_type": "code",
   "execution_count": 15,
   "id": "25591976",
   "metadata": {
    "execution": {
     "iopub.execute_input": "2022-01-06T08:57:46.660835Z",
     "iopub.status.busy": "2022-01-06T08:57:46.660175Z",
     "iopub.status.idle": "2022-01-06T08:57:46.667045Z",
     "shell.execute_reply": "2022-01-06T08:57:46.667582Z",
     "shell.execute_reply.started": "2022-01-06T08:41:33.955643Z"
    },
    "papermill": {
     "duration": 0.039513,
     "end_time": "2022-01-06T08:57:46.667751",
     "exception": false,
     "start_time": "2022-01-06T08:57:46.628238",
     "status": "completed"
    },
    "tags": []
   },
   "outputs": [],
   "source": [
    "monthsales = data.groupby(['month'])['Total'].sum().reset_index()"
   ]
  },
  {
   "cell_type": "code",
   "execution_count": 16,
   "id": "0122b0c5",
   "metadata": {
    "execution": {
     "iopub.execute_input": "2022-01-06T08:57:46.730047Z",
     "iopub.status.busy": "2022-01-06T08:57:46.729400Z",
     "iopub.status.idle": "2022-01-06T08:57:46.944770Z",
     "shell.execute_reply": "2022-01-06T08:57:46.944211Z",
     "shell.execute_reply.started": "2022-01-06T08:41:33.971762Z"
    },
    "papermill": {
     "duration": 0.247473,
     "end_time": "2022-01-06T08:57:46.944906",
     "exception": false,
     "start_time": "2022-01-06T08:57:46.697433",
     "status": "completed"
    },
    "tags": []
   },
   "outputs": [
    {
     "data": {
      "text/plain": [
       "Text(0.5, 0, 'month')"
      ]
     },
     "execution_count": 16,
     "metadata": {},
     "output_type": "execute_result"
    },
    {
     "data": {
      "image/png": "[encoded data removed]",
      "text/plain": [
       "<Figure size 864x504 with 1 Axes>"
      ]
     },
     "metadata": {
      "needs_background": "light"
     },
     "output_type": "display_data"
    }
   ],
   "source": [
    "fig = plt.figure(figsize=(12,7))\n",
    "sns.barplot(x=monthsales['month'],y=monthsales['Total'],palette=color)\n",
    "plt.title('month Of sales',weight='bold',fontsize = 20)\n",
    "plt.xlabel('month',weight='bold',fontsize=10)"
   ]
  },
  {
   "cell_type": "markdown",
   "id": "d0477f1f",
   "metadata": {
    "papermill": {
     "duration": 0.029353,
     "end_time": "2022-01-06T08:57:47.005106",
     "exception": false,
     "start_time": "2022-01-06T08:57:46.975753",
     "status": "completed"
    },
    "tags": []
   },
   "source": [
    "# Monthly sales of product "
   ]
  },
  {
   "cell_type": "code",
   "execution_count": 17,
   "id": "e8e5a5fb",
   "metadata": {
    "execution": {
     "iopub.execute_input": "2022-01-06T08:57:47.070714Z",
     "iopub.status.busy": "2022-01-06T08:57:47.070079Z",
     "iopub.status.idle": "2022-01-06T08:57:47.077404Z",
     "shell.execute_reply": "2022-01-06T08:57:47.077897Z",
     "shell.execute_reply.started": "2022-01-06T08:41:34.186192Z"
    },
    "papermill": {
     "duration": 0.043228,
     "end_time": "2022-01-06T08:57:47.078062",
     "exception": false,
     "start_time": "2022-01-06T08:57:47.034834",
     "status": "completed"
    },
    "tags": []
   },
   "outputs": [
    {
     "data": {
      "text/plain": [
       "Product line            month   \n",
       "Electronic accessories  February    17362.9050\n",
       "                        January     18831.2880\n",
       "                        March       18143.3385\n",
       "Fashion accessories     February    19009.8615\n",
       "                        January     19345.1160\n",
       "                        March       15950.9175\n",
       "Food and beverages      February    20000.3580\n",
       "                        January     19570.5300\n",
       "                        March       16573.9560\n",
       "Health and beauty       February    14602.2555\n",
       "                        January     16383.1710\n",
       "                        March       18208.3125\n",
       "Home and lifestyle      February    12434.3835\n",
       "                        January     20494.7400\n",
       "                        March       20932.7895\n",
       "Sports and travel       February    13809.6105\n",
       "                        January     21667.0230\n",
       "                        March       19646.1930\n",
       "Name: Total, dtype: float64"
      ]
     },
     "execution_count": 17,
     "metadata": {},
     "output_type": "execute_result"
    }
   ],
   "source": [
    "data.groupby(['Product line','month'])['Total'].sum()"
   ]
  },
  {
   "cell_type": "markdown",
   "id": "769c7a20",
   "metadata": {
    "papermill": {
     "duration": 0.030219,
     "end_time": "2022-01-06T08:57:47.139294",
     "exception": false,
     "start_time": "2022-01-06T08:57:47.109075",
     "status": "completed"
    },
    "tags": []
   },
   "source": [
    "# Payment of sales peple"
   ]
  },
  {
   "cell_type": "code",
   "execution_count": 18,
   "id": "21b6098f",
   "metadata": {
    "execution": {
     "iopub.execute_input": "2022-01-06T08:57:47.205993Z",
     "iopub.status.busy": "2022-01-06T08:57:47.203749Z",
     "iopub.status.idle": "2022-01-06T08:57:47.208696Z",
     "shell.execute_reply": "2022-01-06T08:57:47.209224Z",
     "shell.execute_reply.started": "2022-01-06T08:41:34.202067Z"
    },
    "papermill": {
     "duration": 0.03968,
     "end_time": "2022-01-06T08:57:47.209510",
     "exception": false,
     "start_time": "2022-01-06T08:57:47.169830",
     "status": "completed"
    },
    "tags": []
   },
   "outputs": [],
   "source": [
    "data['Payment'] = data['Payment'].astype(str)"
   ]
  },
  {
   "cell_type": "code",
   "execution_count": 19,
   "id": "cc41f160",
   "metadata": {
    "execution": {
     "iopub.execute_input": "2022-01-06T08:57:47.304721Z",
     "iopub.status.busy": "2022-01-06T08:57:47.294812Z",
     "iopub.status.idle": "2022-01-06T08:57:47.491238Z",
     "shell.execute_reply": "2022-01-06T08:57:47.490719Z",
     "shell.execute_reply.started": "2022-01-06T08:41:34.208400Z"
    },
    "papermill": {
     "duration": 0.250215,
     "end_time": "2022-01-06T08:57:47.491401",
     "exception": false,
     "start_time": "2022-01-06T08:57:47.241186",
     "status": "completed"
    },
    "tags": []
   },
   "outputs": [
    {
     "data": {
      "text/plain": [
       "Text(0.5, 0, 'Pyment')"
      ]
     },
     "execution_count": 19,
     "metadata": {},
     "output_type": "execute_result"
    },
    {
     "data": {
      "image/png": "[encoded data removed]",
      "text/plain": [
       "<Figure size 720x504 with 1 Axes>"
      ]
     },
     "metadata": {
      "needs_background": "light"
     },
     "output_type": "display_data"
    }
   ],
   "source": [
    "fig = plt.figure(figsize=(10,7))\n",
    "sns.barplot(x= data['Payment'].value_counts().index,y=data['Payment'].value_counts().values,palette = color)\n",
    "plt.title('product sales pyment of peple',weight = 'bold',fontsize=20)\n",
    "plt.xlabel('Pyment',weight='bold',fontsize=10)"
   ]
  },
  {
   "cell_type": "markdown",
   "id": "80342e7f",
   "metadata": {
    "papermill": {
     "duration": 0.030869,
     "end_time": "2022-01-06T08:57:47.553734",
     "exception": false,
     "start_time": "2022-01-06T08:57:47.522865",
     "status": "completed"
    },
    "tags": []
   },
   "source": [
    "# Product of Rating"
   ]
  },
  {
   "cell_type": "code",
   "execution_count": 20,
   "id": "54e2e8ca",
   "metadata": {
    "execution": {
     "iopub.execute_input": "2022-01-06T08:57:47.625523Z",
     "iopub.status.busy": "2022-01-06T08:57:47.623887Z",
     "iopub.status.idle": "2022-01-06T08:57:47.628455Z",
     "shell.execute_reply": "2022-01-06T08:57:47.629090Z",
     "shell.execute_reply.started": "2022-01-06T08:53:32.692606Z"
    },
    "papermill": {
     "duration": 0.04447,
     "end_time": "2022-01-06T08:57:47.629261",
     "exception": false,
     "start_time": "2022-01-06T08:57:47.584791",
     "status": "completed"
    },
    "tags": []
   },
   "outputs": [],
   "source": [
    "rading =data.groupby(['Product line'])['Rating'].count().reset_index()"
   ]
  },
  {
   "cell_type": "code",
   "execution_count": 21,
   "id": "9a11afce",
   "metadata": {
    "execution": {
     "iopub.execute_input": "2022-01-06T08:57:47.695691Z",
     "iopub.status.busy": "2022-01-06T08:57:47.694752Z",
     "iopub.status.idle": "2022-01-06T08:57:47.947846Z",
     "shell.execute_reply": "2022-01-06T08:57:47.948290Z",
     "shell.execute_reply.started": "2022-01-06T08:53:19.130194Z"
    },
    "papermill": {
     "duration": 0.287841,
     "end_time": "2022-01-06T08:57:47.948485",
     "exception": false,
     "start_time": "2022-01-06T08:57:47.660644",
     "status": "completed"
    },
    "tags": []
   },
   "outputs": [
    {
     "data": {
      "text/plain": [
       "Text(0.5, 1.0, 'Product of rating')"
      ]
     },
     "execution_count": 21,
     "metadata": {},
     "output_type": "execute_result"
    },
    {
     "data": {
      "image/png": "[encoded data removed]",
      "text/plain": [
       "<Figure size 720x504 with 1 Axes>"
      ]
     },
     "metadata": {
      "needs_background": "light"
     },
     "output_type": "display_data"
    }
   ],
   "source": [
    "fig = plt.figure(figsize=(10,7))\n",
    "sns.barplot(x=rading['Product line'],y=rading['Rating'],palette = color)\n",
    "plt.tick_params(axis = 'x',rotation = 90)\n",
    "plt.xlabel('Product',weight = 'bold')\n",
    "plt.title('Product of rating',weight='bold',fontsize = 20)"
   ]
  },
  {
   "cell_type": "code",
   "execution_count": null,
   "id": "4d647bd3",
   "metadata": {
    "papermill": {
     "duration": 0.032074,
     "end_time": "2022-01-06T08:57:48.013504",
     "exception": false,
     "start_time": "2022-01-06T08:57:47.981430",
     "status": "completed"
    },
    "tags": []
   },
   "outputs": [],
   "source": []
  }
 ],
 "metadata": {
  "kernelspec": {
   "display_name": "Python 3",
   "language": "python",
   "name": "python3"
  },
  "language_info": {
   "codemirror_mode": {
    "name": "ipython",
    "version": 3
   },
   "file_extension": ".py",
   "mimetype": "text/x-python",
   "name": "python",
   "nbconvert_exporter": "python",
   "pygments_lexer": "ipython3",
   "version": "3.7.12"
  },
  "papermill": {
   "default_parameters": {},
   "duration": 16.05235,
   "end_time": "2022-01-06T08:57:48.858153",
   "environment_variables": {},
   "exception": null,
   "input_path": "__notebook__.ipynb",
   "output_path": "__notebook__.ipynb",
   "parameters": {},
   "start_time": "2022-01-06T08:57:32.805803",
   "version": "2.3.3"
  }
 },
 "nbformat": 4,
 "nbformat_minor": 5
}
