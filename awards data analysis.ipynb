{
 "cells": [
  {
   "cell_type": "code",
   "execution_count": 1,
   "id": "a0065a96",
   "metadata": {},
   "outputs": [],
   "source": [
    "import pandas as pd\n",
    "import numpy as numpy\n",
    "import matplotlib.pyplot as plt"
   ]
  },
  {
   "cell_type": "markdown",
   "id": "054b0035",
   "metadata": {},
   "source": [
    "# awardees of the Bharat Ratna and Padma award for the years 1954-2021"
   ]
  },
  {
   "cell_type": "code",
   "execution_count": null,
   "id": "f908738d",
   "metadata": {},
   "outputs": [],
   "source": []
  },
  {
   "cell_type": "code",
   "execution_count": 7,
   "id": "18dcd888",
   "metadata": {},
   "outputs": [],
   "source": [
    "data=pd.read_csv(r'C:\\Users\\hp\\Downloads\\padmaawards.csv')"
   ]
  },
  {
   "cell_type": "code",
   "execution_count": 9,
   "id": "9e3efcd6",
   "metadata": {},
   "outputs": [
    {
     "data": {
      "text/html": [
       "<div>\n",
       "<style scoped>\n",
       "    .dataframe tbody tr th:only-of-type {\n",
       "        vertical-align: middle;\n",
       "    }\n",
       "\n",
       "    .dataframe tbody tr th {\n",
       "        vertical-align: top;\n",
       "    }\n",
       "\n",
       "    .dataframe thead th {\n",
       "        text-align: right;\n",
       "    }\n",
       "</style>\n",
       "<table border=\"1\" class=\"dataframe\">\n",
       "  <thead>\n",
       "    <tr style=\"text-align: right;\">\n",
       "      <th></th>\n",
       "      <th>Name</th>\n",
       "      <th>Award</th>\n",
       "      <th>Field</th>\n",
       "      <th>State/Country</th>\n",
       "      <th>Year</th>\n",
       "    </tr>\n",
       "  </thead>\n",
       "  <tbody>\n",
       "    <tr>\n",
       "      <th>0</th>\n",
       "      <td>Dr. Sarvapalli Radhakrishnan</td>\n",
       "      <td>Bharat Ratna</td>\n",
       "      <td>Public Affairs</td>\n",
       "      <td>Tamil Nadu</td>\n",
       "      <td>1954</td>\n",
       "    </tr>\n",
       "    <tr>\n",
       "      <th>1</th>\n",
       "      <td>Shri Chakravarti Rajagopalachari</td>\n",
       "      <td>Bharat Ratna</td>\n",
       "      <td>Public Affairs</td>\n",
       "      <td>Tamil Nadu</td>\n",
       "      <td>1954</td>\n",
       "    </tr>\n",
       "    <tr>\n",
       "      <th>2</th>\n",
       "      <td>Shri Chandrasekhara Venkata Raman</td>\n",
       "      <td>Bharat Ratna</td>\n",
       "      <td>Science and Engineering</td>\n",
       "      <td>Tamil Nadu</td>\n",
       "      <td>1954</td>\n",
       "    </tr>\n",
       "    <tr>\n",
       "      <th>3</th>\n",
       "      <td>Dr. Satyendra Nath Bose</td>\n",
       "      <td>Padma Vibhushan</td>\n",
       "      <td>Literature and Education</td>\n",
       "      <td>West Bengal</td>\n",
       "      <td>1954</td>\n",
       "    </tr>\n",
       "    <tr>\n",
       "      <th>4</th>\n",
       "      <td>Dr. Zakir Husain</td>\n",
       "      <td>Padma Vibhushan</td>\n",
       "      <td>Public Affairs</td>\n",
       "      <td>Telangana</td>\n",
       "      <td>1954</td>\n",
       "    </tr>\n",
       "  </tbody>\n",
       "</table>\n",
       "</div>"
      ],
      "text/plain": [
       "                                Name            Award  \\\n",
       "0       Dr. Sarvapalli Radhakrishnan     Bharat Ratna   \n",
       "1   Shri Chakravarti Rajagopalachari     Bharat Ratna   \n",
       "2  Shri Chandrasekhara Venkata Raman     Bharat Ratna   \n",
       "3            Dr. Satyendra Nath Bose  Padma Vibhushan   \n",
       "4                   Dr. Zakir Husain  Padma Vibhushan   \n",
       "\n",
       "                      Field State/Country  Year  \n",
       "0            Public Affairs    Tamil Nadu  1954  \n",
       "1            Public Affairs    Tamil Nadu  1954  \n",
       "2   Science and Engineering    Tamil Nadu  1954  \n",
       "3  Literature and Education   West Bengal  1954  \n",
       "4            Public Affairs     Telangana  1954  "
      ]
     },
     "execution_count": 9,
     "metadata": {},
     "output_type": "execute_result"
    }
   ],
   "source": [
    "data.head(5)"
   ]
  },
  {
   "cell_type": "code",
   "execution_count": 10,
   "id": "dbd2153b",
   "metadata": {},
   "outputs": [
    {
     "data": {
      "text/plain": [
       "Name             0\n",
       "Award            0\n",
       "Field            0\n",
       "State/Country    0\n",
       "Year             0\n",
       "dtype: int64"
      ]
     },
     "execution_count": 10,
     "metadata": {},
     "output_type": "execute_result"
    }
   ],
   "source": [
    "data.isnull().sum()"
   ]
  },
  {
   "cell_type": "code",
   "execution_count": 11,
   "id": "52b0523c",
   "metadata": {},
   "outputs": [
    {
     "name": "stdout",
     "output_type": "stream",
     "text": [
      "<class 'pandas.core.frame.DataFrame'>\n",
      "RangeIndex: 4875 entries, 0 to 4874\n",
      "Data columns (total 5 columns):\n",
      " #   Column         Non-Null Count  Dtype \n",
      "---  ------         --------------  ----- \n",
      " 0   Name           4875 non-null   object\n",
      " 1   Award          4875 non-null   object\n",
      " 2   Field          4875 non-null   object\n",
      " 3   State/Country  4875 non-null   object\n",
      " 4   Year           4875 non-null   int64 \n",
      "dtypes: int64(1), object(4)\n",
      "memory usage: 190.6+ KB\n"
     ]
    }
   ],
   "source": [
    "data.info()"
   ]
  },
  {
   "cell_type": "code",
   "execution_count": 27,
   "id": "bc184bac",
   "metadata": {},
   "outputs": [],
   "source": [
    "award=data.iloc[:,1].value_counts()"
   ]
  },
  {
   "cell_type": "markdown",
   "id": "6aa7a864",
   "metadata": {},
   "source": [
    "# COUNTS OF AWARDS"
   ]
  },
  {
   "cell_type": "code",
   "execution_count": 39,
   "id": "49843995",
   "metadata": {},
   "outputs": [
    {
     "data": {
      "text/plain": [
       "<AxesSubplot:title={'center':'Counts of awards'}, xlabel='Award name', ylabel='Counts of award'>"
      ]
     },
     "execution_count": 39,
     "metadata": {},
     "output_type": "execute_result"
    },
    {
     "data": {
      "image/png": "[encoded data removed]",
      "text/plain": [
       "<Figure size 648x360 with 1 Axes>"
      ]
     },
     "metadata": {
      "needs_background": "light"
     },
     "output_type": "display_data"
    }
   ],
   "source": [
    "award.plot.bar(figsize=(9,5),color=['#c8ef83','#3E5F28','#96C613','#D7DE12'],xlabel='Award name',ylabel='Counts of award',title='Counts of awards')"
   ]
  },
  {
   "cell_type": "code",
   "execution_count": 300,
   "id": "f8887921",
   "metadata": {},
   "outputs": [
    {
     "data": {
      "text/plain": [
       "Year\n",
       "1954     49\n",
       "1955     31\n",
       "1956     25\n",
       "1957     36\n",
       "1958     36\n",
       "       ... \n",
       "2017     88\n",
       "2018     84\n",
       "2019    114\n",
       "2020    141\n",
       "2021    119\n",
       "Name: Award, Length: 62, dtype: int64"
      ]
     },
     "execution_count": 300,
     "metadata": {},
     "output_type": "execute_result"
    }
   ],
   "source": [
    "year_of_countsofaward=data.groupby(['Year'])['Award'].count()\n",
    "year_of_countsofaward"
   ]
  },
  {
   "cell_type": "markdown",
   "id": "6df720ef",
   "metadata": {},
   "source": [
    "# YEARLY AWARDS"
   ]
  },
  {
   "cell_type": "code",
   "execution_count": 52,
   "id": "c5670028",
   "metadata": {},
   "outputs": [
    {
     "data": {
      "text/plain": [
       "<AxesSubplot:title={'center':'Counts of awards all year'}, xlabel='Years', ylabel='Counts of award'>"
      ]
     },
     "execution_count": 52,
     "metadata": {},
     "output_type": "execute_result"
    },
    {
     "data": {
      "image/png": "[encoded data removed]",
      "text/plain": [
       "<Figure size 864x432 with 1 Axes>"
      ]
     },
     "metadata": {
      "needs_background": "light"
     },
     "output_type": "display_data"
    }
   ],
   "source": [
    "year_of_countsofaward.plot.bar(figsize=(12,6),color=['#c8ef83','#3E5F28','#96C613','#D7DE12'],xlabel='Years',ylabel='Counts of award',title='Counts of awards all year')"
   ]
  },
  {
   "cell_type": "code",
   "execution_count": 316,
   "id": "3f4c0ce9",
   "metadata": {},
   "outputs": [],
   "source": [
    "field_awardcounts=data.groupby(['Field'])['Award'].count()"
   ]
  },
  {
   "cell_type": "code",
   "execution_count": 317,
   "id": "c5632313",
   "metadata": {},
   "outputs": [],
   "source": [
    "field_awardcounts=pd.DataFrame(field_awardcounts)\n",
    "field_awardcounts=field_awardcounts.reset_index()"
   ]
  },
  {
   "cell_type": "code",
   "execution_count": 318,
   "id": "5175e18d",
   "metadata": {},
   "outputs": [
    {
     "data": {
      "text/html": [
       "<div>\n",
       "<style scoped>\n",
       "    .dataframe tbody tr th:only-of-type {\n",
       "        vertical-align: middle;\n",
       "    }\n",
       "\n",
       "    .dataframe tbody tr th {\n",
       "        vertical-align: top;\n",
       "    }\n",
       "\n",
       "    .dataframe thead th {\n",
       "        text-align: right;\n",
       "    }\n",
       "</style>\n",
       "<table border=\"1\" class=\"dataframe\">\n",
       "  <thead>\n",
       "    <tr style=\"text-align: right;\">\n",
       "      <th></th>\n",
       "      <th>Field</th>\n",
       "      <th>Award</th>\n",
       "    </tr>\n",
       "  </thead>\n",
       "  <tbody>\n",
       "    <tr>\n",
       "      <th>0</th>\n",
       "      <td>Art</td>\n",
       "      <td>1068</td>\n",
       "    </tr>\n",
       "    <tr>\n",
       "      <th>1</th>\n",
       "      <td>Art</td>\n",
       "      <td>2</td>\n",
       "    </tr>\n",
       "    <tr>\n",
       "      <th>2</th>\n",
       "      <td>Civil Service</td>\n",
       "      <td>424</td>\n",
       "    </tr>\n",
       "    <tr>\n",
       "      <th>3</th>\n",
       "      <td>Literature and Education</td>\n",
       "      <td>952</td>\n",
       "    </tr>\n",
       "    <tr>\n",
       "      <th>4</th>\n",
       "      <td>Literature and Education- Journalism</td>\n",
       "      <td>2</td>\n",
       "    </tr>\n",
       "    <tr>\n",
       "      <th>5</th>\n",
       "      <td>Medicine</td>\n",
       "      <td>590</td>\n",
       "    </tr>\n",
       "    <tr>\n",
       "      <th>6</th>\n",
       "      <td>Others</td>\n",
       "      <td>109</td>\n",
       "    </tr>\n",
       "    <tr>\n",
       "      <th>7</th>\n",
       "      <td>Others- Agriculture</td>\n",
       "      <td>1</td>\n",
       "    </tr>\n",
       "    <tr>\n",
       "      <th>8</th>\n",
       "      <td>Others- Agriculture</td>\n",
       "      <td>1</td>\n",
       "    </tr>\n",
       "    <tr>\n",
       "      <th>9</th>\n",
       "      <td>Others- Archaeology</td>\n",
       "      <td>1</td>\n",
       "    </tr>\n",
       "    <tr>\n",
       "      <th>10</th>\n",
       "      <td>Others- Spiritualism</td>\n",
       "      <td>1</td>\n",
       "    </tr>\n",
       "    <tr>\n",
       "      <th>11</th>\n",
       "      <td>Others-Agriculture</td>\n",
       "      <td>2</td>\n",
       "    </tr>\n",
       "    <tr>\n",
       "      <th>12</th>\n",
       "      <td>Others-Grassroots Innovation</td>\n",
       "      <td>1</td>\n",
       "    </tr>\n",
       "    <tr>\n",
       "      <th>13</th>\n",
       "      <td>Others-Spiritualism</td>\n",
       "      <td>1</td>\n",
       "    </tr>\n",
       "    <tr>\n",
       "      <th>14</th>\n",
       "      <td>Public Affairs</td>\n",
       "      <td>262</td>\n",
       "    </tr>\n",
       "    <tr>\n",
       "      <th>15</th>\n",
       "      <td>Science and Engineering</td>\n",
       "      <td>508</td>\n",
       "    </tr>\n",
       "    <tr>\n",
       "      <th>16</th>\n",
       "      <td>Science and Engineering</td>\n",
       "      <td>8</td>\n",
       "    </tr>\n",
       "    <tr>\n",
       "      <th>17</th>\n",
       "      <td>Social Work</td>\n",
       "      <td>489</td>\n",
       "    </tr>\n",
       "    <tr>\n",
       "      <th>18</th>\n",
       "      <td>Sports</td>\n",
       "      <td>249</td>\n",
       "    </tr>\n",
       "    <tr>\n",
       "      <th>19</th>\n",
       "      <td>Trade and Industry</td>\n",
       "      <td>204</td>\n",
       "    </tr>\n",
       "  </tbody>\n",
       "</table>\n",
       "</div>"
      ],
      "text/plain": [
       "                                   Field  Award\n",
       "0                                    Art   1068\n",
       "1                                   Art       2\n",
       "2                          Civil Service    424\n",
       "3               Literature and Education    952\n",
       "4   Literature and Education- Journalism      2\n",
       "5                               Medicine    590\n",
       "6                                 Others    109\n",
       "7                    Others- Agriculture      1\n",
       "8                   Others- Agriculture       1\n",
       "9                    Others- Archaeology      1\n",
       "10                  Others- Spiritualism      1\n",
       "11                    Others-Agriculture      2\n",
       "12          Others-Grassroots Innovation      1\n",
       "13                  Others-Spiritualism       1\n",
       "14                        Public Affairs    262\n",
       "15               Science and Engineering    508\n",
       "16              Science and Engineering       8\n",
       "17                           Social Work    489\n",
       "18                                Sports    249\n",
       "19                    Trade and Industry    204"
      ]
     },
     "execution_count": 318,
     "metadata": {},
     "output_type": "execute_result"
    }
   ],
   "source": [
    "field_awardcounts"
   ]
  },
  {
   "cell_type": "markdown",
   "id": "58375ee4",
   "metadata": {},
   "source": [
    "# ALL FEILD VIS AWARDS"
   ]
  },
  {
   "cell_type": "code",
   "execution_count": 121,
   "id": "e8064259",
   "metadata": {},
   "outputs": [
    {
     "data": {
      "text/plain": [
       "<AxesSubplot:title={'center':'Field and counts of award'}, xlabel='Field', ylabel='counts of awards'>"
      ]
     },
     "execution_count": 121,
     "metadata": {},
     "output_type": "execute_result"
    },
    {
     "data": {
      "image/png": "[encoded data removed]",
      "text/plain": [
       "<Figure size 864x432 with 1 Axes>"
      ]
     },
     "metadata": {
      "needs_background": "light"
     },
     "output_type": "display_data"
    }
   ],
   "source": [
    "field_awardcounts.plot.bar(figsize=(12,6),color=['#c8ef83','#3E5F28','#96C613','#D7DE12'],xlabel='Field',ylabel='counts of awards',title='Field and counts of award')"
   ]
  },
  {
   "cell_type": "code",
   "execution_count": 282,
   "id": "7d2fac47",
   "metadata": {},
   "outputs": [
    {
     "data": {
      "text/plain": [
       "State/Country\n",
       " Andhra Pradesh        1\n",
       " Madhya Pradesh        1\n",
       " Russia                1\n",
       "Afghanistan            2\n",
       "Andaman & Nicobar      6\n",
       "                    ... \n",
       "Uttar Pradesh        331\n",
       "Uttar Pradesh          1\n",
       "Uttarakhand           54\n",
       "Vietnam                1\n",
       "West Bengal          286\n",
       "Name: Award, Length: 102, dtype: int64"
      ]
     },
     "execution_count": 282,
     "metadata": {},
     "output_type": "execute_result"
    }
   ],
   "source": [
    "State_Country_award = data.groupby(['State/Country'])['Award'].count()\n",
    "State_Country_award"
   ]
  },
  {
   "cell_type": "markdown",
   "id": "a84b477b",
   "metadata": {},
   "source": [
    "# ALL COUNTRY AWARDS"
   ]
  },
  {
   "cell_type": "code",
   "execution_count": 128,
   "id": "bd8cef15",
   "metadata": {},
   "outputs": [
    {
     "data": {
      "text/plain": [
       "<AxesSubplot:title={'center':'all country/state awards'}, xlabel='State_Country', ylabel='Award'>"
      ]
     },
     "execution_count": 128,
     "metadata": {},
     "output_type": "execute_result"
    },
    {
     "data": {
      "image/png": "[encoded data removed]",
      "text/plain": [
       "<Figure size 1080x432 with 1 Axes>"
      ]
     },
     "metadata": {
      "needs_background": "light"
     },
     "output_type": "display_data"
    }
   ],
   "source": [
    "State_Country_award.plot.bar(figsize=(15,6),color=['#c8ef83','#3E5F28','#96C613','#D7DE12'],xlabel='State_Country',ylabel='Award',title='all country/state awards')"
   ]
  },
  {
   "cell_type": "code",
   "execution_count": 334,
   "id": "d772bbcb",
   "metadata": {},
   "outputs": [
    {
     "data": {
      "text/html": [
       "<div>\n",
       "<style scoped>\n",
       "    .dataframe tbody tr th:only-of-type {\n",
       "        vertical-align: middle;\n",
       "    }\n",
       "\n",
       "    .dataframe tbody tr th {\n",
       "        vertical-align: top;\n",
       "    }\n",
       "\n",
       "    .dataframe thead th {\n",
       "        text-align: right;\n",
       "    }\n",
       "</style>\n",
       "<table border=\"1\" class=\"dataframe\">\n",
       "  <thead>\n",
       "    <tr style=\"text-align: right;\">\n",
       "      <th></th>\n",
       "      <th>Field</th>\n",
       "      <th>Award</th>\n",
       "    </tr>\n",
       "  </thead>\n",
       "  <tbody>\n",
       "    <tr>\n",
       "      <th>0</th>\n",
       "      <td>Art</td>\n",
       "      <td>1068</td>\n",
       "    </tr>\n",
       "    <tr>\n",
       "      <th>3</th>\n",
       "      <td>Literature and Education</td>\n",
       "      <td>952</td>\n",
       "    </tr>\n",
       "    <tr>\n",
       "      <th>5</th>\n",
       "      <td>Medicine</td>\n",
       "      <td>590</td>\n",
       "    </tr>\n",
       "    <tr>\n",
       "      <th>15</th>\n",
       "      <td>Science and Engineering</td>\n",
       "      <td>508</td>\n",
       "    </tr>\n",
       "    <tr>\n",
       "      <th>17</th>\n",
       "      <td>Social Work</td>\n",
       "      <td>489</td>\n",
       "    </tr>\n",
       "    <tr>\n",
       "      <th>2</th>\n",
       "      <td>Civil Service</td>\n",
       "      <td>424</td>\n",
       "    </tr>\n",
       "    <tr>\n",
       "      <th>14</th>\n",
       "      <td>Public Affairs</td>\n",
       "      <td>262</td>\n",
       "    </tr>\n",
       "    <tr>\n",
       "      <th>18</th>\n",
       "      <td>Sports</td>\n",
       "      <td>249</td>\n",
       "    </tr>\n",
       "    <tr>\n",
       "      <th>19</th>\n",
       "      <td>Trade and Industry</td>\n",
       "      <td>204</td>\n",
       "    </tr>\n",
       "    <tr>\n",
       "      <th>6</th>\n",
       "      <td>Others</td>\n",
       "      <td>109</td>\n",
       "    </tr>\n",
       "  </tbody>\n",
       "</table>\n",
       "</div>"
      ],
      "text/plain": [
       "                       Field  Award\n",
       "0                        Art   1068\n",
       "3   Literature and Education    952\n",
       "5                   Medicine    590\n",
       "15   Science and Engineering    508\n",
       "17               Social Work    489\n",
       "2              Civil Service    424\n",
       "14            Public Affairs    262\n",
       "18                    Sports    249\n",
       "19        Trade and Industry    204\n",
       "6                     Others    109"
      ]
     },
     "execution_count": 334,
     "metadata": {},
     "output_type": "execute_result"
    }
   ],
   "source": [
    "\n",
    "top_awar_infield=field_awardcounts.sort_values('Award',ascending=False).head(10)\n",
    "top_awar_infield"
   ]
  },
  {
   "cell_type": "markdown",
   "id": "62678dd9",
   "metadata": {},
   "source": [
    "# TOP 10 AWARD FIELD"
   ]
  },
  {
   "cell_type": "code",
   "execution_count": 341,
   "id": "46daad21",
   "metadata": {},
   "outputs": [
    {
     "data": {
      "text/plain": [
       "<AxesSubplot:title={'center':'Top 10 Field award'}, ylabel='Field'>"
      ]
     },
     "execution_count": 341,
     "metadata": {},
     "output_type": "execute_result"
    },
    {
     "data": {
      "image/png": "[encoded data removed]",
      "text/plain": [
       "<Figure size 720x432 with 1 Axes>"
      ]
     },
     "metadata": {
      "needs_background": "light"
     },
     "output_type": "display_data"
    }
   ],
   "source": [
    "top_awar_infield.plot.barh(x='Field',y='Award',figsize=(10,6),color=['#c8ef83','#3E5F28','#96C613','#D7DE12'],xlabel='Field',ylabel='top Award',title='Top 10 Field award')"
   ]
  },
  {
   "cell_type": "code",
   "execution_count": 344,
   "id": "52583c42",
   "metadata": {},
   "outputs": [],
   "source": [
    "coutry_top10_award=data.groupby(['State/Country'])['Award'].count()"
   ]
  },
  {
   "cell_type": "code",
   "execution_count": 345,
   "id": "1a07cea4",
   "metadata": {},
   "outputs": [],
   "source": [
    "coutry_top10_award=pd.DataFrame(coutry_top10_award)"
   ]
  },
  {
   "cell_type": "code",
   "execution_count": 348,
   "id": "f9098de8",
   "metadata": {},
   "outputs": [],
   "source": [
    "coutry_top10_award=coutry_top10_award.reset_index()"
   ]
  },
  {
   "cell_type": "code",
   "execution_count": 354,
   "id": "486ac415",
   "metadata": {},
   "outputs": [],
   "source": [
    "coutry_top10_award=coutry_top10_award.sort_values(by='Award',ascending=False).head(10)"
   ]
  },
  {
   "cell_type": "code",
   "execution_count": 355,
   "id": "adf87215",
   "metadata": {},
   "outputs": [
    {
     "data": {
      "text/html": [
       "<div>\n",
       "<style scoped>\n",
       "    .dataframe tbody tr th:only-of-type {\n",
       "        vertical-align: middle;\n",
       "    }\n",
       "\n",
       "    .dataframe tbody tr th {\n",
       "        vertical-align: top;\n",
       "    }\n",
       "\n",
       "    .dataframe thead th {\n",
       "        text-align: right;\n",
       "    }\n",
       "</style>\n",
       "<table border=\"1\" class=\"dataframe\">\n",
       "  <thead>\n",
       "    <tr style=\"text-align: right;\">\n",
       "      <th></th>\n",
       "      <th>State/Country</th>\n",
       "      <th>Award</th>\n",
       "    </tr>\n",
       "  </thead>\n",
       "  <tbody>\n",
       "    <tr>\n",
       "      <th>28</th>\n",
       "      <td>Delhi</td>\n",
       "      <td>821</td>\n",
       "    </tr>\n",
       "    <tr>\n",
       "      <th>55</th>\n",
       "      <td>Maharashtra</td>\n",
       "      <td>805</td>\n",
       "    </tr>\n",
       "    <tr>\n",
       "      <th>88</th>\n",
       "      <td>Tamil Nadu</td>\n",
       "      <td>430</td>\n",
       "    </tr>\n",
       "    <tr>\n",
       "      <th>97</th>\n",
       "      <td>Uttar Pradesh</td>\n",
       "      <td>331</td>\n",
       "    </tr>\n",
       "    <tr>\n",
       "      <th>101</th>\n",
       "      <td>West Bengal</td>\n",
       "      <td>286</td>\n",
       "    </tr>\n",
       "    <tr>\n",
       "      <th>47</th>\n",
       "      <td>Karnataka</td>\n",
       "      <td>268</td>\n",
       "    </tr>\n",
       "    <tr>\n",
       "      <th>49</th>\n",
       "      <td>Kerala</td>\n",
       "      <td>166</td>\n",
       "    </tr>\n",
       "    <tr>\n",
       "      <th>36</th>\n",
       "      <td>Gujarat</td>\n",
       "      <td>150</td>\n",
       "    </tr>\n",
       "    <tr>\n",
       "      <th>90</th>\n",
       "      <td>Telangana</td>\n",
       "      <td>146</td>\n",
       "    </tr>\n",
       "    <tr>\n",
       "      <th>73</th>\n",
       "      <td>Punjab</td>\n",
       "      <td>140</td>\n",
       "    </tr>\n",
       "  </tbody>\n",
       "</table>\n",
       "</div>"
      ],
      "text/plain": [
       "     State/Country  Award\n",
       "28           Delhi    821\n",
       "55     Maharashtra    805\n",
       "88      Tamil Nadu    430\n",
       "97   Uttar Pradesh    331\n",
       "101    West Bengal    286\n",
       "47       Karnataka    268\n",
       "49          Kerala    166\n",
       "36         Gujarat    150\n",
       "90       Telangana    146\n",
       "73          Punjab    140"
      ]
     },
     "execution_count": 355,
     "metadata": {},
     "output_type": "execute_result"
    }
   ],
   "source": [
    "coutry_top10_award"
   ]
  },
  {
   "cell_type": "markdown",
   "id": "9eb26bf9",
   "metadata": {},
   "source": [
    "# TOP 10 AWARD IN COUNTRY"
   ]
  },
  {
   "cell_type": "code",
   "execution_count": 357,
   "id": "b375bdeb",
   "metadata": {},
   "outputs": [
    {
     "data": {
      "text/plain": [
       "<AxesSubplot:title={'center':'Top 10 award State country'}, ylabel='State_Country'>"
      ]
     },
     "execution_count": 357,
     "metadata": {},
     "output_type": "execute_result"
    },
    {
     "data": {
      "image/png": "[encoded data removed]",
      "text/plain": [
       "<Figure size 720x432 with 1 Axes>"
      ]
     },
     "metadata": {
      "needs_background": "light"
     },
     "output_type": "display_data"
    }
   ],
   "source": [
    "coutry_top10_award.plot.barh(x='State/Country',y='Award',figsize=(10,6),color=['#c8ef83','#3E5F28','#96C613','#D7DE12'],xlabel='State_Country',ylabel='Award',title='Top 10 award State country')"
   ]
  },
  {
   "cell_type": "code",
   "execution_count": 359,
   "id": "3d0ab05e",
   "metadata": {},
   "outputs": [
    {
     "data": {
      "text/plain": [
       "Shri Satyajit Ray                4\n",
       "Dr. Raja Ramanna                 3\n",
       "Dr. Raghunath Anant Mashelkar    3\n",
       "Shri Sundaram Ramakrishnan       3\n",
       "Dr. Satish Dhawan                3\n",
       "                                ..\n",
       "Shri Amitabha Chaudhuri          1\n",
       "Shri Anselm Sawihlira            1\n",
       "Shri Bahadur Singh               1\n",
       "Shri Chand Ram                   1\n",
       "Col Quazi Sajjad Ali Zahir       1\n",
       "Name: Name, Length: 4680, dtype: int64"
      ]
     },
     "execution_count": 359,
     "metadata": {},
     "output_type": "execute_result"
    }
   ],
   "source": [
    "data['Name'].value_counts()"
   ]
  },
  {
   "cell_type": "code",
   "execution_count": 392,
   "id": "336e36c2",
   "metadata": {},
   "outputs": [],
   "source": [
    "two_more_awards=data[(data['Name'].duplicated())]"
   ]
  },
  {
   "cell_type": "code",
   "execution_count": 393,
   "id": "5481f71a",
   "metadata": {},
   "outputs": [],
   "source": [
    "m=two_more_awards['Name'].value_counts()"
   ]
  },
  {
   "cell_type": "code",
   "execution_count": 394,
   "id": "9d9220e5",
   "metadata": {},
   "outputs": [],
   "source": [
    "m=pd.DataFrame(m)\n",
    "m=m.reset_index()"
   ]
  },
  {
   "cell_type": "code",
   "execution_count": 401,
   "id": "a9de1841",
   "metadata": {},
   "outputs": [],
   "source": [
    "m.rename(columns={'index':'name','awards':'award'},inplace=True)"
   ]
  },
  {
   "cell_type": "markdown",
   "id": "ae5c7996",
   "metadata": {},
   "source": [
    "# ONE (OR) MORE Awards IN PERSON"
   ]
  },
  {
   "cell_type": "code",
   "execution_count": 403,
   "id": "00fffe4c",
   "metadata": {},
   "outputs": [
    {
     "data": {
      "text/html": [
       "<div>\n",
       "<style scoped>\n",
       "    .dataframe tbody tr th:only-of-type {\n",
       "        vertical-align: middle;\n",
       "    }\n",
       "\n",
       "    .dataframe tbody tr th {\n",
       "        vertical-align: top;\n",
       "    }\n",
       "\n",
       "    .dataframe thead th {\n",
       "        text-align: right;\n",
       "    }\n",
       "</style>\n",
       "<table border=\"1\" class=\"dataframe\">\n",
       "  <thead>\n",
       "    <tr style=\"text-align: right;\">\n",
       "      <th></th>\n",
       "      <th>name</th>\n",
       "      <th>award</th>\n",
       "    </tr>\n",
       "  </thead>\n",
       "  <tbody>\n",
       "    <tr>\n",
       "      <th>0</th>\n",
       "      <td>Shri Satyajit Ray</td>\n",
       "      <td>3</td>\n",
       "    </tr>\n",
       "    <tr>\n",
       "      <th>1</th>\n",
       "      <td>Shri Viswanathan Anand</td>\n",
       "      <td>2</td>\n",
       "    </tr>\n",
       "    <tr>\n",
       "      <th>2</th>\n",
       "      <td>Shri Bismillah Khan</td>\n",
       "      <td>2</td>\n",
       "    </tr>\n",
       "    <tr>\n",
       "      <th>3</th>\n",
       "      <td>Dr. Kantilal Hastimal Sancheti</td>\n",
       "      <td>2</td>\n",
       "    </tr>\n",
       "    <tr>\n",
       "      <th>4</th>\n",
       "      <td>Shri Sundaram Ramakrishnan</td>\n",
       "      <td>2</td>\n",
       "    </tr>\n",
       "  </tbody>\n",
       "</table>\n",
       "</div>"
      ],
      "text/plain": [
       "                             name  award\n",
       "0               Shri Satyajit Ray      3\n",
       "1          Shri Viswanathan Anand      2\n",
       "2             Shri Bismillah Khan      2\n",
       "3  Dr. Kantilal Hastimal Sancheti      2\n",
       "4      Shri Sundaram Ramakrishnan      2"
      ]
     },
     "execution_count": 403,
     "metadata": {},
     "output_type": "execute_result"
    }
   ],
   "source": [
    "m.head(5)"
   ]
  },
  {
   "cell_type": "code",
   "execution_count": null,
   "id": "be54608f",
   "metadata": {},
   "outputs": [],
   "source": []
  },
  {
   "cell_type": "code",
   "execution_count": null,
   "id": "4b8bc96e",
   "metadata": {},
   "outputs": [],
   "source": []
  },
  {
   "cell_type": "code",
   "execution_count": null,
   "id": "9c4d1d1f",
   "metadata": {},
   "outputs": [],
   "source": []
  }
 ],
 "metadata": {
  "kernelspec": {
   "display_name": "Python 3 (ipykernel)",
   "language": "python",
   "name": "python3"
  },
  "language_info": {
   "codemirror_mode": {
    "name": "ipython",
    "version": 3
   },
   "file_extension": ".py",
   "mimetype": "text/x-python",
   "name": "python",
   "nbconvert_exporter": "python",
   "pygments_lexer": "ipython3",
   "version": "3.8.11"
  }
 },
 "nbformat": 4,
 "nbformat_minor": 5
}
