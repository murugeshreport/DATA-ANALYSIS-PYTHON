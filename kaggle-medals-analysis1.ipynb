{
 "cells": [
  {
   "cell_type": "markdown",
   "id": "4cea9998",
   "metadata": {
    "papermill": {
     "duration": 0.017887,
     "end_time": "2021-11-24T11:47:21.153672",
     "exception": false,
     "start_time": "2021-11-24T11:47:21.135785",
     "status": "completed"
    },
    "tags": []
   },
   "source": [
    "# Kaggle Medalvote DataSet"
   ]
  },
  {
   "cell_type": "markdown",
   "id": "74e8e00b",
   "metadata": {
    "papermill": {
     "duration": 0.01775,
     "end_time": "2021-11-24T11:47:21.189562",
     "exception": false,
     "start_time": "2021-11-24T11:47:21.171812",
     "status": "completed"
    },
    "tags": []
   },
   "source": [
    "![](https://tse4.mm.bing.net/th?id=OIP.mAaRgMDRFkn0DuywmDh-tgHaE7&pid=Api&P=0&w=256&h=170)"
   ]
  },
  {
   "cell_type": "code",
   "execution_count": 2,
   "id": "c1975aaf",
   "metadata": {
    "execution": {
     "iopub.execute_input": "2021-11-24T11:47:21.230841Z",
     "iopub.status.busy": "2021-11-24T11:47:21.230228Z",
     "iopub.status.idle": "2021-11-24T11:47:22.125290Z",
     "shell.execute_reply": "2021-11-24T11:47:22.125793Z",
     "shell.execute_reply.started": "2021-11-24T11:14:27.121716Z"
    },
    "papermill": {
     "duration": 0.91798,
     "end_time": "2021-11-24T11:47:22.125962",
     "exception": false,
     "start_time": "2021-11-24T11:47:21.207982",
     "status": "completed"
    },
    "tags": []
   },
   "outputs": [],
   "source": [
    "import pandas as pd\n",
    "import numpy as np\n",
    "import matplotlib.pyplot as plt\n",
    "import seaborn as sns"
   ]
  },
  {
   "cell_type": "code",
   "execution_count": 3,
   "id": "c4935382",
   "metadata": {
    "execution": {
     "iopub.execute_input": "2021-11-24T11:47:22.167030Z",
     "iopub.status.busy": "2021-11-24T11:47:22.166381Z",
     "iopub.status.idle": "2021-11-24T11:47:23.136062Z",
     "shell.execute_reply": "2021-11-24T11:47:23.136555Z",
     "shell.execute_reply.started": "2021-11-24T11:14:27.127933Z"
    },
    "papermill": {
     "duration": 0.991588,
     "end_time": "2021-11-24T11:47:23.136740",
     "exception": false,
     "start_time": "2021-11-24T11:47:22.145152",
     "status": "completed"
    },
    "tags": []
   },
   "outputs": [],
   "source": [
    "data = pd.read_csv('../input/dataset-of-kaggle-dataset-include-medalvotecount/medalvotecount.csv')"
   ]
  },
  {
   "cell_type": "code",
   "execution_count": 4,
   "id": "9df2f0a6",
   "metadata": {
    "execution": {
     "iopub.execute_input": "2021-11-24T11:47:23.176113Z",
     "iopub.status.busy": "2021-11-24T11:47:23.175464Z",
     "iopub.status.idle": "2021-11-24T11:47:23.204034Z",
     "shell.execute_reply": "2021-11-24T11:47:23.204463Z",
     "shell.execute_reply.started": "2021-11-24T11:14:27.779730Z"
    },
    "papermill": {
     "duration": 0.049566,
     "end_time": "2021-11-24T11:47:23.204631",
     "exception": false,
     "start_time": "2021-11-24T11:47:23.155065",
     "status": "completed"
    },
    "tags": []
   },
   "outputs": [
    {
     "data": {
      "text/html": [
       "<div>\n",
       "<style scoped>\n",
       "    .dataframe tbody tr th:only-of-type {\n",
       "        vertical-align: middle;\n",
       "    }\n",
       "\n",
       "    .dataframe tbody tr th {\n",
       "        vertical-align: top;\n",
       "    }\n",
       "\n",
       "    .dataframe thead th {\n",
       "        text-align: right;\n",
       "    }\n",
       "</style>\n",
       "<table border=\"1\" class=\"dataframe\">\n",
       "  <thead>\n",
       "    <tr style=\"text-align: right;\">\n",
       "      <th></th>\n",
       "      <th>DataSetMedals</th>\n",
       "      <th>ct</th>\n",
       "      <th>dataUrl</th>\n",
       "      <th>totalviews</th>\n",
       "      <th>votecount</th>\n",
       "      <th>medalvotecount</th>\n",
       "      <th>totaldownloads</th>\n",
       "      <th>totalkernel</th>\n",
       "      <th>title</th>\n",
       "      <th>description</th>\n",
       "      <th>key</th>\n",
       "      <th>license</th>\n",
       "    </tr>\n",
       "  </thead>\n",
       "  <tbody>\n",
       "    <tr>\n",
       "      <th>0</th>\n",
       "      <td>silver</td>\n",
       "      <td>2015-12-09 06:16:00</td>\n",
       "      <td>benhamner/nips-2015-papers</td>\n",
       "      <td>69099</td>\n",
       "      <td>96</td>\n",
       "      <td>29</td>\n",
       "      <td>4466</td>\n",
       "      <td>80</td>\n",
       "      <td>NIPS 2015 Papers</td>\n",
       "      <td>[Neural Information Processing Systems (NIPS)]...</td>\n",
       "      <td>['business', 'linguistics', 'artificial intell...</td>\n",
       "      <td>ODbL-1.0</td>\n",
       "    </tr>\n",
       "    <tr>\n",
       "      <th>1</th>\n",
       "      <td>gold</td>\n",
       "      <td>2016-02-19 06:37:00</td>\n",
       "      <td>benhamner/2016-us-election</td>\n",
       "      <td>233338</td>\n",
       "      <td>513</td>\n",
       "      <td>90</td>\n",
       "      <td>25261</td>\n",
       "      <td>259</td>\n",
       "      <td>2016 US Election</td>\n",
       "      <td>This contains data relevant for the 2016 US Pr...</td>\n",
       "      <td>['earth and nature', 'politics', 'computer sci...</td>\n",
       "      <td>CC-BY-NC-SA-4.0</td>\n",
       "    </tr>\n",
       "    <tr>\n",
       "      <th>2</th>\n",
       "      <td>silver</td>\n",
       "      <td>2016-03-08 22:41:02</td>\n",
       "      <td>seanlahman/the-history-of-baseball</td>\n",
       "      <td>63116</td>\n",
       "      <td>254</td>\n",
       "      <td>47</td>\n",
       "      <td>9294</td>\n",
       "      <td>143</td>\n",
       "      <td>The History of Baseball</td>\n",
       "      <td>Baffled why your team traded for that 34-year-...</td>\n",
       "      <td>['baseball', 'history']</td>\n",
       "      <td>CC-BY-SA-3.0</td>\n",
       "    </tr>\n",
       "    <tr>\n",
       "      <th>3</th>\n",
       "      <td>gold</td>\n",
       "      <td>2016-03-09 04:10:56</td>\n",
       "      <td>mylesoneill/world-university-rankings</td>\n",
       "      <td>335275</td>\n",
       "      <td>893</td>\n",
       "      <td>158</td>\n",
       "      <td>60607</td>\n",
       "      <td>487</td>\n",
       "      <td>World University Rankings</td>\n",
       "      <td>Of all the universities in the world, which ar...</td>\n",
       "      <td>['universities and colleges']</td>\n",
       "      <td>copyright-authors</td>\n",
       "    </tr>\n",
       "    <tr>\n",
       "      <th>4</th>\n",
       "      <td>bronze</td>\n",
       "      <td>2016-03-16 00:00:00</td>\n",
       "      <td>wcukierski/2016-march-ml-mania</td>\n",
       "      <td>18782</td>\n",
       "      <td>58</td>\n",
       "      <td>16</td>\n",
       "      <td>1895</td>\n",
       "      <td>73</td>\n",
       "      <td>2016 March ML Mania Predictions</td>\n",
       "      <td>Kaggle’s [March Machine Learning Mania](https:...</td>\n",
       "      <td>['games', 'basketball', 'artificial intelligen...</td>\n",
       "      <td>CC-BY-NC-SA-4.0</td>\n",
       "    </tr>\n",
       "    <tr>\n",
       "      <th>...</th>\n",
       "      <td>...</td>\n",
       "      <td>...</td>\n",
       "      <td>...</td>\n",
       "      <td>...</td>\n",
       "      <td>...</td>\n",
       "      <td>...</td>\n",
       "      <td>...</td>\n",
       "      <td>...</td>\n",
       "      <td>...</td>\n",
       "      <td>...</td>\n",
       "      <td>...</td>\n",
       "      <td>...</td>\n",
       "    </tr>\n",
       "    <tr>\n",
       "      <th>42950</th>\n",
       "      <td>None</td>\n",
       "      <td>2021-11-20 18:15:00</td>\n",
       "      <td>alexx8bits/phishing-detection-systematic-revie...</td>\n",
       "      <td>8</td>\n",
       "      <td>1</td>\n",
       "      <td>0</td>\n",
       "      <td>1</td>\n",
       "      <td>0</td>\n",
       "      <td>Phishing Detection - Systematic Review 2019-2021</td>\n",
       "      <td>NaN</td>\n",
       "      <td>[]</td>\n",
       "      <td>unknown</td>\n",
       "    </tr>\n",
       "    <tr>\n",
       "      <th>42951</th>\n",
       "      <td>None</td>\n",
       "      <td>2021-11-20 18:31:13</td>\n",
       "      <td>sarcasticpsycho/bangla-hate-speech-detection-f...</td>\n",
       "      <td>4</td>\n",
       "      <td>1</td>\n",
       "      <td>0</td>\n",
       "      <td>4</td>\n",
       "      <td>0</td>\n",
       "      <td>Bangla Hate Speech Detection From Videos</td>\n",
       "      <td>NaN</td>\n",
       "      <td>[]</td>\n",
       "      <td>unknown</td>\n",
       "    </tr>\n",
       "    <tr>\n",
       "      <th>42952</th>\n",
       "      <td>None</td>\n",
       "      <td>2021-11-20 21:25:30</td>\n",
       "      <td>baycelik/traffic-density-january-2020-dataset</td>\n",
       "      <td>12</td>\n",
       "      <td>1</td>\n",
       "      <td>1</td>\n",
       "      <td>1</td>\n",
       "      <td>0</td>\n",
       "      <td>Traffic Density January 2020 Dataset</td>\n",
       "      <td>### Context\\n\\nHourly Traffic Density Data Set...</td>\n",
       "      <td>['exploratory data analysis', 'data visualizat...</td>\n",
       "      <td>unknown</td>\n",
       "    </tr>\n",
       "    <tr>\n",
       "      <th>42953</th>\n",
       "      <td>None</td>\n",
       "      <td>2021-11-20 21:32:01</td>\n",
       "      <td>brandonconrady/coin-jar</td>\n",
       "      <td>438</td>\n",
       "      <td>4</td>\n",
       "      <td>0</td>\n",
       "      <td>37</td>\n",
       "      <td>0</td>\n",
       "      <td>Coin Jar</td>\n",
       "      <td>### Context\\n\\nI got bored and recorded the ye...</td>\n",
       "      <td>['united states', 'categorical data', 'currenc...</td>\n",
       "      <td>CC0-1.0</td>\n",
       "    </tr>\n",
       "    <tr>\n",
       "      <th>42954</th>\n",
       "      <td>None</td>\n",
       "      <td>2021-11-20 21:36:44</td>\n",
       "      <td>duraidkhaalid/tally-marks</td>\n",
       "      <td>4</td>\n",
       "      <td>1</td>\n",
       "      <td>0</td>\n",
       "      <td>1</td>\n",
       "      <td>0</td>\n",
       "      <td>tally_marks</td>\n",
       "      <td>NaN</td>\n",
       "      <td>['education']</td>\n",
       "      <td>unknown</td>\n",
       "    </tr>\n",
       "  </tbody>\n",
       "</table>\n",
       "<p>42955 rows × 12 columns</p>\n",
       "</div>"
      ],
      "text/plain": [
       "      DataSetMedals                   ct  \\\n",
       "0            silver  2015-12-09 06:16:00   \n",
       "1              gold  2016-02-19 06:37:00   \n",
       "2            silver  2016-03-08 22:41:02   \n",
       "3              gold  2016-03-09 04:10:56   \n",
       "4            bronze  2016-03-16 00:00:00   \n",
       "...             ...                  ...   \n",
       "42950          None  2021-11-20 18:15:00   \n",
       "42951          None  2021-11-20 18:31:13   \n",
       "42952          None  2021-11-20 21:25:30   \n",
       "42953          None  2021-11-20 21:32:01   \n",
       "42954          None  2021-11-20 21:36:44   \n",
       "\n",
       "                                                 dataUrl  totalviews  \\\n",
       "0                             benhamner/nips-2015-papers       69099   \n",
       "1                             benhamner/2016-us-election      233338   \n",
       "2                     seanlahman/the-history-of-baseball       63116   \n",
       "3                  mylesoneill/world-university-rankings      335275   \n",
       "4                         wcukierski/2016-march-ml-mania       18782   \n",
       "...                                                  ...         ...   \n",
       "42950  alexx8bits/phishing-detection-systematic-revie...           8   \n",
       "42951  sarcasticpsycho/bangla-hate-speech-detection-f...           4   \n",
       "42952      baycelik/traffic-density-january-2020-dataset          12   \n",
       "42953                            brandonconrady/coin-jar         438   \n",
       "42954                          duraidkhaalid/tally-marks           4   \n",
       "\n",
       "       votecount  medalvotecount  totaldownloads  totalkernel  \\\n",
       "0             96              29            4466           80   \n",
       "1            513              90           25261          259   \n",
       "2            254              47            9294          143   \n",
       "3            893             158           60607          487   \n",
       "4             58              16            1895           73   \n",
       "...          ...             ...             ...          ...   \n",
       "42950          1               0               1            0   \n",
       "42951          1               0               4            0   \n",
       "42952          1               1               1            0   \n",
       "42953          4               0              37            0   \n",
       "42954          1               0               1            0   \n",
       "\n",
       "                                                   title  \\\n",
       "0                                       NIPS 2015 Papers   \n",
       "1                                       2016 US Election   \n",
       "2                                The History of Baseball   \n",
       "3                              World University Rankings   \n",
       "4                        2016 March ML Mania Predictions   \n",
       "...                                                  ...   \n",
       "42950  Phishing Detection - Systematic Review 2019-2021    \n",
       "42951           Bangla Hate Speech Detection From Videos   \n",
       "42952               Traffic Density January 2020 Dataset   \n",
       "42953                                           Coin Jar   \n",
       "42954                                        tally_marks   \n",
       "\n",
       "                                             description  \\\n",
       "0      [Neural Information Processing Systems (NIPS)]...   \n",
       "1      This contains data relevant for the 2016 US Pr...   \n",
       "2      Baffled why your team traded for that 34-year-...   \n",
       "3      Of all the universities in the world, which ar...   \n",
       "4      Kaggle’s [March Machine Learning Mania](https:...   \n",
       "...                                                  ...   \n",
       "42950                                                NaN   \n",
       "42951                                                NaN   \n",
       "42952  ### Context\\n\\nHourly Traffic Density Data Set...   \n",
       "42953  ### Context\\n\\nI got bored and recorded the ye...   \n",
       "42954                                                NaN   \n",
       "\n",
       "                                                     key            license  \n",
       "0      ['business', 'linguistics', 'artificial intell...           ODbL-1.0  \n",
       "1      ['earth and nature', 'politics', 'computer sci...    CC-BY-NC-SA-4.0  \n",
       "2                                ['baseball', 'history']       CC-BY-SA-3.0  \n",
       "3                          ['universities and colleges']  copyright-authors  \n",
       "4      ['games', 'basketball', 'artificial intelligen...    CC-BY-NC-SA-4.0  \n",
       "...                                                  ...                ...  \n",
       "42950                                                 []            unknown  \n",
       "42951                                                 []            unknown  \n",
       "42952  ['exploratory data analysis', 'data visualizat...            unknown  \n",
       "42953  ['united states', 'categorical data', 'currenc...            CC0-1.0  \n",
       "42954                                      ['education']            unknown  \n",
       "\n",
       "[42955 rows x 12 columns]"
      ]
     },
     "execution_count": 4,
     "metadata": {},
     "output_type": "execute_result"
    }
   ],
   "source": [
    "data"
   ]
  },
  {
   "cell_type": "code",
   "execution_count": 5,
   "id": "9c9f575f",
   "metadata": {
    "execution": {
     "iopub.execute_input": "2021-11-24T11:47:23.248662Z",
     "iopub.status.busy": "2021-11-24T11:47:23.247779Z",
     "iopub.status.idle": "2021-11-24T11:47:23.251805Z",
     "shell.execute_reply": "2021-11-24T11:47:23.251275Z",
     "shell.execute_reply.started": "2021-11-24T11:14:27.803322Z"
    },
    "papermill": {
     "duration": 0.027898,
     "end_time": "2021-11-24T11:47:23.251937",
     "exception": false,
     "start_time": "2021-11-24T11:47:23.224039",
     "status": "completed"
    },
    "tags": []
   },
   "outputs": [
    {
     "data": {
      "text/plain": [
       "Index(['DataSetMedals', 'ct', 'dataUrl', 'totalviews', 'votecount',\n",
       "       'medalvotecount', 'totaldownloads', 'totalkernel', 'title',\n",
       "       'description', 'key', 'license'],\n",
       "      dtype='object')"
      ]
     },
     "execution_count": 5,
     "metadata": {},
     "output_type": "execute_result"
    }
   ],
   "source": [
    "data.columns"
   ]
  },
  {
   "cell_type": "code",
   "execution_count": 6,
   "id": "3fdc4dcc",
   "metadata": {
    "execution": {
     "iopub.execute_input": "2021-11-24T11:47:23.312228Z",
     "iopub.status.busy": "2021-11-24T11:47:23.311573Z",
     "iopub.status.idle": "2021-11-24T11:47:23.319515Z",
     "shell.execute_reply": "2021-11-24T11:47:23.319022Z",
     "shell.execute_reply.started": "2021-11-24T11:14:27.814187Z"
    },
    "papermill": {
     "duration": 0.048539,
     "end_time": "2021-11-24T11:47:23.319646",
     "exception": false,
     "start_time": "2021-11-24T11:47:23.271107",
     "status": "completed"
    },
    "tags": []
   },
   "outputs": [
    {
     "data": {
      "text/plain": [
       "DataSetMedals         0\n",
       "ct                    0\n",
       "dataUrl               0\n",
       "totalviews            0\n",
       "votecount             0\n",
       "medalvotecount        0\n",
       "totaldownloads        0\n",
       "totalkernel           0\n",
       "title                 0\n",
       "description       22614\n",
       "key                   0\n",
       "license               0\n",
       "dtype: int64"
      ]
     },
     "execution_count": 6,
     "metadata": {},
     "output_type": "execute_result"
    }
   ],
   "source": [
    "data.isnull().sum()"
   ]
  },
  {
   "cell_type": "markdown",
   "id": "02b28dc9",
   "metadata": {
    "papermill": {
     "duration": 0.019426,
     "end_time": "2021-11-24T11:47:23.359059",
     "exception": false,
     "start_time": "2021-11-24T11:47:23.339633",
     "status": "completed"
    },
    "tags": []
   },
   "source": [
    "# How much of Each Medals Distripution"
   ]
  },
  {
   "cell_type": "code",
   "execution_count": 7,
   "id": "2ae7388a",
   "metadata": {
    "execution": {
     "iopub.execute_input": "2021-11-24T11:47:23.402745Z",
     "iopub.status.busy": "2021-11-24T11:47:23.402090Z",
     "iopub.status.idle": "2021-11-24T11:47:23.405387Z",
     "shell.execute_reply": "2021-11-24T11:47:23.404799Z",
     "shell.execute_reply.started": "2021-11-24T11:14:27.863386Z"
    },
    "papermill": {
     "duration": 0.02697,
     "end_time": "2021-11-24T11:47:23.405534",
     "exception": false,
     "start_time": "2021-11-24T11:47:23.378564",
     "status": "completed"
    },
    "tags": []
   },
   "outputs": [],
   "source": [
    "color = ['#808000','#9ACD32','#006400','#DAA520','#2F4F4F']"
   ]
  },
  {
   "cell_type": "code",
   "execution_count": 8,
   "id": "b848d6a9",
   "metadata": {
    "execution": {
     "iopub.execute_input": "2021-11-24T11:47:23.466990Z",
     "iopub.status.busy": "2021-11-24T11:47:23.463034Z",
     "iopub.status.idle": "2021-11-24T11:47:23.890570Z",
     "shell.execute_reply": "2021-11-24T11:47:23.891022Z",
     "shell.execute_reply.started": "2021-11-24T11:14:27.868362Z"
    },
    "papermill": {
     "duration": 0.465672,
     "end_time": "2021-11-24T11:47:23.891179",
     "exception": false,
     "start_time": "2021-11-24T11:47:23.425507",
     "status": "completed"
    },
    "tags": []
   },
   "outputs": [
    {
     "data": {
      "image/png": "[encoded data removed]",
      "text/plain": [
       "<Figure size 864x432 with 2 Axes>"
      ]
     },
     "metadata": {
      "needs_background": "light"
     },
     "output_type": "display_data"
    }
   ],
   "source": [
    "fig,ax = plt.subplots(1,2,figsize=(12,6))\n",
    "sns.barplot(x=data['DataSetMedals'].value_counts().index,y=data['DataSetMedals'].value_counts().values,palette =color,ax=ax[0])\n",
    "ax[1].pie(data['DataSetMedals'].value_counts().values,colors=color,autopct='%1.1f%%')\n",
    "plt.suptitle('Each Medals Distripution',weight='bold',fontname='Heather',fontsize=20)\n",
    "ax[1].text(1,1,'Gold(469)',color='#DAA520',weight='bold',fontsize=15)\n",
    "ax[1].text(1,0.8,'Silver(1135)',color='#006400',weight='bold',fontsize=15)\n",
    "ax[1].text(1,0.6,'Bronze(7203)',color='#9ACD32',weight='bold',fontsize=15)\n",
    "ax[0].tick_params(labelleft=False,left = False)\n",
    "ax[0].tick_params(axis='x',labelsize=15,rotation=60)\n",
    "ax[0]=sns.despine(left=True)"
   ]
  },
  {
   "cell_type": "code",
   "execution_count": 9,
   "id": "2ab2baeb",
   "metadata": {
    "execution": {
     "iopub.execute_input": "2021-11-24T11:47:23.955189Z",
     "iopub.status.busy": "2021-11-24T11:47:23.943800Z",
     "iopub.status.idle": "2021-11-24T11:47:24.006027Z",
     "shell.execute_reply": "2021-11-24T11:47:24.005447Z",
     "shell.execute_reply.started": "2021-11-24T11:14:28.200188Z"
    },
    "papermill": {
     "duration": 0.094185,
     "end_time": "2021-11-24T11:47:24.006176",
     "exception": false,
     "start_time": "2021-11-24T11:47:23.911991",
     "status": "completed"
    },
    "tags": []
   },
   "outputs": [],
   "source": [
    "data[['year','month','time']]=data['ct'].str.split('-',expand=True)"
   ]
  },
  {
   "cell_type": "markdown",
   "id": "de2d7a87",
   "metadata": {
    "papermill": {
     "duration": 0.020276,
     "end_time": "2021-11-24T11:47:24.047052",
     "exception": false,
     "start_time": "2021-11-24T11:47:24.026776",
     "status": "completed"
    },
    "tags": []
   },
   "source": [
    "# How Much Medals in Each Years and Month?"
   ]
  },
  {
   "cell_type": "markdown",
   "id": "33c862b6",
   "metadata": {
    "papermill": {
     "duration": 0.020235,
     "end_time": "2021-11-24T11:47:24.088052",
     "exception": false,
     "start_time": "2021-11-24T11:47:24.067817",
     "status": "completed"
    },
    "tags": []
   },
   "source": [
    "# Year"
   ]
  },
  {
   "cell_type": "code",
   "execution_count": 10,
   "id": "4af26635",
   "metadata": {
    "execution": {
     "iopub.execute_input": "2021-11-24T11:47:24.132570Z",
     "iopub.status.busy": "2021-11-24T11:47:24.131665Z",
     "iopub.status.idle": "2021-11-24T11:47:24.381874Z",
     "shell.execute_reply": "2021-11-24T11:47:24.381262Z",
     "shell.execute_reply.started": "2021-11-24T11:14:28.292151Z"
    },
    "papermill": {
     "duration": 0.273576,
     "end_time": "2021-11-24T11:47:24.382014",
     "exception": false,
     "start_time": "2021-11-24T11:47:24.108438",
     "status": "completed"
    },
    "tags": []
   },
   "outputs": [
    {
     "data": {
      "text/plain": [
       "Text(0.5, 1.0, 'All Year Total Medals')"
      ]
     },
     "execution_count": 10,
     "metadata": {},
     "output_type": "execute_result"
    },
    {
     "data": {
      "image/png": "[encoded data removed]",
      "text/plain": [
       "<Figure size 864x432 with 1 Axes>"
      ]
     },
     "metadata": {
      "needs_background": "light"
     },
     "output_type": "display_data"
    }
   ],
   "source": [
    "fig=plt.figure(figsize=(12,6))\n",
    "sns.barplot(x=data['year'].value_counts().index,y=data['year'].value_counts().values,palette=color)\n",
    "plt.title('All Year Total Medals',weight='bold',fontname='monospace',fontsize=20)"
   ]
  },
  {
   "cell_type": "code",
   "execution_count": 11,
   "id": "4d4388d8",
   "metadata": {
    "execution": {
     "iopub.execute_input": "2021-11-24T11:47:24.583210Z",
     "iopub.status.busy": "2021-11-24T11:47:24.566281Z",
     "iopub.status.idle": "2021-11-24T11:47:24.601528Z",
     "shell.execute_reply": "2021-11-24T11:47:24.600984Z",
     "shell.execute_reply.started": "2021-11-24T11:14:28.567591Z"
    },
    "papermill": {
     "duration": 0.197806,
     "end_time": "2021-11-24T11:47:24.601683",
     "exception": false,
     "start_time": "2021-11-24T11:47:24.403877",
     "status": "completed"
    },
    "tags": []
   },
   "outputs": [],
   "source": [
    "data[['year','month','time']]=data['ct'].str.split('-',expand=True)"
   ]
  },
  {
   "cell_type": "code",
   "execution_count": 12,
   "id": "c177fc7c",
   "metadata": {
    "execution": {
     "iopub.execute_input": "2021-11-24T11:47:24.648304Z",
     "iopub.status.busy": "2021-11-24T11:47:24.647739Z",
     "iopub.status.idle": "2021-11-24T11:47:24.729034Z",
     "shell.execute_reply": "2021-11-24T11:47:24.728493Z",
     "shell.execute_reply.started": "2021-11-24T11:14:28.656742Z"
    },
    "papermill": {
     "duration": 0.10569,
     "end_time": "2021-11-24T11:47:24.729183",
     "exception": false,
     "start_time": "2021-11-24T11:47:24.623493",
     "status": "completed"
    },
    "tags": []
   },
   "outputs": [],
   "source": [
    "year2015 =data[(data['year']=='2015')]\n",
    "year2016 = data[(data['year']=='2016')]\n",
    "year2017 = data[(data['year']=='2017')]\n",
    "year2018 = data[(data['year']=='2018')]\n",
    "year2019 = data[(data['year']=='2019')]\n",
    "year2020 = data[(data['year']=='2020')]\n",
    "year2021 = data[(data['year']=='2021')]\n",
    "\n",
    "year2015=year2015.groupby(['DataSetMedals'])['year'].count()\n",
    "year2016=year2016.groupby(['DataSetMedals'])['year'].count()\n",
    "year2017=year2017.groupby(['DataSetMedals'])['year'].count()\n",
    "year2018=year2018.groupby(['DataSetMedals'])['year'].count()\n",
    "year2019=year2019.groupby(['DataSetMedals'])['year'].count()\n",
    "year2020=year2020.groupby(['DataSetMedals'])['year'].count()\n",
    "year2021=year2021.groupby(['DataSetMedals'])['year'].count()\n",
    "\n",
    "year2015=year2015.reset_index()\n",
    "year2016=year2016.reset_index()\n",
    "year2017=year2017.reset_index()\n",
    "year2018=year2018.reset_index()\n",
    "year2019=year2019.reset_index()\n",
    "year2020=year2020.reset_index()\n",
    "year2021=year2021.reset_index()"
   ]
  },
  {
   "cell_type": "code",
   "execution_count": 13,
   "id": "80d0743b",
   "metadata": {
    "execution": {
     "iopub.execute_input": "2021-11-24T11:47:24.863250Z",
     "iopub.status.busy": "2021-11-24T11:47:24.809750Z",
     "iopub.status.idle": "2021-11-24T11:47:25.489525Z",
     "shell.execute_reply": "2021-11-24T11:47:25.489001Z",
     "shell.execute_reply.started": "2021-11-24T11:14:28.775489Z"
    },
    "papermill": {
     "duration": 0.737906,
     "end_time": "2021-11-24T11:47:25.489675",
     "exception": false,
     "start_time": "2021-11-24T11:47:24.751769",
     "status": "completed"
    },
    "tags": []
   },
   "outputs": [
    {
     "data": {
      "text/plain": [
       "Text(0.5, 0.98, '% of Each Year All Medals')"
      ]
     },
     "execution_count": 13,
     "metadata": {},
     "output_type": "execute_result"
    },
    {
     "data": {
      "image/png": "[encoded data removed]",
      "text/plain": [
       "<Figure size 1296x432 with 7 Axes>"
      ]
     },
     "metadata": {},
     "output_type": "display_data"
    }
   ],
   "source": [
    "fig,ax = plt.subplots(1,7,figsize=(18,6))\n",
    "ax[0].pie(year2015['year'],colors=color,explode = [0.03 for i in year2015['year']])\n",
    "ax[0].text(0.5,1.5,'Silver(1)',color='black',weight='bold',fontsize=10)\n",
    "ax[0].text(0.5,3,'2015',color='red',weight='bold',fontsize=10)\n",
    "ax[1].pie(year2016['year'],colors=color,autopct = '%1.1F%%',explode = [0.03 for i in year2016['year']])\n",
    "ax[1].text(0.5,1.5,'Gold(30)',color='black',weight='bold',fontsize=10)\n",
    "ax[1].text(0.5,2,'Silver(33)',color='black',weight='bold',fontsize=10)\n",
    "ax[1].text(0.5,2.5,'Bronze(87)',color='black',weight='bold',fontsize=10)\n",
    "ax[1].text(0.5,3,'2016',color='red',weight='bold',fontsize=10)\n",
    "ax[2].pie(year2017['year'],colors=color,autopct = '%1.1F%%',explode = [0.03 for i in year2017['year']])\n",
    "ax[2].text(0.5,1.5,'Gold(82)',color='black',weight='bold',fontsize=10)\n",
    "ax[2].text(0.5,2,'Silver(106)',color='black',weight='bold',fontsize=10)\n",
    "ax[2].text(0.5,2.5,'Bronze(408)',color='black',weight='bold',fontsize=10)\n",
    "ax[2].text(0.5,3,'2017',color='red',weight='bold',fontsize=10)\n",
    "ax[3].pie(year2018['year'],colors=color,autopct = '%1.1F%%',explode = [0.03 for i in year2018['year']])\n",
    "ax[3].text(0.5,1.5,'Gold(71)',color='black',weight='bold',fontsize=10)\n",
    "ax[3].text(0.5,2,'Silver(121)',color='black',weight='bold',fontsize=10)\n",
    "ax[3].text(0.5,2.5,'Bronze(488)',color='black',weight='bold',fontsize=10)\n",
    "ax[3].text(0.5,3,'2018',color='red',weight='bold',fontsize=10)\n",
    "ax[4].pie(year2019['year'],colors=color,autopct = '%1.1F%%',explode = [0.03 for i in year2019['year']])\n",
    "ax[4].text(0.5,1.5,'Gold(65)',color='black',weight='bold',fontsize=10)\n",
    "ax[4].text(0.5,2,'Silver(161)',color='black',weight='bold',fontsize=10)\n",
    "ax[4].text(0.5,2.5,'Bronze(678)',color='black',weight='bold',fontsize=10)\n",
    "ax[4].text(0.5,3,'2019',color='red',weight='bold',fontsize=10)\n",
    "ax[5].pie(year2020['year'],colors=color,autopct = '%1.1F%%',explode = [0.03 for i in year2020['year']])\n",
    "ax[5].text(0.5,1.5,'Gold(171)',color='black',weight='bold',fontsize=10)\n",
    "ax[5].text(0.5,2,'Silver(437)',color='black',weight='bold',fontsize=10)\n",
    "ax[5].text(0.5,2.5,'Bronze(2853)',color='black',weight='bold',fontsize=10)\n",
    "ax[5].text(0.5,3,'2020',color='red',weight='bold',fontsize=10)\n",
    "ax[6].pie(year2021['year'],colors=color,autopct = '%1.1F%%',explode = [0.03 for i in year2021['year']])\n",
    "ax[6].text(0.5,1.5,'Gold(50)',color='black',weight='bold',fontsize=10)\n",
    "ax[6].text(0.5,2,'Silver(276)',color='black',weight='bold',fontsize=10)\n",
    "ax[6].text(0.5,2.5,'Bronze(2689)',color='black',weight='bold',fontsize=10)\n",
    "ax[6].text(0.5,3,'2021',color='red',weight='bold',fontsize=10)\n",
    "plt.suptitle('% of Each Year All Medals',weight='bold',fontsize=20,fontname='Heather')\n"
   ]
  },
  {
   "cell_type": "markdown",
   "id": "28efe7a4",
   "metadata": {
    "papermill": {
     "duration": 0.023942,
     "end_time": "2021-11-24T11:47:25.537639",
     "exception": false,
     "start_time": "2021-11-24T11:47:25.513697",
     "status": "completed"
    },
    "tags": []
   },
   "source": [
    "# Month"
   ]
  },
  {
   "cell_type": "code",
   "execution_count": 14,
   "id": "19c536ec",
   "metadata": {
    "execution": {
     "iopub.execute_input": "2021-11-24T11:47:25.599874Z",
     "iopub.status.busy": "2021-11-24T11:47:25.599196Z",
     "iopub.status.idle": "2021-11-24T11:47:25.602244Z",
     "shell.execute_reply": "2021-11-24T11:47:25.601673Z",
     "shell.execute_reply.started": "2021-11-24T11:14:32.199615Z"
    },
    "papermill": {
     "duration": 0.0397,
     "end_time": "2021-11-24T11:47:25.602378",
     "exception": false,
     "start_time": "2021-11-24T11:47:25.562678",
     "status": "completed"
    },
    "tags": []
   },
   "outputs": [],
   "source": [
    "month =data['month'].value_counts().reset_index().sort_values('index')"
   ]
  },
  {
   "cell_type": "code",
   "execution_count": 15,
   "id": "b7379f90",
   "metadata": {
    "execution": {
     "iopub.execute_input": "2021-11-24T11:47:25.655300Z",
     "iopub.status.busy": "2021-11-24T11:47:25.654717Z",
     "iopub.status.idle": "2021-11-24T11:47:25.656889Z",
     "shell.execute_reply": "2021-11-24T11:47:25.656299Z",
     "shell.execute_reply.started": "2021-11-24T11:14:32.216592Z"
    },
    "papermill": {
     "duration": 0.03104,
     "end_time": "2021-11-24T11:47:25.657026",
     "exception": false,
     "start_time": "2021-11-24T11:47:25.625986",
     "status": "completed"
    },
    "tags": []
   },
   "outputs": [],
   "source": [
    "month.columns=['month','medals']"
   ]
  },
  {
   "cell_type": "code",
   "execution_count": 16,
   "id": "c877963f",
   "metadata": {
    "execution": {
     "iopub.execute_input": "2021-11-24T11:47:25.748541Z",
     "iopub.status.busy": "2021-11-24T11:47:25.745282Z",
     "iopub.status.idle": "2021-11-24T11:47:26.118572Z",
     "shell.execute_reply": "2021-11-24T11:47:26.119242Z",
     "shell.execute_reply.started": "2021-11-24T11:14:32.229803Z"
    },
    "papermill": {
     "duration": 0.43772,
     "end_time": "2021-11-24T11:47:26.119431",
     "exception": false,
     "start_time": "2021-11-24T11:47:25.681711",
     "status": "completed"
    },
    "tags": []
   },
   "outputs": [
    {
     "data": {
      "text/plain": [
       "Text(0.5, 0.98, 'Each Month Medals Distripution')"
      ]
     },
     "execution_count": 16,
     "metadata": {},
     "output_type": "execute_result"
    },
    {
     "data": {
      "image/png": "[encoded data removed]",
      "text/plain": [
       "<Figure size 864x432 with 2 Axes>"
      ]
     },
     "metadata": {
      "needs_background": "light"
     },
     "output_type": "display_data"
    }
   ],
   "source": [
    "fig,ax = plt.subplots(1,2,figsize=(12,6))\n",
    "sns.barplot(x=month['month'],y=month['medals'],palette =color,ax=ax[0])\n",
    "ax[1].pie(month['medals'],colors=color,autopct='%1.1f%%',labels=month['month'])\n",
    "plt.suptitle('Each Month Medals Distripution',weight='bold',fontname='Heather',fontsize=20)"
   ]
  },
  {
   "cell_type": "markdown",
   "id": "93469f45",
   "metadata": {
    "papermill": {
     "duration": 0.025914,
     "end_time": "2021-11-24T11:47:26.172155",
     "exception": false,
     "start_time": "2021-11-24T11:47:26.146241",
     "status": "completed"
    },
    "tags": []
   },
   "source": [
    "# Total Views and Votes Compare with Madels"
   ]
  },
  {
   "cell_type": "code",
   "execution_count": 17,
   "id": "7c7cb482",
   "metadata": {
    "execution": {
     "iopub.execute_input": "2021-11-24T11:47:26.227116Z",
     "iopub.status.busy": "2021-11-24T11:47:26.226204Z",
     "iopub.status.idle": "2021-11-24T11:47:26.575021Z",
     "shell.execute_reply": "2021-11-24T11:47:26.574494Z",
     "shell.execute_reply.started": "2021-11-24T11:14:32.686683Z"
    },
    "papermill": {
     "duration": 0.377765,
     "end_time": "2021-11-24T11:47:26.575170",
     "exception": false,
     "start_time": "2021-11-24T11:47:26.197405",
     "status": "completed"
    },
    "tags": []
   },
   "outputs": [
    {
     "data": {
      "text/plain": [
       "Text(0.5, 0.98, 'Total Views and Total Votes')"
      ]
     },
     "execution_count": 17,
     "metadata": {},
     "output_type": "execute_result"
    },
    {
     "data": {
      "image/png": "[encoded data removed]",
      "text/plain": [
       "<Figure size 1008x432 with 2 Axes>"
      ]
     },
     "metadata": {
      "needs_background": "light"
     },
     "output_type": "display_data"
    }
   ],
   "source": [
    "fig,ax = plt.subplots(1,2,figsize=(14,6))\n",
    "sns.barplot(x=data.groupby(['DataSetMedals'])['totalviews'].sum().index,y=data.groupby(['DataSetMedals'])['totalviews'].sum().values,ax=ax[0],palette=color)\n",
    "\n",
    "sns.barplot(x=data.groupby(['DataSetMedals'])['votecount'].sum().index,y=data.groupby(['DataSetMedals'])['votecount'].sum().values,ax=ax[1],palette=color)\n",
    "ax[0].set_xlabel('Total Views For All Madels',weight='semibold')\n",
    "ax[1].set_xlabel('Total Votes For All Madels',weight='semibold')\n",
    "plt.suptitle('Total Views and Total Votes',weight='bold',fontname='monospace',fontsize=20)"
   ]
  },
  {
   "cell_type": "markdown",
   "id": "4442de6c",
   "metadata": {
    "papermill": {
     "duration": 0.025969,
     "end_time": "2021-11-24T11:47:26.627504",
     "exception": false,
     "start_time": "2021-11-24T11:47:26.601535",
     "status": "completed"
    },
    "tags": []
   },
   "source": [
    "# Total Downloads and Kernel Compare with Madels"
   ]
  },
  {
   "cell_type": "code",
   "execution_count": 18,
   "id": "10d81c5c",
   "metadata": {
    "execution": {
     "iopub.execute_input": "2021-11-24T11:47:26.689917Z",
     "iopub.status.busy": "2021-11-24T11:47:26.689169Z",
     "iopub.status.idle": "2021-11-24T11:47:27.011291Z",
     "shell.execute_reply": "2021-11-24T11:47:27.011709Z",
     "shell.execute_reply.started": "2021-11-24T11:14:33.070508Z"
    },
    "papermill": {
     "duration": 0.357455,
     "end_time": "2021-11-24T11:47:27.011875",
     "exception": false,
     "start_time": "2021-11-24T11:47:26.654420",
     "status": "completed"
    },
    "tags": []
   },
   "outputs": [
    {
     "data": {
      "text/plain": [
       "Text(0.5, 0.98, 'Total Downloads and Total Kernal')"
      ]
     },
     "execution_count": 18,
     "metadata": {},
     "output_type": "execute_result"
    },
    {
     "data": {
      "image/png": "[encoded data removed]",
      "text/plain": [
       "<Figure size 1008x432 with 2 Axes>"
      ]
     },
     "metadata": {
      "needs_background": "light"
     },
     "output_type": "display_data"
    }
   ],
   "source": [
    "fig,ax = plt.subplots(1,2,figsize=(14,6))\n",
    "sns.barplot(x=data.groupby(['DataSetMedals'])['totaldownloads'].sum().index,y=data.groupby(['DataSetMedals'])['totaldownloads'].sum().values,ax=ax[0],palette=color)\n",
    "\n",
    "sns.barplot(x=data.groupby(['DataSetMedals'])['totalkernel'].sum().index,y=data.groupby(['DataSetMedals'])['totalkernel'].sum().values,ax=ax[1],palette=color)\n",
    "ax[0].set_xlabel('Total Downloads For All Madels',weight='semibold')\n",
    "ax[1].set_xlabel('Total Kernal For All Madels',weight='semibold')\n",
    "plt.suptitle('Total Downloads and Total Kernal',weight='bold',fontname='monospace',fontsize=20)"
   ]
  },
  {
   "cell_type": "markdown",
   "id": "ad0400b9",
   "metadata": {
    "papermill": {
     "duration": 0.036639,
     "end_time": "2021-11-24T11:47:27.077078",
     "exception": false,
     "start_time": "2021-11-24T11:47:27.040439",
     "status": "completed"
    },
    "tags": []
   },
   "source": [
    "# Which Title Present More ?, Which DataSet More Participate in Kaggle\n",
    "# Top 10 Title"
   ]
  },
  {
   "cell_type": "code",
   "execution_count": 19,
   "id": "1b17dff8",
   "metadata": {
    "execution": {
     "iopub.execute_input": "2021-11-24T11:47:27.141811Z",
     "iopub.status.busy": "2021-11-24T11:47:27.141095Z",
     "iopub.status.idle": "2021-11-24T11:47:27.384198Z",
     "shell.execute_reply": "2021-11-24T11:47:27.385014Z",
     "shell.execute_reply.started": "2021-11-24T11:19:46.957867Z"
    },
    "papermill": {
     "duration": 0.278735,
     "end_time": "2021-11-24T11:47:27.385266",
     "exception": false,
     "start_time": "2021-11-24T11:47:27.106531",
     "status": "completed"
    },
    "tags": []
   },
   "outputs": [],
   "source": [
    "title = data['title'].str.split(expand=True)"
   ]
  },
  {
   "cell_type": "code",
   "execution_count": 20,
   "id": "93dae20e",
   "metadata": {
    "execution": {
     "iopub.execute_input": "2021-11-24T11:47:27.450791Z",
     "iopub.status.busy": "2021-11-24T11:47:27.450099Z",
     "iopub.status.idle": "2021-11-24T11:47:27.481460Z",
     "shell.execute_reply": "2021-11-24T11:47:27.482001Z",
     "shell.execute_reply.started": "2021-11-24T11:19:49.492378Z"
    },
    "papermill": {
     "duration": 0.06261,
     "end_time": "2021-11-24T11:47:27.482169",
     "exception": false,
     "start_time": "2021-11-24T11:47:27.419559",
     "status": "completed"
    },
    "tags": []
   },
   "outputs": [],
   "source": [
    "title = title.iloc[:,0]\n",
    "title = title.value_counts()\n",
    "title = title.reset_index()\n",
    "title.columns=['title','counts']"
   ]
  },
  {
   "cell_type": "code",
   "execution_count": 21,
   "id": "5477a239",
   "metadata": {
    "execution": {
     "iopub.execute_input": "2021-11-24T11:47:27.550046Z",
     "iopub.status.busy": "2021-11-24T11:47:27.549413Z",
     "iopub.status.idle": "2021-11-24T11:47:27.553935Z",
     "shell.execute_reply": "2021-11-24T11:47:27.554999Z",
     "shell.execute_reply.started": "2021-11-24T11:19:55.177976Z"
    },
    "papermill": {
     "duration": 0.037279,
     "end_time": "2021-11-24T11:47:27.555169",
     "exception": false,
     "start_time": "2021-11-24T11:47:27.517890",
     "status": "completed"
    },
    "tags": []
   },
   "outputs": [],
   "source": [
    "title1=title.head(10)"
   ]
  },
  {
   "cell_type": "code",
   "execution_count": 22,
   "id": "d1d9b708",
   "metadata": {
    "execution": {
     "iopub.execute_input": "2021-11-24T11:47:27.621928Z",
     "iopub.status.busy": "2021-11-24T11:47:27.620937Z",
     "iopub.status.idle": "2021-11-24T11:47:27.884592Z",
     "shell.execute_reply": "2021-11-24T11:47:27.883503Z",
     "shell.execute_reply.started": "2021-11-24T11:20:03.722783Z"
    },
    "papermill": {
     "duration": 0.301892,
     "end_time": "2021-11-24T11:47:27.884793",
     "exception": false,
     "start_time": "2021-11-24T11:47:27.582901",
     "status": "completed"
    },
    "tags": []
   },
   "outputs": [
    {
     "data": {
      "text/plain": [
       "Text(0.5, 0.98, 'Top 10 Title Dataset')"
      ]
     },
     "execution_count": 22,
     "metadata": {},
     "output_type": "execute_result"
    },
    {
     "data": {
      "image/png": "[encoded data removed]",
      "text/plain": [
       "<Figure size 864x432 with 1 Axes>"
      ]
     },
     "metadata": {
      "needs_background": "light"
     },
     "output_type": "display_data"
    }
   ],
   "source": [
    "fig= plt.figure(figsize=(12,6))\n",
    "sns.barplot(x=title1['title'],y=title1['counts'],palette=color)\n",
    "plt.suptitle('Top 10 Title Dataset',weight='bold',fontname='monospace',fontsize=20)"
   ]
  },
  {
   "cell_type": "markdown",
   "id": "ae6c54fc",
   "metadata": {
    "papermill": {
     "duration": 0.028554,
     "end_time": "2021-11-24T11:47:27.945343",
     "exception": false,
     "start_time": "2021-11-24T11:47:27.916789",
     "status": "completed"
    },
    "tags": []
   },
   "source": [
    "# conclution"
   ]
  },
  {
   "cell_type": "markdown",
   "id": "79f51dce",
   "metadata": {
    "papermill": {
     "duration": 0.0282,
     "end_time": "2021-11-24T11:47:28.002469",
     "exception": false,
     "start_time": "2021-11-24T11:47:27.974269",
     "status": "completed"
    },
    "tags": []
   },
   "source": [
    "The dataset medal lot of person participate but **79%** no madel remain **21% madels**.The  most of madels brons,\n",
    "The 2020 year more madel bring the dataset.\n",
    "The more dowonload,views the dataset definitly available the gold madels,more kernal using also available gold madels.\n",
    "The kaggle website more using dataset **COVID-19**."
   ]
  },
  {
   "cell_type": "code",
   "execution_count": null,
   "id": "987fc464",
   "metadata": {
    "papermill": {
     "duration": 0.027874,
     "end_time": "2021-11-24T11:47:28.058851",
     "exception": false,
     "start_time": "2021-11-24T11:47:28.030977",
     "status": "completed"
    },
    "tags": []
   },
   "outputs": [],
   "source": []
  }
 ],
 "metadata": {
  "kernelspec": {
   "display_name": "Python 3 (ipykernel)",
   "language": "python",
   "name": "python3"
  },
  "language_info": {
   "codemirror_mode": {
    "name": "ipython",
    "version": 3
   },
   "file_extension": ".py",
   "mimetype": "text/x-python",
   "name": "python",
   "nbconvert_exporter": "python",
   "pygments_lexer": "ipython3",
   "version": "3.8.11"
  },
  "papermill": {
   "default_parameters": {},
   "duration": 15.599195,
   "end_time": "2021-11-24T11:47:28.798377",
   "environment_variables": {},
   "exception": null,
   "input_path": "__notebook__.ipynb",
   "output_path": "__notebook__.ipynb",
   "parameters": {},
   "start_time": "2021-11-24T11:47:13.199182",
   "version": "2.3.3"
  }
 },
 "nbformat": 4,
 "nbformat_minor": 5
}
