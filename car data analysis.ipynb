{
 "cells": [
  {
   "cell_type": "markdown",
   "id": "204a487f",
   "metadata": {},
   "source": [
    "# CAR DATA ANALYSIS"
   ]
  },
  {
   "cell_type": "markdown",
   "id": "85a72e90",
   "metadata": {
    "papermill": {
     "duration": 0.058798,
     "end_time": "2021-11-19T11:32:56.145945",
     "exception": false,
     "start_time": "2021-11-19T11:32:56.087147",
     "status": "completed"
    },
    "tags": []
   },
   "source": [
    "![](https://wallup.net/wp-content/uploads/2016/01/290880-orange-BMW-car-German_car-BMW_M3_GTS.jpg)"
   ]
  },
  {
   "cell_type": "markdown",
   "id": "c76fd5a1",
   "metadata": {
    "papermill": {
     "duration": 0.058632,
     "end_time": "2021-11-19T11:32:56.263159",
     "exception": false,
     "start_time": "2021-11-19T11:32:56.204527",
     "status": "completed"
    },
    "tags": []
   },
   "source": [
    "**EDA ANALYSIS**"
   ]
  },
  {
   "cell_type": "code",
   "execution_count": 2,
   "id": "2108fe83",
   "metadata": {
    "execution": {
     "iopub.execute_input": "2021-11-19T11:32:56.383537Z",
     "iopub.status.busy": "2021-11-19T11:32:56.382875Z",
     "iopub.status.idle": "2021-11-19T11:32:57.318849Z",
     "shell.execute_reply": "2021-11-19T11:32:57.318207Z",
     "shell.execute_reply.started": "2021-11-19T10:56:18.033663Z"
    },
    "papermill": {
     "duration": 0.996773,
     "end_time": "2021-11-19T11:32:57.318992",
     "exception": false,
     "start_time": "2021-11-19T11:32:56.322219",
     "status": "completed"
    },
    "tags": []
   },
   "outputs": [],
   "source": [
    "import pandas as pd\n",
    "import numpy as np\n",
    "import matplotlib.pyplot as plt\n",
    "import seaborn as sns"
   ]
  },
  {
   "cell_type": "code",
   "execution_count": null,
   "id": "63fe4481",
   "metadata": {
    "papermill": {
     "duration": 0.059931,
     "end_time": "2021-11-19T11:32:57.437167",
     "exception": false,
     "start_time": "2021-11-19T11:32:57.377236",
     "status": "completed"
    },
    "tags": []
   },
   "outputs": [],
   "source": []
  },
  {
   "cell_type": "code",
   "execution_count": 3,
   "id": "972c5a14",
   "metadata": {
    "execution": {
     "iopub.execute_input": "2021-11-19T11:32:57.625103Z",
     "iopub.status.busy": "2021-11-19T11:32:57.624407Z",
     "iopub.status.idle": "2021-11-19T11:32:57.654095Z",
     "shell.execute_reply": "2021-11-19T11:32:57.654652Z",
     "shell.execute_reply.started": "2021-11-19T10:56:18.986836Z"
    },
    "papermill": {
     "duration": 0.091377,
     "end_time": "2021-11-19T11:32:57.654853",
     "exception": false,
     "start_time": "2021-11-19T11:32:57.563476",
     "status": "completed"
    },
    "tags": []
   },
   "outputs": [],
   "source": [
    "car = pd.read_csv('../input/used-car-price-dataset-competition-format/X_train.csv')"
   ]
  },
  {
   "cell_type": "code",
   "execution_count": 4,
   "id": "31b66768",
   "metadata": {
    "execution": {
     "iopub.execute_input": "2021-11-19T11:32:57.775497Z",
     "iopub.status.busy": "2021-11-19T11:32:57.774867Z",
     "iopub.status.idle": "2021-11-19T11:32:57.808102Z",
     "shell.execute_reply": "2021-11-19T11:32:57.808650Z",
     "shell.execute_reply.started": "2021-11-19T10:56:19.018682Z"
    },
    "papermill": {
     "duration": 0.094923,
     "end_time": "2021-11-19T11:32:57.808854",
     "exception": false,
     "start_time": "2021-11-19T11:32:57.713931",
     "status": "completed"
    },
    "tags": []
   },
   "outputs": [
    {
     "data": {
      "text/html": [
       "<div>\n",
       "<style scoped>\n",
       "    .dataframe tbody tr th:only-of-type {\n",
       "        vertical-align: middle;\n",
       "    }\n",
       "\n",
       "    .dataframe tbody tr th {\n",
       "        vertical-align: top;\n",
       "    }\n",
       "\n",
       "    .dataframe thead th {\n",
       "        text-align: right;\n",
       "    }\n",
       "</style>\n",
       "<table border=\"1\" class=\"dataframe\">\n",
       "  <thead>\n",
       "    <tr style=\"text-align: right;\">\n",
       "      <th></th>\n",
       "      <th>carID</th>\n",
       "      <th>brand</th>\n",
       "      <th>model</th>\n",
       "      <th>year</th>\n",
       "      <th>transmission</th>\n",
       "      <th>mileage</th>\n",
       "      <th>fuelType</th>\n",
       "      <th>tax</th>\n",
       "      <th>mpg</th>\n",
       "      <th>engineSize</th>\n",
       "    </tr>\n",
       "  </thead>\n",
       "  <tbody>\n",
       "    <tr>\n",
       "      <th>0</th>\n",
       "      <td>13207</td>\n",
       "      <td>hyundi</td>\n",
       "      <td>Santa Fe</td>\n",
       "      <td>2019</td>\n",
       "      <td>Semi-Auto</td>\n",
       "      <td>4223</td>\n",
       "      <td>Diesel</td>\n",
       "      <td>145.0</td>\n",
       "      <td>39.8</td>\n",
       "      <td>2.2</td>\n",
       "    </tr>\n",
       "    <tr>\n",
       "      <th>1</th>\n",
       "      <td>17314</td>\n",
       "      <td>vauxhall</td>\n",
       "      <td>GTC</td>\n",
       "      <td>2015</td>\n",
       "      <td>Manual</td>\n",
       "      <td>47870</td>\n",
       "      <td>Diesel</td>\n",
       "      <td>125.0</td>\n",
       "      <td>60.1</td>\n",
       "      <td>2.0</td>\n",
       "    </tr>\n",
       "    <tr>\n",
       "      <th>2</th>\n",
       "      <td>12342</td>\n",
       "      <td>audi</td>\n",
       "      <td>RS4</td>\n",
       "      <td>2019</td>\n",
       "      <td>Automatic</td>\n",
       "      <td>5151</td>\n",
       "      <td>Petrol</td>\n",
       "      <td>145.0</td>\n",
       "      <td>29.1</td>\n",
       "      <td>2.9</td>\n",
       "    </tr>\n",
       "    <tr>\n",
       "      <th>3</th>\n",
       "      <td>13426</td>\n",
       "      <td>vw</td>\n",
       "      <td>Scirocco</td>\n",
       "      <td>2016</td>\n",
       "      <td>Automatic</td>\n",
       "      <td>20423</td>\n",
       "      <td>Diesel</td>\n",
       "      <td>30.0</td>\n",
       "      <td>57.6</td>\n",
       "      <td>2.0</td>\n",
       "    </tr>\n",
       "    <tr>\n",
       "      <th>4</th>\n",
       "      <td>16004</td>\n",
       "      <td>skoda</td>\n",
       "      <td>Scala</td>\n",
       "      <td>2020</td>\n",
       "      <td>Semi-Auto</td>\n",
       "      <td>3569</td>\n",
       "      <td>Petrol</td>\n",
       "      <td>145.0</td>\n",
       "      <td>47.1</td>\n",
       "      <td>1.0</td>\n",
       "    </tr>\n",
       "    <tr>\n",
       "      <th>...</th>\n",
       "      <td>...</td>\n",
       "      <td>...</td>\n",
       "      <td>...</td>\n",
       "      <td>...</td>\n",
       "      <td>...</td>\n",
       "      <td>...</td>\n",
       "      <td>...</td>\n",
       "      <td>...</td>\n",
       "      <td>...</td>\n",
       "      <td>...</td>\n",
       "    </tr>\n",
       "    <tr>\n",
       "      <th>4955</th>\n",
       "      <td>16898</td>\n",
       "      <td>merc</td>\n",
       "      <td>GL Class</td>\n",
       "      <td>2015</td>\n",
       "      <td>Automatic</td>\n",
       "      <td>24314</td>\n",
       "      <td>Diesel</td>\n",
       "      <td>125.0</td>\n",
       "      <td>56.6</td>\n",
       "      <td>2.1</td>\n",
       "    </tr>\n",
       "    <tr>\n",
       "      <th>4956</th>\n",
       "      <td>14416</td>\n",
       "      <td>bmw</td>\n",
       "      <td>6 Series</td>\n",
       "      <td>2017</td>\n",
       "      <td>Automatic</td>\n",
       "      <td>18000</td>\n",
       "      <td>Diesel</td>\n",
       "      <td>145.0</td>\n",
       "      <td>51.4</td>\n",
       "      <td>3.0</td>\n",
       "    </tr>\n",
       "    <tr>\n",
       "      <th>4957</th>\n",
       "      <td>15453</td>\n",
       "      <td>vw</td>\n",
       "      <td>CC</td>\n",
       "      <td>2015</td>\n",
       "      <td>Manual</td>\n",
       "      <td>84932</td>\n",
       "      <td>Diesel</td>\n",
       "      <td>30.0</td>\n",
       "      <td>60.1</td>\n",
       "      <td>2.0</td>\n",
       "    </tr>\n",
       "    <tr>\n",
       "      <th>4958</th>\n",
       "      <td>14666</td>\n",
       "      <td>audi</td>\n",
       "      <td>A7</td>\n",
       "      <td>2017</td>\n",
       "      <td>Semi-Auto</td>\n",
       "      <td>30150</td>\n",
       "      <td>Diesel</td>\n",
       "      <td>145.0</td>\n",
       "      <td>62.8</td>\n",
       "      <td>3.0</td>\n",
       "    </tr>\n",
       "    <tr>\n",
       "      <th>4959</th>\n",
       "      <td>15135</td>\n",
       "      <td>merc</td>\n",
       "      <td>SLK</td>\n",
       "      <td>2014</td>\n",
       "      <td>Automatic</td>\n",
       "      <td>40230</td>\n",
       "      <td>Diesel</td>\n",
       "      <td>150.0</td>\n",
       "      <td>56.5</td>\n",
       "      <td>3.0</td>\n",
       "    </tr>\n",
       "  </tbody>\n",
       "</table>\n",
       "<p>4960 rows × 10 columns</p>\n",
       "</div>"
      ],
      "text/plain": [
       "      carID     brand      model  year transmission  mileage fuelType    tax  \\\n",
       "0     13207    hyundi   Santa Fe  2019    Semi-Auto     4223   Diesel  145.0   \n",
       "1     17314  vauxhall        GTC  2015       Manual    47870   Diesel  125.0   \n",
       "2     12342      audi        RS4  2019    Automatic     5151   Petrol  145.0   \n",
       "3     13426        vw   Scirocco  2016    Automatic    20423   Diesel   30.0   \n",
       "4     16004     skoda      Scala  2020    Semi-Auto     3569   Petrol  145.0   \n",
       "...     ...       ...        ...   ...          ...      ...      ...    ...   \n",
       "4955  16898      merc   GL Class  2015    Automatic    24314   Diesel  125.0   \n",
       "4956  14416       bmw   6 Series  2017    Automatic    18000   Diesel  145.0   \n",
       "4957  15453        vw         CC  2015       Manual    84932   Diesel   30.0   \n",
       "4958  14666      audi         A7  2017    Semi-Auto    30150   Diesel  145.0   \n",
       "4959  15135      merc        SLK  2014    Automatic    40230   Diesel  150.0   \n",
       "\n",
       "       mpg  engineSize  \n",
       "0     39.8         2.2  \n",
       "1     60.1         2.0  \n",
       "2     29.1         2.9  \n",
       "3     57.6         2.0  \n",
       "4     47.1         1.0  \n",
       "...    ...         ...  \n",
       "4955  56.6         2.1  \n",
       "4956  51.4         3.0  \n",
       "4957  60.1         2.0  \n",
       "4958  62.8         3.0  \n",
       "4959  56.5         3.0  \n",
       "\n",
       "[4960 rows x 10 columns]"
      ]
     },
     "execution_count": 4,
     "metadata": {},
     "output_type": "execute_result"
    }
   ],
   "source": [
    "car"
   ]
  },
  {
   "cell_type": "code",
   "execution_count": 5,
   "id": "2822f894",
   "metadata": {
    "execution": {
     "iopub.execute_input": "2021-11-19T11:32:57.930982Z",
     "iopub.status.busy": "2021-11-19T11:32:57.930300Z",
     "iopub.status.idle": "2021-11-19T11:32:57.952959Z",
     "shell.execute_reply": "2021-11-19T11:32:57.953487Z",
     "shell.execute_reply.started": "2021-11-19T10:56:19.052462Z"
    },
    "papermill": {
     "duration": 0.085865,
     "end_time": "2021-11-19T11:32:57.953687",
     "exception": false,
     "start_time": "2021-11-19T11:32:57.867822",
     "status": "completed"
    },
    "tags": []
   },
   "outputs": [
    {
     "name": "stdout",
     "output_type": "stream",
     "text": [
      "<class 'pandas.core.frame.DataFrame'>\n",
      "RangeIndex: 4960 entries, 0 to 4959\n",
      "Data columns (total 10 columns):\n",
      " #   Column        Non-Null Count  Dtype  \n",
      "---  ------        --------------  -----  \n",
      " 0   carID         4960 non-null   int64  \n",
      " 1   brand         4960 non-null   object \n",
      " 2   model         4960 non-null   object \n",
      " 3   year          4960 non-null   int64  \n",
      " 4   transmission  4960 non-null   object \n",
      " 5   mileage       4960 non-null   int64  \n",
      " 6   fuelType      4960 non-null   object \n",
      " 7   tax           4960 non-null   float64\n",
      " 8   mpg           4960 non-null   float64\n",
      " 9   engineSize    4960 non-null   float64\n",
      "dtypes: float64(3), int64(3), object(4)\n",
      "memory usage: 387.6+ KB\n"
     ]
    }
   ],
   "source": [
    "car.info()"
   ]
  },
  {
   "cell_type": "code",
   "execution_count": 6,
   "id": "82c7368a",
   "metadata": {
    "execution": {
     "iopub.execute_input": "2021-11-19T11:32:58.077621Z",
     "iopub.status.busy": "2021-11-19T11:32:58.076803Z",
     "iopub.status.idle": "2021-11-19T11:32:58.086524Z",
     "shell.execute_reply": "2021-11-19T11:32:58.087146Z",
     "shell.execute_reply.started": "2021-11-19T10:56:19.079128Z"
    },
    "papermill": {
     "duration": 0.073897,
     "end_time": "2021-11-19T11:32:58.087324",
     "exception": false,
     "start_time": "2021-11-19T11:32:58.013427",
     "status": "completed"
    },
    "tags": []
   },
   "outputs": [
    {
     "data": {
      "text/plain": [
       "carID           0\n",
       "brand           0\n",
       "model           0\n",
       "year            0\n",
       "transmission    0\n",
       "mileage         0\n",
       "fuelType        0\n",
       "tax             0\n",
       "mpg             0\n",
       "engineSize      0\n",
       "dtype: int64"
      ]
     },
     "execution_count": 6,
     "metadata": {},
     "output_type": "execute_result"
    }
   ],
   "source": [
    "car.isnull().sum()"
   ]
  },
  {
   "cell_type": "markdown",
   "id": "1538ae3f",
   "metadata": {
    "papermill": {
     "duration": 0.059881,
     "end_time": "2021-11-19T11:32:58.207359",
     "exception": false,
     "start_time": "2021-11-19T11:32:58.147478",
     "status": "completed"
    },
    "tags": []
   },
   "source": [
    "NO NULL VALES"
   ]
  },
  {
   "cell_type": "markdown",
   "id": "ef777914",
   "metadata": {
    "papermill": {
     "duration": 0.060365,
     "end_time": "2021-11-19T11:32:58.327125",
     "exception": false,
     "start_time": "2021-11-19T11:32:58.266760",
     "status": "completed"
    },
    "tags": []
   },
   "source": [
    "****GOING TO VISUALIZATION****"
   ]
  },
  {
   "cell_type": "markdown",
   "id": "b984e202",
   "metadata": {
    "papermill": {
     "duration": 0.05999,
     "end_time": "2021-11-19T11:32:58.446787",
     "exception": false,
     "start_time": "2021-11-19T11:32:58.386797",
     "status": "completed"
    },
    "tags": []
   },
   "source": [
    "**CAR BRAND**"
   ]
  },
  {
   "cell_type": "code",
   "execution_count": 7,
   "id": "5ee8984b",
   "metadata": {
    "execution": {
     "iopub.execute_input": "2021-11-19T11:32:58.570733Z",
     "iopub.status.busy": "2021-11-19T11:32:58.570042Z",
     "iopub.status.idle": "2021-11-19T11:32:58.576444Z",
     "shell.execute_reply": "2021-11-19T11:32:58.577045Z",
     "shell.execute_reply.started": "2021-11-19T10:56:19.091453Z"
    },
    "papermill": {
     "duration": 0.070702,
     "end_time": "2021-11-19T11:32:58.577228",
     "exception": false,
     "start_time": "2021-11-19T11:32:58.506526",
     "status": "completed"
    },
    "tags": []
   },
   "outputs": [],
   "source": [
    "total_car_brand = car['brand'].value_counts()\n",
    "total_car_brand=total_car_brand.reset_index()"
   ]
  },
  {
   "cell_type": "code",
   "execution_count": 8,
   "id": "c4e29afa",
   "metadata": {
    "execution": {
     "iopub.execute_input": "2021-11-19T11:32:58.700328Z",
     "iopub.status.busy": "2021-11-19T11:32:58.699580Z",
     "iopub.status.idle": "2021-11-19T11:32:58.703441Z",
     "shell.execute_reply": "2021-11-19T11:32:58.704218Z",
     "shell.execute_reply.started": "2021-11-19T10:56:19.102849Z"
    },
    "papermill": {
     "duration": 0.067222,
     "end_time": "2021-11-19T11:32:58.704410",
     "exception": false,
     "start_time": "2021-11-19T11:32:58.637188",
     "status": "completed"
    },
    "tags": []
   },
   "outputs": [],
   "source": [
    "total_car_brand.columns=['brand','total_brand']"
   ]
  },
  {
   "cell_type": "code",
   "execution_count": 9,
   "id": "8333c134",
   "metadata": {
    "execution": {
     "iopub.execute_input": "2021-11-19T11:32:58.828202Z",
     "iopub.status.busy": "2021-11-19T11:32:58.827499Z",
     "iopub.status.idle": "2021-11-19T11:32:58.831053Z",
     "shell.execute_reply": "2021-11-19T11:32:58.831593Z",
     "shell.execute_reply.started": "2021-11-19T10:56:19.112650Z"
    },
    "papermill": {
     "duration": 0.066433,
     "end_time": "2021-11-19T11:32:58.831785",
     "exception": false,
     "start_time": "2021-11-19T11:32:58.765352",
     "status": "completed"
    },
    "tags": []
   },
   "outputs": [],
   "source": [
    "color = ['#800000','#808080','#808000','#808000','#008080']"
   ]
  },
  {
   "cell_type": "code",
   "execution_count": 10,
   "id": "6ca2f7f3",
   "metadata": {
    "execution": {
     "iopub.execute_input": "2021-11-19T11:32:58.955030Z",
     "iopub.status.busy": "2021-11-19T11:32:58.954366Z",
     "iopub.status.idle": "2021-11-19T11:32:59.386956Z",
     "shell.execute_reply": "2021-11-19T11:32:59.387420Z",
     "shell.execute_reply.started": "2021-11-19T10:56:19.125750Z"
    },
    "papermill": {
     "duration": 0.49575,
     "end_time": "2021-11-19T11:32:59.387610",
     "exception": false,
     "start_time": "2021-11-19T11:32:58.891860",
     "status": "completed"
    },
    "tags": []
   },
   "outputs": [
    {
     "data": {
      "text/plain": [
       "Text(0, 0.5, 'COUNTS OF BRAND')"
      ]
     },
     "execution_count": 10,
     "metadata": {},
     "output_type": "execute_result"
    },
    {
     "data": {
      "image/png": "[encoded data removed]",
      "text/plain": [
       "<Figure size 864x360 with 1 Axes>"
      ]
     },
     "metadata": {
      "needs_background": "light"
     },
     "output_type": "display_data"
    }
   ],
   "source": [
    "fig = plt.figure(figsize=(12,5))\n",
    "sns.barplot(x=total_car_brand['brand'],y=total_car_brand['total_brand'],palette=color)\n",
    "plt.title('TOTAL ALL BRAND')\n",
    "plt.xlabel('BRAND')\n",
    "plt.ylabel('COUNTS OF BRAND')"
   ]
  },
  {
   "cell_type": "markdown",
   "id": "50a69510",
   "metadata": {
    "papermill": {
     "duration": 0.060826,
     "end_time": "2021-11-19T11:32:59.509439",
     "exception": false,
     "start_time": "2021-11-19T11:32:59.448613",
     "status": "completed"
    },
    "tags": []
   },
   "source": [
    "![](https://tse2.mm.bing.net/th?id=OIP.f9y7JYfVUaBrsB-bw2chUQHaDZ&pid=Api&P=0&w=343&h=157)first place brand "
   ]
  },
  {
   "cell_type": "markdown",
   "id": "1c8e633f",
   "metadata": {
    "papermill": {
     "duration": 0.060188,
     "end_time": "2021-11-19T11:32:59.630414",
     "exception": false,
     "start_time": "2021-11-19T11:32:59.570226",
     "status": "completed"
    },
    "tags": []
   },
   "source": [
    "![](https://tse3.mm.bing.net/th?id=OIP.QpIZ0KbnpZ3N0XHDT08stgHaEP&pid=Api&P=0&w=286&h=163)second place brand "
   ]
  },
  {
   "cell_type": "markdown",
   "id": "26637151",
   "metadata": {
    "papermill": {
     "duration": 0.060675,
     "end_time": "2021-11-19T11:32:59.752200",
     "exception": false,
     "start_time": "2021-11-19T11:32:59.691525",
     "status": "completed"
    },
    "tags": []
   },
   "source": [
    "![](https://tse2.mm.bing.net/th?id=OIP.e2ieN-nB9DvtkszCyxOhqAHaEo&pid=Api&P=0&w=289&h=180)third place brand "
   ]
  },
  {
   "cell_type": "markdown",
   "id": "3b87cb20",
   "metadata": {
    "papermill": {
     "duration": 0.060507,
     "end_time": "2021-11-19T11:32:59.873433",
     "exception": false,
     "start_time": "2021-11-19T11:32:59.812926",
     "status": "completed"
    },
    "tags": []
   },
   "source": [
    "**MODEL**"
   ]
  },
  {
   "cell_type": "code",
   "execution_count": 11,
   "id": "45176b15",
   "metadata": {
    "execution": {
     "iopub.execute_input": "2021-11-19T11:33:00.002901Z",
     "iopub.status.busy": "2021-11-19T11:33:00.002185Z",
     "iopub.status.idle": "2021-11-19T11:33:00.005199Z",
     "shell.execute_reply": "2021-11-19T11:33:00.004651Z",
     "shell.execute_reply.started": "2021-11-19T10:56:19.491153Z"
    },
    "papermill": {
     "duration": 0.070084,
     "end_time": "2021-11-19T11:33:00.005342",
     "exception": false,
     "start_time": "2021-11-19T11:32:59.935258",
     "status": "completed"
    },
    "tags": []
   },
   "outputs": [],
   "source": [
    "model = car['model'].value_counts()"
   ]
  },
  {
   "cell_type": "code",
   "execution_count": 12,
   "id": "b0b46554",
   "metadata": {
    "execution": {
     "iopub.execute_input": "2021-11-19T11:33:00.131764Z",
     "iopub.status.busy": "2021-11-19T11:33:00.130956Z",
     "iopub.status.idle": "2021-11-19T11:33:00.135812Z",
     "shell.execute_reply": "2021-11-19T11:33:00.136318Z",
     "shell.execute_reply.started": "2021-11-19T10:56:19.500646Z"
    },
    "papermill": {
     "duration": 0.069061,
     "end_time": "2021-11-19T11:33:00.136493",
     "exception": false,
     "start_time": "2021-11-19T11:33:00.067432",
     "status": "completed"
    },
    "tags": []
   },
   "outputs": [],
   "source": [
    "model = model.reset_index()"
   ]
  },
  {
   "cell_type": "code",
   "execution_count": 13,
   "id": "595917db",
   "metadata": {
    "execution": {
     "iopub.execute_input": "2021-11-19T11:33:00.261489Z",
     "iopub.status.busy": "2021-11-19T11:33:00.260862Z",
     "iopub.status.idle": "2021-11-19T11:33:00.264553Z",
     "shell.execute_reply": "2021-11-19T11:33:00.265174Z",
     "shell.execute_reply.started": "2021-11-19T10:56:19.513056Z"
    },
    "papermill": {
     "duration": 0.067937,
     "end_time": "2021-11-19T11:33:00.265347",
     "exception": false,
     "start_time": "2021-11-19T11:33:00.197410",
     "status": "completed"
    },
    "tags": []
   },
   "outputs": [],
   "source": [
    "model.columns=['model','total model']"
   ]
  },
  {
   "cell_type": "code",
   "execution_count": 14,
   "id": "3ed8e919",
   "metadata": {
    "execution": {
     "iopub.execute_input": "2021-11-19T11:33:00.389958Z",
     "iopub.status.busy": "2021-11-19T11:33:00.389289Z",
     "iopub.status.idle": "2021-11-19T11:33:00.400799Z",
     "shell.execute_reply": "2021-11-19T11:33:00.401413Z",
     "shell.execute_reply.started": "2021-11-19T10:56:19.526518Z"
    },
    "papermill": {
     "duration": 0.075534,
     "end_time": "2021-11-19T11:33:00.401599",
     "exception": false,
     "start_time": "2021-11-19T11:33:00.326065",
     "status": "completed"
    },
    "tags": []
   },
   "outputs": [
    {
     "data": {
      "text/html": [
       "<div>\n",
       "<style scoped>\n",
       "    .dataframe tbody tr th:only-of-type {\n",
       "        vertical-align: middle;\n",
       "    }\n",
       "\n",
       "    .dataframe tbody tr th {\n",
       "        vertical-align: top;\n",
       "    }\n",
       "\n",
       "    .dataframe thead th {\n",
       "        text-align: right;\n",
       "    }\n",
       "</style>\n",
       "<table border=\"1\" class=\"dataframe\">\n",
       "  <thead>\n",
       "    <tr style=\"text-align: right;\">\n",
       "      <th></th>\n",
       "      <th>model</th>\n",
       "      <th>total model</th>\n",
       "    </tr>\n",
       "  </thead>\n",
       "  <tbody>\n",
       "    <tr>\n",
       "      <th>0</th>\n",
       "      <td>Arteon</td>\n",
       "      <td>167</td>\n",
       "    </tr>\n",
       "    <tr>\n",
       "      <th>1</th>\n",
       "      <td>Grand C-MAX</td>\n",
       "      <td>164</td>\n",
       "    </tr>\n",
       "    <tr>\n",
       "      <th>2</th>\n",
       "      <td>Scirocco</td>\n",
       "      <td>163</td>\n",
       "    </tr>\n",
       "    <tr>\n",
       "      <th>3</th>\n",
       "      <td>Prius</td>\n",
       "      <td>154</td>\n",
       "    </tr>\n",
       "    <tr>\n",
       "      <th>4</th>\n",
       "      <td>Santa Fe</td>\n",
       "      <td>150</td>\n",
       "    </tr>\n",
       "    <tr>\n",
       "      <th>...</th>\n",
       "      <td>...</td>\n",
       "      <td>...</td>\n",
       "    </tr>\n",
       "    <tr>\n",
       "      <th>85</th>\n",
       "      <td>Eos</td>\n",
       "      <td>5</td>\n",
       "    </tr>\n",
       "    <tr>\n",
       "      <th>86</th>\n",
       "      <td>Z3</td>\n",
       "      <td>5</td>\n",
       "    </tr>\n",
       "    <tr>\n",
       "      <th>87</th>\n",
       "      <td>Getz</td>\n",
       "      <td>4</td>\n",
       "    </tr>\n",
       "    <tr>\n",
       "      <th>88</th>\n",
       "      <td>CLK</td>\n",
       "      <td>4</td>\n",
       "    </tr>\n",
       "    <tr>\n",
       "      <th>89</th>\n",
       "      <td>IQ</td>\n",
       "      <td>2</td>\n",
       "    </tr>\n",
       "  </tbody>\n",
       "</table>\n",
       "<p>90 rows × 2 columns</p>\n",
       "</div>"
      ],
      "text/plain": [
       "           model  total model\n",
       "0         Arteon          167\n",
       "1    Grand C-MAX          164\n",
       "2       Scirocco          163\n",
       "3          Prius          154\n",
       "4       Santa Fe          150\n",
       "..           ...          ...\n",
       "85           Eos            5\n",
       "86            Z3            5\n",
       "87          Getz            4\n",
       "88           CLK            4\n",
       "89            IQ            2\n",
       "\n",
       "[90 rows x 2 columns]"
      ]
     },
     "execution_count": 14,
     "metadata": {},
     "output_type": "execute_result"
    }
   ],
   "source": [
    "model.sort_values('total model',ascending = False)"
   ]
  },
  {
   "cell_type": "code",
   "execution_count": 15,
   "id": "a1c8b620",
   "metadata": {
    "execution": {
     "iopub.execute_input": "2021-11-19T11:33:00.528229Z",
     "iopub.status.busy": "2021-11-19T11:33:00.527580Z",
     "iopub.status.idle": "2021-11-19T11:33:02.324279Z",
     "shell.execute_reply": "2021-11-19T11:33:02.324866Z",
     "shell.execute_reply.started": "2021-11-19T10:56:19.549171Z"
    },
    "papermill": {
     "duration": 1.861909,
     "end_time": "2021-11-19T11:33:02.325051",
     "exception": false,
     "start_time": "2021-11-19T11:33:00.463142",
     "status": "completed"
    },
    "tags": []
   },
   "outputs": [
    {
     "data": {
      "text/plain": [
       "Text(0, 0.5, 'COUNTS OF MODEL')"
      ]
     },
     "execution_count": 15,
     "metadata": {},
     "output_type": "execute_result"
    },
    {
     "data": {
      "image/png": "[encoded data removed]",
      "text/plain": [
       "<Figure size 1080x504 with 1 Axes>"
      ]
     },
     "metadata": {
      "needs_background": "light"
     },
     "output_type": "display_data"
    }
   ],
   "source": [
    "fig = plt.figure(figsize=(15,7))\n",
    "sns.barplot(x=model['model'],y=model['total model'],palette=color)\n",
    "plt.title('TOTAL ALL MODEL')\n",
    "plt.xlabel('MODEL')\n",
    "plt.ylabel('COUNTS OF MODEL')"
   ]
  },
  {
   "cell_type": "markdown",
   "id": "b85a360e",
   "metadata": {
    "papermill": {
     "duration": 0.062961,
     "end_time": "2021-11-19T11:33:02.451445",
     "exception": false,
     "start_time": "2021-11-19T11:33:02.388484",
     "status": "completed"
    },
    "tags": []
   },
   "source": [
    "VW Brand ****Arteon****this model first place ,\n",
    "Grand C-MAX this model second place,\n",
    "Scirocco this model third place\n",
    "\n"
   ]
  },
  {
   "cell_type": "markdown",
   "id": "1a290e55",
   "metadata": {
    "papermill": {
     "duration": 0.062778,
     "end_time": "2021-11-19T11:33:02.577713",
     "exception": false,
     "start_time": "2021-11-19T11:33:02.514935",
     "status": "completed"
    },
    "tags": []
   },
   "source": [
    "****Each Year pulishid brands****"
   ]
  },
  {
   "cell_type": "code",
   "execution_count": 16,
   "id": "66adaa8d",
   "metadata": {
    "execution": {
     "iopub.execute_input": "2021-11-19T11:33:02.707348Z",
     "iopub.status.busy": "2021-11-19T11:33:02.706642Z",
     "iopub.status.idle": "2021-11-19T11:33:02.711941Z",
     "shell.execute_reply": "2021-11-19T11:33:02.712495Z",
     "shell.execute_reply.started": "2021-11-19T10:56:21.213882Z"
    },
    "papermill": {
     "duration": 0.071551,
     "end_time": "2021-11-19T11:33:02.712698",
     "exception": false,
     "start_time": "2021-11-19T11:33:02.641147",
     "status": "completed"
    },
    "tags": []
   },
   "outputs": [],
   "source": [
    "yearbrand = car.groupby(['year'])['brand'].count()"
   ]
  },
  {
   "cell_type": "code",
   "execution_count": 17,
   "id": "44d55de2",
   "metadata": {
    "execution": {
     "iopub.execute_input": "2021-11-19T11:33:02.843937Z",
     "iopub.status.busy": "2021-11-19T11:33:02.841371Z",
     "iopub.status.idle": "2021-11-19T11:33:02.847228Z",
     "shell.execute_reply": "2021-11-19T11:33:02.846547Z",
     "shell.execute_reply.started": "2021-11-19T10:56:21.222920Z"
    },
    "papermill": {
     "duration": 0.071537,
     "end_time": "2021-11-19T11:33:02.847374",
     "exception": false,
     "start_time": "2021-11-19T11:33:02.775837",
     "status": "completed"
    },
    "tags": []
   },
   "outputs": [],
   "source": [
    "yearbrand =yearbrand.reset_index()"
   ]
  },
  {
   "cell_type": "code",
   "execution_count": 18,
   "id": "c77c55ff",
   "metadata": {
    "execution": {
     "iopub.execute_input": "2021-11-19T11:33:02.981975Z",
     "iopub.status.busy": "2021-11-19T11:33:02.981237Z",
     "iopub.status.idle": "2021-11-19T11:33:03.412034Z",
     "shell.execute_reply": "2021-11-19T11:33:03.411317Z",
     "shell.execute_reply.started": "2021-11-19T10:56:21.239732Z"
    },
    "papermill": {
     "duration": 0.501618,
     "end_time": "2021-11-19T11:33:03.412188",
     "exception": false,
     "start_time": "2021-11-19T11:33:02.910570",
     "status": "completed"
    },
    "tags": []
   },
   "outputs": [
    {
     "data": {
      "text/plain": [
       "Text(0, 0.5, 'COUNTS OF BRAND')"
      ]
     },
     "execution_count": 18,
     "metadata": {},
     "output_type": "execute_result"
    },
    {
     "data": {
      "image/png": "[encoded data removed]",
      "text/plain": [
       "<Figure size 864x360 with 1 Axes>"
      ]
     },
     "metadata": {
      "needs_background": "light"
     },
     "output_type": "display_data"
    }
   ],
   "source": [
    "fig = plt.figure(figsize=(12,5))\n",
    "sns.barplot(x=yearbrand['year'],y=yearbrand['brand'],palette=color)\n",
    "plt.title('EACH YEAR PUPLISHED BRAND')\n",
    "plt.xlabel('YEAR')\n",
    "plt.ylabel('COUNTS OF BRAND')"
   ]
  },
  {
   "cell_type": "markdown",
   "id": "d3c5ea72",
   "metadata": {
    "papermill": {
     "duration": 0.064754,
     "end_time": "2021-11-19T11:33:03.541472",
     "exception": false,
     "start_time": "2021-11-19T11:33:03.476718",
     "status": "completed"
    },
    "tags": []
   },
   "source": [
    "2019 more brand of car puplished"
   ]
  },
  {
   "cell_type": "markdown",
   "id": "4f92115f",
   "metadata": {
    "papermill": {
     "duration": 0.063561,
     "end_time": "2021-11-19T11:33:03.668978",
     "exception": false,
     "start_time": "2021-11-19T11:33:03.605417",
     "status": "completed"
    },
    "tags": []
   },
   "source": [
    "****Which brand more puplished in each year****but before see more puplished brand 2019 but which brand ?"
   ]
  },
  {
   "cell_type": "code",
   "execution_count": 19,
   "id": "ee3b081a",
   "metadata": {
    "execution": {
     "iopub.execute_input": "2021-11-19T11:33:03.803985Z",
     "iopub.status.busy": "2021-11-19T11:33:03.803261Z",
     "iopub.status.idle": "2021-11-19T11:33:03.806754Z",
     "shell.execute_reply": "2021-11-19T11:33:03.807229Z",
     "shell.execute_reply.started": "2021-11-19T10:56:21.707783Z"
    },
    "papermill": {
     "duration": 0.073645,
     "end_time": "2021-11-19T11:33:03.807409",
     "exception": false,
     "start_time": "2021-11-19T11:33:03.733764",
     "status": "completed"
    },
    "tags": []
   },
   "outputs": [],
   "source": [
    "brandyear = car.groupby(['brand'])['year'].count()"
   ]
  },
  {
   "cell_type": "code",
   "execution_count": 20,
   "id": "f8056552",
   "metadata": {
    "execution": {
     "iopub.execute_input": "2021-11-19T11:33:03.944218Z",
     "iopub.status.busy": "2021-11-19T11:33:03.943403Z",
     "iopub.status.idle": "2021-11-19T11:33:03.946934Z",
     "shell.execute_reply": "2021-11-19T11:33:03.946389Z",
     "shell.execute_reply.started": "2021-11-19T10:56:21.719719Z"
    },
    "papermill": {
     "duration": 0.075744,
     "end_time": "2021-11-19T11:33:03.947083",
     "exception": false,
     "start_time": "2021-11-19T11:33:03.871339",
     "status": "completed"
    },
    "tags": []
   },
   "outputs": [],
   "source": [
    "brandyear = brandyear.reset_index()"
   ]
  },
  {
   "cell_type": "code",
   "execution_count": 21,
   "id": "48f713da",
   "metadata": {
    "execution": {
     "iopub.execute_input": "2021-11-19T11:33:04.081074Z",
     "iopub.status.busy": "2021-11-19T11:33:04.080389Z",
     "iopub.status.idle": "2021-11-19T11:33:04.083616Z",
     "shell.execute_reply": "2021-11-19T11:33:04.082945Z",
     "shell.execute_reply.started": "2021-11-19T10:56:21.734064Z"
    },
    "papermill": {
     "duration": 0.071906,
     "end_time": "2021-11-19T11:33:04.083779",
     "exception": false,
     "start_time": "2021-11-19T11:33:04.011873",
     "status": "completed"
    },
    "tags": []
   },
   "outputs": [],
   "source": [
    "brandyear.columns=['brand','year of puplished']"
   ]
  },
  {
   "cell_type": "code",
   "execution_count": 22,
   "id": "9c205a91",
   "metadata": {
    "execution": {
     "iopub.execute_input": "2021-11-19T11:33:04.217697Z",
     "iopub.status.busy": "2021-11-19T11:33:04.217020Z",
     "iopub.status.idle": "2021-11-19T11:33:04.227787Z",
     "shell.execute_reply": "2021-11-19T11:33:04.227089Z",
     "shell.execute_reply.started": "2021-11-19T10:56:21.745695Z"
    },
    "papermill": {
     "duration": 0.078458,
     "end_time": "2021-11-19T11:33:04.227936",
     "exception": false,
     "start_time": "2021-11-19T11:33:04.149478",
     "status": "completed"
    },
    "tags": []
   },
   "outputs": [
    {
     "data": {
      "text/html": [
       "<div>\n",
       "<style scoped>\n",
       "    .dataframe tbody tr th:only-of-type {\n",
       "        vertical-align: middle;\n",
       "    }\n",
       "\n",
       "    .dataframe tbody tr th {\n",
       "        vertical-align: top;\n",
       "    }\n",
       "\n",
       "    .dataframe thead th {\n",
       "        text-align: right;\n",
       "    }\n",
       "</style>\n",
       "<table border=\"1\" class=\"dataframe\">\n",
       "  <thead>\n",
       "    <tr style=\"text-align: right;\">\n",
       "      <th></th>\n",
       "      <th>brand</th>\n",
       "      <th>year of puplished</th>\n",
       "    </tr>\n",
       "  </thead>\n",
       "  <tbody>\n",
       "    <tr>\n",
       "      <th>4</th>\n",
       "      <td>merc</td>\n",
       "      <td>790</td>\n",
       "    </tr>\n",
       "    <tr>\n",
       "      <th>8</th>\n",
       "      <td>vw</td>\n",
       "      <td>768</td>\n",
       "    </tr>\n",
       "    <tr>\n",
       "      <th>2</th>\n",
       "      <td>ford</td>\n",
       "      <td>766</td>\n",
       "    </tr>\n",
       "    <tr>\n",
       "      <th>1</th>\n",
       "      <td>bmw</td>\n",
       "      <td>638</td>\n",
       "    </tr>\n",
       "    <tr>\n",
       "      <th>3</th>\n",
       "      <td>hyundi</td>\n",
       "      <td>511</td>\n",
       "    </tr>\n",
       "    <tr>\n",
       "      <th>6</th>\n",
       "      <td>toyota</td>\n",
       "      <td>446</td>\n",
       "    </tr>\n",
       "    <tr>\n",
       "      <th>5</th>\n",
       "      <td>skoda</td>\n",
       "      <td>425</td>\n",
       "    </tr>\n",
       "    <tr>\n",
       "      <th>0</th>\n",
       "      <td>audi</td>\n",
       "      <td>343</td>\n",
       "    </tr>\n",
       "    <tr>\n",
       "      <th>7</th>\n",
       "      <td>vauxhall</td>\n",
       "      <td>273</td>\n",
       "    </tr>\n",
       "  </tbody>\n",
       "</table>\n",
       "</div>"
      ],
      "text/plain": [
       "      brand  year of puplished\n",
       "4      merc                790\n",
       "8        vw                768\n",
       "2      ford                766\n",
       "1       bmw                638\n",
       "3    hyundi                511\n",
       "6    toyota                446\n",
       "5     skoda                425\n",
       "0      audi                343\n",
       "7  vauxhall                273"
      ]
     },
     "execution_count": 22,
     "metadata": {},
     "output_type": "execute_result"
    }
   ],
   "source": [
    "brandyear = brandyear.sort_values('year of puplished',ascending=False)\n",
    "brandyear"
   ]
  },
  {
   "cell_type": "code",
   "execution_count": 23,
   "id": "632bfd21",
   "metadata": {
    "execution": {
     "iopub.execute_input": "2021-11-19T11:33:04.365866Z",
     "iopub.status.busy": "2021-11-19T11:33:04.365175Z",
     "iopub.status.idle": "2021-11-19T11:33:04.656349Z",
     "shell.execute_reply": "2021-11-19T11:33:04.656880Z",
     "shell.execute_reply.started": "2021-11-19T10:56:21.765567Z"
    },
    "papermill": {
     "duration": 0.363769,
     "end_time": "2021-11-19T11:33:04.657058",
     "exception": false,
     "start_time": "2021-11-19T11:33:04.293289",
     "status": "completed"
    },
    "tags": []
   },
   "outputs": [
    {
     "data": {
      "text/plain": [
       "Text(0, 0.5, 'BRAND')"
      ]
     },
     "execution_count": 23,
     "metadata": {},
     "output_type": "execute_result"
    },
    {
     "data": {
      "image/png": "[encoded data removed]",
      "text/plain": [
       "<Figure size 1080x504 with 1 Axes>"
      ]
     },
     "metadata": {
      "needs_background": "light"
     },
     "output_type": "display_data"
    }
   ],
   "source": [
    "fig = plt.figure(figsize=(15,7))\n",
    "sns.barplot(x=brandyear['year of puplished'],y=brandyear['brand'],palette=color)\n",
    "plt.title('YEAR BY PUPLISHED BRAND')\n",
    "plt.xlabel('PUPLISHED')\n",
    "plt.ylabel('BRAND')"
   ]
  },
  {
   "cell_type": "markdown",
   "id": "0b7d6df3",
   "metadata": {
    "papermill": {
     "duration": 0.065184,
     "end_time": "2021-11-19T11:33:04.787956",
     "exception": false,
     "start_time": "2021-11-19T11:33:04.722772",
     "status": "completed"
    },
    "tags": []
   },
   "source": [
    "![](https://listcarbrands.com/wp-content/uploads/2015/09/Mercedes-Benz-logo.jpg)****2019 more puplished brand****"
   ]
  },
  {
   "cell_type": "markdown",
   "id": "bac24b6e",
   "metadata": {
    "papermill": {
     "duration": 0.065328,
     "end_time": "2021-11-19T11:33:04.918863",
     "exception": false,
     "start_time": "2021-11-19T11:33:04.853535",
     "status": "completed"
    },
    "tags": []
   },
   "source": [
    "**More Transmision brand******"
   ]
  },
  {
   "cell_type": "code",
   "execution_count": 24,
   "id": "e791919c",
   "metadata": {
    "execution": {
     "iopub.execute_input": "2021-11-19T11:33:05.058044Z",
     "iopub.status.busy": "2021-11-19T11:33:05.057344Z",
     "iopub.status.idle": "2021-11-19T11:33:05.060195Z",
     "shell.execute_reply": "2021-11-19T11:33:05.059660Z",
     "shell.execute_reply.started": "2021-11-19T10:56:22.072806Z"
    },
    "papermill": {
     "duration": 0.075019,
     "end_time": "2021-11-19T11:33:05.060344",
     "exception": false,
     "start_time": "2021-11-19T11:33:04.985325",
     "status": "completed"
    },
    "tags": []
   },
   "outputs": [],
   "source": [
    "trans = car['transmission'].value_counts()"
   ]
  },
  {
   "cell_type": "code",
   "execution_count": 25,
   "id": "4db49f4b",
   "metadata": {
    "execution": {
     "iopub.execute_input": "2021-11-19T11:33:05.196264Z",
     "iopub.status.busy": "2021-11-19T11:33:05.195616Z",
     "iopub.status.idle": "2021-11-19T11:33:05.200440Z",
     "shell.execute_reply": "2021-11-19T11:33:05.201028Z",
     "shell.execute_reply.started": "2021-11-19T10:56:22.079732Z"
    },
    "papermill": {
     "duration": 0.074732,
     "end_time": "2021-11-19T11:33:05.201207",
     "exception": false,
     "start_time": "2021-11-19T11:33:05.126475",
     "status": "completed"
    },
    "tags": []
   },
   "outputs": [],
   "source": [
    "trans =trans.reset_index()"
   ]
  },
  {
   "cell_type": "code",
   "execution_count": 26,
   "id": "f6d9ef5c",
   "metadata": {
    "execution": {
     "iopub.execute_input": "2021-11-19T11:33:05.337964Z",
     "iopub.status.busy": "2021-11-19T11:33:05.337289Z",
     "iopub.status.idle": "2021-11-19T11:33:05.338940Z",
     "shell.execute_reply": "2021-11-19T11:33:05.339383Z",
     "shell.execute_reply.started": "2021-11-19T10:56:22.091511Z"
    },
    "papermill": {
     "duration": 0.072758,
     "end_time": "2021-11-19T11:33:05.339568",
     "exception": false,
     "start_time": "2021-11-19T11:33:05.266810",
     "status": "completed"
    },
    "tags": []
   },
   "outputs": [],
   "source": [
    "trans.columns=['transmission','counts transmission']"
   ]
  },
  {
   "cell_type": "code",
   "execution_count": 27,
   "id": "82a0d0a2",
   "metadata": {
    "execution": {
     "iopub.execute_input": "2021-11-19T11:33:05.474315Z",
     "iopub.status.busy": "2021-11-19T11:33:05.473614Z",
     "iopub.status.idle": "2021-11-19T11:33:05.715617Z",
     "shell.execute_reply": "2021-11-19T11:33:05.716200Z",
     "shell.execute_reply.started": "2021-11-19T10:56:22.103171Z"
    },
    "papermill": {
     "duration": 0.311386,
     "end_time": "2021-11-19T11:33:05.716424",
     "exception": false,
     "start_time": "2021-11-19T11:33:05.405038",
     "status": "completed"
    },
    "tags": []
   },
   "outputs": [
    {
     "data": {
      "text/plain": [
       "Text(0, 0.5, 'COUNTS')"
      ]
     },
     "execution_count": 27,
     "metadata": {},
     "output_type": "execute_result"
    },
    {
     "data": {
      "image/png": "[encoded data removed]",
      "text/plain": [
       "<Figure size 1080x504 with 1 Axes>"
      ]
     },
     "metadata": {
      "needs_background": "light"
     },
     "output_type": "display_data"
    }
   ],
   "source": [
    "fig = plt.figure(figsize=(15,7))\n",
    "sns.barplot(x=trans['transmission'],y=trans['counts transmission'],palette=color)\n",
    "plt.title('TOTAL TRANSMISSION')\n",
    "plt.xlabel('TRANSMISSION')\n",
    "plt.ylabel('COUNTS')"
   ]
  },
  {
   "cell_type": "markdown",
   "id": "ad731eff",
   "metadata": {
    "papermill": {
     "duration": 0.066248,
     "end_time": "2021-11-19T11:33:05.849659",
     "exception": false,
     "start_time": "2021-11-19T11:33:05.783411",
     "status": "completed"
    },
    "tags": []
   },
   "source": [
    "most of the car manual"
   ]
  },
  {
   "cell_type": "markdown",
   "id": "3eafdd2f",
   "metadata": {
    "papermill": {
     "duration": 0.068016,
     "end_time": "2021-11-19T11:33:05.984328",
     "exception": false,
     "start_time": "2021-11-19T11:33:05.916312",
     "status": "completed"
    },
    "tags": []
   },
   "source": [
    "**Total transmission each brands**"
   ]
  },
  {
   "cell_type": "code",
   "execution_count": 28,
   "id": "4ab6c6b5",
   "metadata": {
    "execution": {
     "iopub.execute_input": "2021-11-19T11:33:06.123470Z",
     "iopub.status.busy": "2021-11-19T11:33:06.122458Z",
     "iopub.status.idle": "2021-11-19T11:33:06.146960Z",
     "shell.execute_reply": "2021-11-19T11:33:06.147606Z",
     "shell.execute_reply.started": "2021-11-19T10:56:22.353550Z"
    },
    "papermill": {
     "duration": 0.09614,
     "end_time": "2021-11-19T11:33:06.147799",
     "exception": false,
     "start_time": "2021-11-19T11:33:06.051659",
     "status": "completed"
    },
    "tags": []
   },
   "outputs": [
    {
     "data": {
      "text/html": [
       "<div>\n",
       "<style scoped>\n",
       "    .dataframe tbody tr th:only-of-type {\n",
       "        vertical-align: middle;\n",
       "    }\n",
       "\n",
       "    .dataframe tbody tr th {\n",
       "        vertical-align: top;\n",
       "    }\n",
       "\n",
       "    .dataframe thead th {\n",
       "        text-align: right;\n",
       "    }\n",
       "</style>\n",
       "<table border=\"1\" class=\"dataframe\">\n",
       "  <thead>\n",
       "    <tr style=\"text-align: right;\">\n",
       "      <th></th>\n",
       "      <th></th>\n",
       "      <th>carID</th>\n",
       "      <th>model</th>\n",
       "      <th>year</th>\n",
       "      <th>mileage</th>\n",
       "      <th>fuelType</th>\n",
       "      <th>tax</th>\n",
       "      <th>mpg</th>\n",
       "      <th>engineSize</th>\n",
       "    </tr>\n",
       "    <tr>\n",
       "      <th>brand</th>\n",
       "      <th>transmission</th>\n",
       "      <th></th>\n",
       "      <th></th>\n",
       "      <th></th>\n",
       "      <th></th>\n",
       "      <th></th>\n",
       "      <th></th>\n",
       "      <th></th>\n",
       "      <th></th>\n",
       "    </tr>\n",
       "  </thead>\n",
       "  <tbody>\n",
       "    <tr>\n",
       "      <th rowspan=\"3\" valign=\"top\">audi</th>\n",
       "      <th>Automatic</th>\n",
       "      <td>194</td>\n",
       "      <td>194</td>\n",
       "      <td>194</td>\n",
       "      <td>194</td>\n",
       "      <td>194</td>\n",
       "      <td>194</td>\n",
       "      <td>194</td>\n",
       "      <td>194</td>\n",
       "    </tr>\n",
       "    <tr>\n",
       "      <th>Manual</th>\n",
       "      <td>8</td>\n",
       "      <td>8</td>\n",
       "      <td>8</td>\n",
       "      <td>8</td>\n",
       "      <td>8</td>\n",
       "      <td>8</td>\n",
       "      <td>8</td>\n",
       "      <td>8</td>\n",
       "    </tr>\n",
       "    <tr>\n",
       "      <th>Semi-Auto</th>\n",
       "      <td>141</td>\n",
       "      <td>141</td>\n",
       "      <td>141</td>\n",
       "      <td>141</td>\n",
       "      <td>141</td>\n",
       "      <td>141</td>\n",
       "      <td>141</td>\n",
       "      <td>141</td>\n",
       "    </tr>\n",
       "    <tr>\n",
       "      <th rowspan=\"3\" valign=\"top\">bmw</th>\n",
       "      <th>Automatic</th>\n",
       "      <td>238</td>\n",
       "      <td>238</td>\n",
       "      <td>238</td>\n",
       "      <td>238</td>\n",
       "      <td>238</td>\n",
       "      <td>238</td>\n",
       "      <td>238</td>\n",
       "      <td>238</td>\n",
       "    </tr>\n",
       "    <tr>\n",
       "      <th>Manual</th>\n",
       "      <td>29</td>\n",
       "      <td>29</td>\n",
       "      <td>29</td>\n",
       "      <td>29</td>\n",
       "      <td>29</td>\n",
       "      <td>29</td>\n",
       "      <td>29</td>\n",
       "      <td>29</td>\n",
       "    </tr>\n",
       "    <tr>\n",
       "      <th>Semi-Auto</th>\n",
       "      <td>371</td>\n",
       "      <td>371</td>\n",
       "      <td>371</td>\n",
       "      <td>371</td>\n",
       "      <td>371</td>\n",
       "      <td>371</td>\n",
       "      <td>371</td>\n",
       "      <td>371</td>\n",
       "    </tr>\n",
       "    <tr>\n",
       "      <th rowspan=\"3\" valign=\"top\">ford</th>\n",
       "      <th>Automatic</th>\n",
       "      <td>112</td>\n",
       "      <td>112</td>\n",
       "      <td>112</td>\n",
       "      <td>112</td>\n",
       "      <td>112</td>\n",
       "      <td>112</td>\n",
       "      <td>112</td>\n",
       "      <td>112</td>\n",
       "    </tr>\n",
       "    <tr>\n",
       "      <th>Manual</th>\n",
       "      <td>557</td>\n",
       "      <td>557</td>\n",
       "      <td>557</td>\n",
       "      <td>557</td>\n",
       "      <td>557</td>\n",
       "      <td>557</td>\n",
       "      <td>557</td>\n",
       "      <td>557</td>\n",
       "    </tr>\n",
       "    <tr>\n",
       "      <th>Semi-Auto</th>\n",
       "      <td>97</td>\n",
       "      <td>97</td>\n",
       "      <td>97</td>\n",
       "      <td>97</td>\n",
       "      <td>97</td>\n",
       "      <td>97</td>\n",
       "      <td>97</td>\n",
       "      <td>97</td>\n",
       "    </tr>\n",
       "    <tr>\n",
       "      <th rowspan=\"3\" valign=\"top\">hyundi</th>\n",
       "      <th>Automatic</th>\n",
       "      <td>115</td>\n",
       "      <td>115</td>\n",
       "      <td>115</td>\n",
       "      <td>115</td>\n",
       "      <td>115</td>\n",
       "      <td>115</td>\n",
       "      <td>115</td>\n",
       "      <td>115</td>\n",
       "    </tr>\n",
       "    <tr>\n",
       "      <th>Manual</th>\n",
       "      <td>309</td>\n",
       "      <td>309</td>\n",
       "      <td>309</td>\n",
       "      <td>309</td>\n",
       "      <td>309</td>\n",
       "      <td>309</td>\n",
       "      <td>309</td>\n",
       "      <td>309</td>\n",
       "    </tr>\n",
       "    <tr>\n",
       "      <th>Semi-Auto</th>\n",
       "      <td>87</td>\n",
       "      <td>87</td>\n",
       "      <td>87</td>\n",
       "      <td>87</td>\n",
       "      <td>87</td>\n",
       "      <td>87</td>\n",
       "      <td>87</td>\n",
       "      <td>87</td>\n",
       "    </tr>\n",
       "    <tr>\n",
       "      <th rowspan=\"3\" valign=\"top\">merc</th>\n",
       "      <th>Automatic</th>\n",
       "      <td>473</td>\n",
       "      <td>473</td>\n",
       "      <td>473</td>\n",
       "      <td>473</td>\n",
       "      <td>473</td>\n",
       "      <td>473</td>\n",
       "      <td>473</td>\n",
       "      <td>473</td>\n",
       "    </tr>\n",
       "    <tr>\n",
       "      <th>Manual</th>\n",
       "      <td>74</td>\n",
       "      <td>74</td>\n",
       "      <td>74</td>\n",
       "      <td>74</td>\n",
       "      <td>74</td>\n",
       "      <td>74</td>\n",
       "      <td>74</td>\n",
       "      <td>74</td>\n",
       "    </tr>\n",
       "    <tr>\n",
       "      <th>Semi-Auto</th>\n",
       "      <td>243</td>\n",
       "      <td>243</td>\n",
       "      <td>243</td>\n",
       "      <td>243</td>\n",
       "      <td>243</td>\n",
       "      <td>243</td>\n",
       "      <td>243</td>\n",
       "      <td>243</td>\n",
       "    </tr>\n",
       "    <tr>\n",
       "      <th rowspan=\"4\" valign=\"top\">skoda</th>\n",
       "      <th>Automatic</th>\n",
       "      <td>46</td>\n",
       "      <td>46</td>\n",
       "      <td>46</td>\n",
       "      <td>46</td>\n",
       "      <td>46</td>\n",
       "      <td>46</td>\n",
       "      <td>46</td>\n",
       "      <td>46</td>\n",
       "    </tr>\n",
       "    <tr>\n",
       "      <th>Manual</th>\n",
       "      <td>262</td>\n",
       "      <td>262</td>\n",
       "      <td>262</td>\n",
       "      <td>262</td>\n",
       "      <td>262</td>\n",
       "      <td>262</td>\n",
       "      <td>262</td>\n",
       "      <td>262</td>\n",
       "    </tr>\n",
       "    <tr>\n",
       "      <th>Other</th>\n",
       "      <td>1</td>\n",
       "      <td>1</td>\n",
       "      <td>1</td>\n",
       "      <td>1</td>\n",
       "      <td>1</td>\n",
       "      <td>1</td>\n",
       "      <td>1</td>\n",
       "      <td>1</td>\n",
       "    </tr>\n",
       "    <tr>\n",
       "      <th>Semi-Auto</th>\n",
       "      <td>116</td>\n",
       "      <td>116</td>\n",
       "      <td>116</td>\n",
       "      <td>116</td>\n",
       "      <td>116</td>\n",
       "      <td>116</td>\n",
       "      <td>116</td>\n",
       "      <td>116</td>\n",
       "    </tr>\n",
       "    <tr>\n",
       "      <th rowspan=\"3\" valign=\"top\">toyota</th>\n",
       "      <th>Automatic</th>\n",
       "      <td>231</td>\n",
       "      <td>231</td>\n",
       "      <td>231</td>\n",
       "      <td>231</td>\n",
       "      <td>231</td>\n",
       "      <td>231</td>\n",
       "      <td>231</td>\n",
       "      <td>231</td>\n",
       "    </tr>\n",
       "    <tr>\n",
       "      <th>Manual</th>\n",
       "      <td>170</td>\n",
       "      <td>170</td>\n",
       "      <td>170</td>\n",
       "      <td>170</td>\n",
       "      <td>170</td>\n",
       "      <td>170</td>\n",
       "      <td>170</td>\n",
       "      <td>170</td>\n",
       "    </tr>\n",
       "    <tr>\n",
       "      <th>Semi-Auto</th>\n",
       "      <td>45</td>\n",
       "      <td>45</td>\n",
       "      <td>45</td>\n",
       "      <td>45</td>\n",
       "      <td>45</td>\n",
       "      <td>45</td>\n",
       "      <td>45</td>\n",
       "      <td>45</td>\n",
       "    </tr>\n",
       "    <tr>\n",
       "      <th rowspan=\"3\" valign=\"top\">vauxhall</th>\n",
       "      <th>Automatic</th>\n",
       "      <td>30</td>\n",
       "      <td>30</td>\n",
       "      <td>30</td>\n",
       "      <td>30</td>\n",
       "      <td>30</td>\n",
       "      <td>30</td>\n",
       "      <td>30</td>\n",
       "      <td>30</td>\n",
       "    </tr>\n",
       "    <tr>\n",
       "      <th>Manual</th>\n",
       "      <td>240</td>\n",
       "      <td>240</td>\n",
       "      <td>240</td>\n",
       "      <td>240</td>\n",
       "      <td>240</td>\n",
       "      <td>240</td>\n",
       "      <td>240</td>\n",
       "      <td>240</td>\n",
       "    </tr>\n",
       "    <tr>\n",
       "      <th>Semi-Auto</th>\n",
       "      <td>3</td>\n",
       "      <td>3</td>\n",
       "      <td>3</td>\n",
       "      <td>3</td>\n",
       "      <td>3</td>\n",
       "      <td>3</td>\n",
       "      <td>3</td>\n",
       "      <td>3</td>\n",
       "    </tr>\n",
       "    <tr>\n",
       "      <th rowspan=\"3\" valign=\"top\">vw</th>\n",
       "      <th>Automatic</th>\n",
       "      <td>221</td>\n",
       "      <td>221</td>\n",
       "      <td>221</td>\n",
       "      <td>221</td>\n",
       "      <td>221</td>\n",
       "      <td>221</td>\n",
       "      <td>221</td>\n",
       "      <td>221</td>\n",
       "    </tr>\n",
       "    <tr>\n",
       "      <th>Manual</th>\n",
       "      <td>299</td>\n",
       "      <td>299</td>\n",
       "      <td>299</td>\n",
       "      <td>299</td>\n",
       "      <td>299</td>\n",
       "      <td>299</td>\n",
       "      <td>299</td>\n",
       "      <td>299</td>\n",
       "    </tr>\n",
       "    <tr>\n",
       "      <th>Semi-Auto</th>\n",
       "      <td>248</td>\n",
       "      <td>248</td>\n",
       "      <td>248</td>\n",
       "      <td>248</td>\n",
       "      <td>248</td>\n",
       "      <td>248</td>\n",
       "      <td>248</td>\n",
       "      <td>248</td>\n",
       "    </tr>\n",
       "  </tbody>\n",
       "</table>\n",
       "</div>"
      ],
      "text/plain": [
       "                       carID  model  year  mileage  fuelType  tax  mpg  \\\n",
       "brand    transmission                                                    \n",
       "audi     Automatic       194    194   194      194       194  194  194   \n",
       "         Manual            8      8     8        8         8    8    8   \n",
       "         Semi-Auto       141    141   141      141       141  141  141   \n",
       "bmw      Automatic       238    238   238      238       238  238  238   \n",
       "         Manual           29     29    29       29        29   29   29   \n",
       "         Semi-Auto       371    371   371      371       371  371  371   \n",
       "ford     Automatic       112    112   112      112       112  112  112   \n",
       "         Manual          557    557   557      557       557  557  557   \n",
       "         Semi-Auto        97     97    97       97        97   97   97   \n",
       "hyundi   Automatic       115    115   115      115       115  115  115   \n",
       "         Manual          309    309   309      309       309  309  309   \n",
       "         Semi-Auto        87     87    87       87        87   87   87   \n",
       "merc     Automatic       473    473   473      473       473  473  473   \n",
       "         Manual           74     74    74       74        74   74   74   \n",
       "         Semi-Auto       243    243   243      243       243  243  243   \n",
       "skoda    Automatic        46     46    46       46        46   46   46   \n",
       "         Manual          262    262   262      262       262  262  262   \n",
       "         Other             1      1     1        1         1    1    1   \n",
       "         Semi-Auto       116    116   116      116       116  116  116   \n",
       "toyota   Automatic       231    231   231      231       231  231  231   \n",
       "         Manual          170    170   170      170       170  170  170   \n",
       "         Semi-Auto        45     45    45       45        45   45   45   \n",
       "vauxhall Automatic        30     30    30       30        30   30   30   \n",
       "         Manual          240    240   240      240       240  240  240   \n",
       "         Semi-Auto         3      3     3        3         3    3    3   \n",
       "vw       Automatic       221    221   221      221       221  221  221   \n",
       "         Manual          299    299   299      299       299  299  299   \n",
       "         Semi-Auto       248    248   248      248       248  248  248   \n",
       "\n",
       "                       engineSize  \n",
       "brand    transmission              \n",
       "audi     Automatic            194  \n",
       "         Manual                 8  \n",
       "         Semi-Auto            141  \n",
       "bmw      Automatic            238  \n",
       "         Manual                29  \n",
       "         Semi-Auto            371  \n",
       "ford     Automatic            112  \n",
       "         Manual               557  \n",
       "         Semi-Auto             97  \n",
       "hyundi   Automatic            115  \n",
       "         Manual               309  \n",
       "         Semi-Auto             87  \n",
       "merc     Automatic            473  \n",
       "         Manual                74  \n",
       "         Semi-Auto            243  \n",
       "skoda    Automatic             46  \n",
       "         Manual               262  \n",
       "         Other                  1  \n",
       "         Semi-Auto            116  \n",
       "toyota   Automatic            231  \n",
       "         Manual               170  \n",
       "         Semi-Auto             45  \n",
       "vauxhall Automatic             30  \n",
       "         Manual               240  \n",
       "         Semi-Auto              3  \n",
       "vw       Automatic            221  \n",
       "         Manual               299  \n",
       "         Semi-Auto            248  "
      ]
     },
     "execution_count": 28,
     "metadata": {},
     "output_type": "execute_result"
    }
   ],
   "source": [
    "car.groupby(['brand','transmission']).count()"
   ]
  },
  {
   "cell_type": "code",
   "execution_count": 29,
   "id": "4a764c3d",
   "metadata": {
    "execution": {
     "iopub.execute_input": "2021-11-19T11:33:06.308257Z",
     "iopub.status.busy": "2021-11-19T11:33:06.307224Z",
     "iopub.status.idle": "2021-11-19T11:33:06.313426Z",
     "shell.execute_reply": "2021-11-19T11:33:06.314069Z",
     "shell.execute_reply.started": "2021-11-19T10:56:22.379365Z"
    },
    "papermill": {
     "duration": 0.086691,
     "end_time": "2021-11-19T11:33:06.314244",
     "exception": false,
     "start_time": "2021-11-19T11:33:06.227553",
     "status": "completed"
    },
    "tags": []
   },
   "outputs": [],
   "source": [
    "brandtarns =car.groupby(['brand'])['transmission'].count()"
   ]
  },
  {
   "cell_type": "code",
   "execution_count": 30,
   "id": "39ed5df1",
   "metadata": {
    "execution": {
     "iopub.execute_input": "2021-11-19T11:33:06.453703Z",
     "iopub.status.busy": "2021-11-19T11:33:06.452667Z",
     "iopub.status.idle": "2021-11-19T11:33:06.458037Z",
     "shell.execute_reply": "2021-11-19T11:33:06.458616Z",
     "shell.execute_reply.started": "2021-11-19T10:56:22.388961Z"
    },
    "papermill": {
     "duration": 0.076876,
     "end_time": "2021-11-19T11:33:06.458819",
     "exception": false,
     "start_time": "2021-11-19T11:33:06.381943",
     "status": "completed"
    },
    "tags": []
   },
   "outputs": [],
   "source": [
    "brandtarns = brandtarns.reset_index()"
   ]
  },
  {
   "cell_type": "code",
   "execution_count": 31,
   "id": "0b6d7a08",
   "metadata": {
    "execution": {
     "iopub.execute_input": "2021-11-19T11:33:06.598165Z",
     "iopub.status.busy": "2021-11-19T11:33:06.597200Z",
     "iopub.status.idle": "2021-11-19T11:33:06.895529Z",
     "shell.execute_reply": "2021-11-19T11:33:06.896142Z",
     "shell.execute_reply.started": "2021-11-19T10:56:22.400469Z"
    },
    "papermill": {
     "duration": 0.369599,
     "end_time": "2021-11-19T11:33:06.896324",
     "exception": false,
     "start_time": "2021-11-19T11:33:06.526725",
     "status": "completed"
    },
    "tags": []
   },
   "outputs": [
    {
     "data": {
      "text/plain": [
       "Text(0, 0.5, 'TRANSMISSION')"
      ]
     },
     "execution_count": 31,
     "metadata": {},
     "output_type": "execute_result"
    },
    {
     "data": {
      "image/png": "[encoded data removed]",
      "text/plain": [
       "<Figure size 1080x504 with 1 Axes>"
      ]
     },
     "metadata": {
      "needs_background": "light"
     },
     "output_type": "display_data"
    }
   ],
   "source": [
    "fig = plt.figure(figsize=(15,7))\n",
    "sns.barplot(x=brandtarns['brand'],y=brandtarns['transmission'],palette=color)\n",
    "plt.title('TOTAL TRANSMISSION EACH BRAND')\n",
    "plt.xlabel('BRAND')\n",
    "plt.ylabel('TRANSMISSION')"
   ]
  },
  {
   "cell_type": "markdown",
   "id": "580a20ff",
   "metadata": {
    "papermill": {
     "duration": 0.068448,
     "end_time": "2021-11-19T11:33:07.035827",
     "exception": false,
     "start_time": "2021-11-19T11:33:06.967379",
     "status": "completed"
    },
    "tags": []
   },
   "source": [
    "**most of tha merc brand transmission**"
   ]
  },
  {
   "cell_type": "code",
   "execution_count": 32,
   "id": "85b15f6f",
   "metadata": {
    "execution": {
     "iopub.execute_input": "2021-11-19T11:33:07.178984Z",
     "iopub.status.busy": "2021-11-19T11:33:07.177933Z",
     "iopub.status.idle": "2021-11-19T11:33:07.183749Z",
     "shell.execute_reply": "2021-11-19T11:33:07.184266Z",
     "shell.execute_reply.started": "2021-11-19T10:56:22.681483Z"
    },
    "papermill": {
     "duration": 0.079133,
     "end_time": "2021-11-19T11:33:07.184440",
     "exception": false,
     "start_time": "2021-11-19T11:33:07.105307",
     "status": "completed"
    },
    "tags": []
   },
   "outputs": [],
   "source": [
    "yeartrans = car.groupby(['year'])['transmission'].count()"
   ]
  },
  {
   "cell_type": "code",
   "execution_count": 33,
   "id": "554ccc63",
   "metadata": {
    "execution": {
     "iopub.execute_input": "2021-11-19T11:33:07.328618Z",
     "iopub.status.busy": "2021-11-19T11:33:07.327548Z",
     "iopub.status.idle": "2021-11-19T11:33:07.336099Z",
     "shell.execute_reply": "2021-11-19T11:33:07.336562Z",
     "shell.execute_reply.started": "2021-11-19T10:56:22.688500Z"
    },
    "papermill": {
     "duration": 0.083463,
     "end_time": "2021-11-19T11:33:07.336761",
     "exception": false,
     "start_time": "2021-11-19T11:33:07.253298",
     "status": "completed"
    },
    "tags": []
   },
   "outputs": [
    {
     "data": {
      "text/html": [
       "<div>\n",
       "<style scoped>\n",
       "    .dataframe tbody tr th:only-of-type {\n",
       "        vertical-align: middle;\n",
       "    }\n",
       "\n",
       "    .dataframe tbody tr th {\n",
       "        vertical-align: top;\n",
       "    }\n",
       "\n",
       "    .dataframe thead th {\n",
       "        text-align: right;\n",
       "    }\n",
       "</style>\n",
       "<table border=\"1\" class=\"dataframe\">\n",
       "  <thead>\n",
       "    <tr style=\"text-align: right;\">\n",
       "      <th></th>\n",
       "      <th>year</th>\n",
       "      <th>transmission</th>\n",
       "    </tr>\n",
       "  </thead>\n",
       "  <tbody>\n",
       "    <tr>\n",
       "      <th>0</th>\n",
       "      <td>1997</td>\n",
       "      <td>2</td>\n",
       "    </tr>\n",
       "    <tr>\n",
       "      <th>1</th>\n",
       "      <td>1998</td>\n",
       "      <td>2</td>\n",
       "    </tr>\n",
       "    <tr>\n",
       "      <th>2</th>\n",
       "      <td>1999</td>\n",
       "      <td>3</td>\n",
       "    </tr>\n",
       "    <tr>\n",
       "      <th>3</th>\n",
       "      <td>2000</td>\n",
       "      <td>2</td>\n",
       "    </tr>\n",
       "    <tr>\n",
       "      <th>4</th>\n",
       "      <td>2001</td>\n",
       "      <td>9</td>\n",
       "    </tr>\n",
       "    <tr>\n",
       "      <th>5</th>\n",
       "      <td>2002</td>\n",
       "      <td>6</td>\n",
       "    </tr>\n",
       "    <tr>\n",
       "      <th>6</th>\n",
       "      <td>2003</td>\n",
       "      <td>10</td>\n",
       "    </tr>\n",
       "    <tr>\n",
       "      <th>7</th>\n",
       "      <td>2004</td>\n",
       "      <td>18</td>\n",
       "    </tr>\n",
       "    <tr>\n",
       "      <th>8</th>\n",
       "      <td>2005</td>\n",
       "      <td>12</td>\n",
       "    </tr>\n",
       "    <tr>\n",
       "      <th>9</th>\n",
       "      <td>2006</td>\n",
       "      <td>15</td>\n",
       "    </tr>\n",
       "    <tr>\n",
       "      <th>10</th>\n",
       "      <td>2007</td>\n",
       "      <td>18</td>\n",
       "    </tr>\n",
       "    <tr>\n",
       "      <th>11</th>\n",
       "      <td>2008</td>\n",
       "      <td>20</td>\n",
       "    </tr>\n",
       "    <tr>\n",
       "      <th>12</th>\n",
       "      <td>2009</td>\n",
       "      <td>26</td>\n",
       "    </tr>\n",
       "    <tr>\n",
       "      <th>13</th>\n",
       "      <td>2010</td>\n",
       "      <td>25</td>\n",
       "    </tr>\n",
       "    <tr>\n",
       "      <th>14</th>\n",
       "      <td>2011</td>\n",
       "      <td>51</td>\n",
       "    </tr>\n",
       "    <tr>\n",
       "      <th>15</th>\n",
       "      <td>2012</td>\n",
       "      <td>56</td>\n",
       "    </tr>\n",
       "    <tr>\n",
       "      <th>16</th>\n",
       "      <td>2013</td>\n",
       "      <td>181</td>\n",
       "    </tr>\n",
       "    <tr>\n",
       "      <th>17</th>\n",
       "      <td>2014</td>\n",
       "      <td>254</td>\n",
       "    </tr>\n",
       "    <tr>\n",
       "      <th>18</th>\n",
       "      <td>2015</td>\n",
       "      <td>461</td>\n",
       "    </tr>\n",
       "    <tr>\n",
       "      <th>19</th>\n",
       "      <td>2016</td>\n",
       "      <td>743</td>\n",
       "    </tr>\n",
       "    <tr>\n",
       "      <th>20</th>\n",
       "      <td>2017</td>\n",
       "      <td>816</td>\n",
       "    </tr>\n",
       "    <tr>\n",
       "      <th>21</th>\n",
       "      <td>2018</td>\n",
       "      <td>534</td>\n",
       "    </tr>\n",
       "    <tr>\n",
       "      <th>22</th>\n",
       "      <td>2019</td>\n",
       "      <td>1359</td>\n",
       "    </tr>\n",
       "    <tr>\n",
       "      <th>23</th>\n",
       "      <td>2020</td>\n",
       "      <td>337</td>\n",
       "    </tr>\n",
       "  </tbody>\n",
       "</table>\n",
       "</div>"
      ],
      "text/plain": [
       "    year  transmission\n",
       "0   1997             2\n",
       "1   1998             2\n",
       "2   1999             3\n",
       "3   2000             2\n",
       "4   2001             9\n",
       "5   2002             6\n",
       "6   2003            10\n",
       "7   2004            18\n",
       "8   2005            12\n",
       "9   2006            15\n",
       "10  2007            18\n",
       "11  2008            20\n",
       "12  2009            26\n",
       "13  2010            25\n",
       "14  2011            51\n",
       "15  2012            56\n",
       "16  2013           181\n",
       "17  2014           254\n",
       "18  2015           461\n",
       "19  2016           743\n",
       "20  2017           816\n",
       "21  2018           534\n",
       "22  2019          1359\n",
       "23  2020           337"
      ]
     },
     "execution_count": 33,
     "metadata": {},
     "output_type": "execute_result"
    }
   ],
   "source": [
    "yeartrans = yeartrans.reset_index()\n",
    "yeartrans"
   ]
  },
  {
   "cell_type": "code",
   "execution_count": 34,
   "id": "975e9448",
   "metadata": {
    "execution": {
     "iopub.execute_input": "2021-11-19T11:33:07.528742Z",
     "iopub.status.busy": "2021-11-19T11:33:07.524516Z",
     "iopub.status.idle": "2021-11-19T11:33:07.926745Z",
     "shell.execute_reply": "2021-11-19T11:33:07.926027Z",
     "shell.execute_reply.started": "2021-11-19T10:56:22.705456Z"
    },
    "papermill": {
     "duration": 0.520707,
     "end_time": "2021-11-19T11:33:07.926910",
     "exception": false,
     "start_time": "2021-11-19T11:33:07.406203",
     "status": "completed"
    },
    "tags": []
   },
   "outputs": [
    {
     "data": {
      "text/plain": [
       "Text(0, 0.5, 'TRANSMISSION')"
      ]
     },
     "execution_count": 34,
     "metadata": {},
     "output_type": "execute_result"
    },
    {
     "data": {
      "image/png": "[encoded data removed]",
      "text/plain": [
       "<Figure size 1080x504 with 1 Axes>"
      ]
     },
     "metadata": {
      "needs_background": "light"
     },
     "output_type": "display_data"
    }
   ],
   "source": [
    "fig = plt.figure(figsize=(15,7))\n",
    "sns.barplot(x=yeartrans['year'],y=yeartrans['transmission'],palette=color)\n",
    "plt.title('TOTAL YEAR OF TRANSMISSION')\n",
    "plt.xlabel('YEAR')\n",
    "plt.ylabel('TRANSMISSION')"
   ]
  },
  {
   "cell_type": "markdown",
   "id": "9647e22e",
   "metadata": {
    "papermill": {
     "duration": 0.07114,
     "end_time": "2021-11-19T11:33:08.070477",
     "exception": false,
     "start_time": "2021-11-19T11:33:07.999337",
     "status": "completed"
    },
    "tags": []
   },
   "source": [
    "****2019 more of tha car transmission****"
   ]
  },
  {
   "cell_type": "markdown",
   "id": "d116bd6c",
   "metadata": {
    "papermill": {
     "duration": 0.07223,
     "end_time": "2021-11-19T11:33:08.214232",
     "exception": false,
     "start_time": "2021-11-19T11:33:08.142002",
     "status": "completed"
    },
    "tags": []
   },
   "source": [
    "Most of the car manual,but most of tha brand transmission merc,2019 most car transmission"
   ]
  },
  {
   "cell_type": "markdown",
   "id": "66ad82af",
   "metadata": {
    "papermill": {
     "duration": 0.07069,
     "end_time": "2021-11-19T11:33:08.356514",
     "exception": false,
     "start_time": "2021-11-19T11:33:08.285824",
     "status": "completed"
    },
    "tags": []
   },
   "source": [
    "**Most mileage of car **********"
   ]
  },
  {
   "cell_type": "code",
   "execution_count": 35,
   "id": "add8f99f",
   "metadata": {
    "execution": {
     "iopub.execute_input": "2021-11-19T11:33:08.508593Z",
     "iopub.status.busy": "2021-11-19T11:33:08.507805Z",
     "iopub.status.idle": "2021-11-19T11:33:08.511766Z",
     "shell.execute_reply": "2021-11-19T11:33:08.512273Z",
     "shell.execute_reply.started": "2021-11-19T10:56:23.117491Z"
    },
    "papermill": {
     "duration": 0.085065,
     "end_time": "2021-11-19T11:33:08.512474",
     "exception": false,
     "start_time": "2021-11-19T11:33:08.427409",
     "status": "completed"
    },
    "tags": []
   },
   "outputs": [
    {
     "data": {
      "text/plain": [
       "brand\n",
       "audi         7905919\n",
       "bmw         12502681\n",
       "ford        20079108\n",
       "hyundi      14921609\n",
       "merc        21957334\n",
       "skoda        7587199\n",
       "toyota      13664512\n",
       "vauxhall     6314015\n",
       "vw          18850806\n",
       "Name: mileage, dtype: int64"
      ]
     },
     "execution_count": 35,
     "metadata": {},
     "output_type": "execute_result"
    }
   ],
   "source": [
    "milage = car.groupby(['brand'])['mileage'].sum()\n",
    "milage"
   ]
  },
  {
   "cell_type": "code",
   "execution_count": 36,
   "id": "4f7fabc4",
   "metadata": {
    "execution": {
     "iopub.execute_input": "2021-11-19T11:33:08.675912Z",
     "iopub.status.busy": "2021-11-19T11:33:08.675168Z",
     "iopub.status.idle": "2021-11-19T11:33:08.678283Z",
     "shell.execute_reply": "2021-11-19T11:33:08.677763Z",
     "shell.execute_reply.started": "2021-11-19T10:56:23.126841Z"
    },
    "papermill": {
     "duration": 0.09347,
     "end_time": "2021-11-19T11:33:08.678445",
     "exception": false,
     "start_time": "2021-11-19T11:33:08.584975",
     "status": "completed"
    },
    "tags": []
   },
   "outputs": [],
   "source": [
    "milage = milage.reset_index()"
   ]
  },
  {
   "cell_type": "code",
   "execution_count": 37,
   "id": "8b9579aa",
   "metadata": {
    "execution": {
     "iopub.execute_input": "2021-11-19T11:33:08.828042Z",
     "iopub.status.busy": "2021-11-19T11:33:08.827349Z",
     "iopub.status.idle": "2021-11-19T11:33:08.830642Z",
     "shell.execute_reply": "2021-11-19T11:33:08.830037Z",
     "shell.execute_reply.started": "2021-11-19T10:56:23.136972Z"
    },
    "papermill": {
     "duration": 0.081002,
     "end_time": "2021-11-19T11:33:08.830806",
     "exception": false,
     "start_time": "2021-11-19T11:33:08.749804",
     "status": "completed"
    },
    "tags": []
   },
   "outputs": [],
   "source": [
    "milage = milage.sort_values('mileage',ascending = False)"
   ]
  },
  {
   "cell_type": "code",
   "execution_count": 38,
   "id": "30d5ca10",
   "metadata": {
    "execution": {
     "iopub.execute_input": "2021-11-19T11:33:09.002979Z",
     "iopub.status.busy": "2021-11-19T11:33:09.002200Z",
     "iopub.status.idle": "2021-11-19T11:33:09.263334Z",
     "shell.execute_reply": "2021-11-19T11:33:09.262779Z",
     "shell.execute_reply.started": "2021-11-19T10:56:23.149113Z"
    },
    "papermill": {
     "duration": 0.36059,
     "end_time": "2021-11-19T11:33:09.263495",
     "exception": false,
     "start_time": "2021-11-19T11:33:08.902905",
     "status": "completed"
    },
    "tags": []
   },
   "outputs": [
    {
     "data": {
      "text/plain": [
       "Text(0, 0.5, 'COUNTS OF MILEAGE')"
      ]
     },
     "execution_count": 38,
     "metadata": {},
     "output_type": "execute_result"
    },
    {
     "data": {
      "image/png": "[encoded data removed]",
      "text/plain": [
       "<Figure size 1080x504 with 1 Axes>"
      ]
     },
     "metadata": {
      "needs_background": "light"
     },
     "output_type": "display_data"
    }
   ],
   "source": [
    "fig = plt.figure(figsize=(15,7))\n",
    "sns.barplot(x=milage['brand'],y=milage['mileage'],palette=color)\n",
    "plt.title('HIGH MILEAGE OF BRAND')\n",
    "plt.xlabel('BRAND')\n",
    "plt.ylabel('COUNTS OF MILEAGE')"
   ]
  },
  {
   "cell_type": "markdown",
   "id": "9bbbdace",
   "metadata": {
    "papermill": {
     "duration": 0.072338,
     "end_time": "2021-11-19T11:33:09.408611",
     "exception": false,
     "start_time": "2021-11-19T11:33:09.336273",
     "status": "completed"
    },
    "tags": []
   },
   "source": [
    "![](https://parkers-images.bauersecure.com/gallery-image/pagefiles/251007/1752x1168/excess-mileage-5.jpg)more mileage of brand merc "
   ]
  },
  {
   "cell_type": "markdown",
   "id": "5a028231",
   "metadata": {
    "papermill": {
     "duration": 0.073037,
     "end_time": "2021-11-19T11:33:09.554404",
     "exception": false,
     "start_time": "2021-11-19T11:33:09.481367",
     "status": "completed"
    },
    "tags": []
   },
   "source": [
    "**Fueltype of car**"
   ]
  },
  {
   "cell_type": "code",
   "execution_count": 39,
   "id": "5aceac41",
   "metadata": {
    "execution": {
     "iopub.execute_input": "2021-11-19T11:33:09.702437Z",
     "iopub.status.busy": "2021-11-19T11:33:09.701787Z",
     "iopub.status.idle": "2021-11-19T11:33:09.706592Z",
     "shell.execute_reply": "2021-11-19T11:33:09.707180Z",
     "shell.execute_reply.started": "2021-11-19T10:56:23.382773Z"
    },
    "papermill": {
     "duration": 0.080658,
     "end_time": "2021-11-19T11:33:09.707366",
     "exception": false,
     "start_time": "2021-11-19T11:33:09.626708",
     "status": "completed"
    },
    "tags": []
   },
   "outputs": [],
   "source": [
    "fuelType = car['fuelType'].value_counts()"
   ]
  },
  {
   "cell_type": "code",
   "execution_count": 40,
   "id": "706928a9",
   "metadata": {
    "execution": {
     "iopub.execute_input": "2021-11-19T11:33:09.857061Z",
     "iopub.status.busy": "2021-11-19T11:33:09.856307Z",
     "iopub.status.idle": "2021-11-19T11:33:09.860971Z",
     "shell.execute_reply": "2021-11-19T11:33:09.861597Z",
     "shell.execute_reply.started": "2021-11-19T10:56:23.389933Z"
    },
    "papermill": {
     "duration": 0.081722,
     "end_time": "2021-11-19T11:33:09.861803",
     "exception": false,
     "start_time": "2021-11-19T11:33:09.780081",
     "status": "completed"
    },
    "tags": []
   },
   "outputs": [],
   "source": [
    "fuelType = fuelType.reset_index()"
   ]
  },
  {
   "cell_type": "code",
   "execution_count": 41,
   "id": "2b6503d7",
   "metadata": {
    "execution": {
     "iopub.execute_input": "2021-11-19T11:33:10.011132Z",
     "iopub.status.busy": "2021-11-19T11:33:10.010442Z",
     "iopub.status.idle": "2021-11-19T11:33:10.014692Z",
     "shell.execute_reply": "2021-11-19T11:33:10.015229Z",
     "shell.execute_reply.started": "2021-11-19T10:56:23.406833Z"
    },
    "papermill": {
     "duration": 0.081312,
     "end_time": "2021-11-19T11:33:10.015420",
     "exception": false,
     "start_time": "2021-11-19T11:33:09.934108",
     "status": "completed"
    },
    "tags": []
   },
   "outputs": [],
   "source": [
    "fuelType.columns=['fuelType','counts']"
   ]
  },
  {
   "cell_type": "code",
   "execution_count": 42,
   "id": "35a29aaa",
   "metadata": {
    "execution": {
     "iopub.execute_input": "2021-11-19T11:33:10.166094Z",
     "iopub.status.busy": "2021-11-19T11:33:10.165120Z",
     "iopub.status.idle": "2021-11-19T11:33:10.406716Z",
     "shell.execute_reply": "2021-11-19T11:33:10.407212Z",
     "shell.execute_reply.started": "2021-11-19T10:56:23.424185Z"
    },
    "papermill": {
     "duration": 0.317303,
     "end_time": "2021-11-19T11:33:10.407400",
     "exception": false,
     "start_time": "2021-11-19T11:33:10.090097",
     "status": "completed"
    },
    "tags": []
   },
   "outputs": [
    {
     "data": {
      "text/plain": [
       "Text(0, 0.5, 'COUNTS')"
      ]
     },
     "execution_count": 42,
     "metadata": {},
     "output_type": "execute_result"
    },
    {
     "data": {
      "image/png": "[encoded data removed]",
      "text/plain": [
       "<Figure size 1080x504 with 1 Axes>"
      ]
     },
     "metadata": {
      "needs_background": "light"
     },
     "output_type": "display_data"
    }
   ],
   "source": [
    "fig = plt.figure(figsize=(15,7))\n",
    "sns.barplot(x=fuelType['fuelType'],y=fuelType['counts'],palette=color)\n",
    "plt.title('MOST FUELTYPE WORKING')\n",
    "plt.xlabel('FUELTYPE')\n",
    "plt.ylabel('COUNTS')"
   ]
  },
  {
   "cell_type": "markdown",
   "id": "d7091172",
   "metadata": {
    "papermill": {
     "duration": 0.073417,
     "end_time": "2021-11-19T11:33:10.557743",
     "exception": false,
     "start_time": "2021-11-19T11:33:10.484326",
     "status": "completed"
    },
    "tags": []
   },
   "source": [
    "most of tha Diesel car is working "
   ]
  },
  {
   "cell_type": "markdown",
   "id": "a19d498b",
   "metadata": {
    "papermill": {
     "duration": 0.072916,
     "end_time": "2021-11-19T11:33:10.704139",
     "exception": false,
     "start_time": "2021-11-19T11:33:10.631223",
     "status": "completed"
    },
    "tags": []
   },
   "source": [
    "****Which fuel type more milaege****"
   ]
  },
  {
   "cell_type": "code",
   "execution_count": null,
   "id": "c7842f66",
   "metadata": {
    "papermill": {
     "duration": 0.073074,
     "end_time": "2021-11-19T11:33:10.850524",
     "exception": false,
     "start_time": "2021-11-19T11:33:10.777450",
     "status": "completed"
    },
    "tags": []
   },
   "outputs": [],
   "source": []
  },
  {
   "cell_type": "code",
   "execution_count": 43,
   "id": "664e7946",
   "metadata": {
    "execution": {
     "iopub.execute_input": "2021-11-19T11:33:11.003192Z",
     "iopub.status.busy": "2021-11-19T11:33:11.002481Z",
     "iopub.status.idle": "2021-11-19T11:33:11.005949Z",
     "shell.execute_reply": "2021-11-19T11:33:11.006502Z",
     "shell.execute_reply.started": "2021-11-19T10:56:23.613306Z"
    },
    "papermill": {
     "duration": 0.082957,
     "end_time": "2021-11-19T11:33:11.006709",
     "exception": false,
     "start_time": "2021-11-19T11:33:10.923752",
     "status": "completed"
    },
    "tags": []
   },
   "outputs": [],
   "source": [
    "fuelmialage = car.groupby(['fuelType'])['mileage'].sum()"
   ]
  },
  {
   "cell_type": "code",
   "execution_count": 44,
   "id": "26531057",
   "metadata": {
    "execution": {
     "iopub.execute_input": "2021-11-19T11:33:11.157846Z",
     "iopub.status.busy": "2021-11-19T11:33:11.157203Z",
     "iopub.status.idle": "2021-11-19T11:33:11.161691Z",
     "shell.execute_reply": "2021-11-19T11:33:11.162209Z",
     "shell.execute_reply.started": "2021-11-19T10:56:23.620362Z"
    },
    "papermill": {
     "duration": 0.081075,
     "end_time": "2021-11-19T11:33:11.162375",
     "exception": false,
     "start_time": "2021-11-19T11:33:11.081300",
     "status": "completed"
    },
    "tags": []
   },
   "outputs": [],
   "source": [
    "fuelmialage = fuelmialage.reset_index()"
   ]
  },
  {
   "cell_type": "code",
   "execution_count": 45,
   "id": "5a8aa6d4",
   "metadata": {
    "execution": {
     "iopub.execute_input": "2021-11-19T11:33:11.313663Z",
     "iopub.status.busy": "2021-11-19T11:33:11.312626Z",
     "iopub.status.idle": "2021-11-19T11:33:11.689275Z",
     "shell.execute_reply": "2021-11-19T11:33:11.688561Z",
     "shell.execute_reply.started": "2021-11-19T10:56:23.633670Z"
    },
    "papermill": {
     "duration": 0.453621,
     "end_time": "2021-11-19T11:33:11.689431",
     "exception": false,
     "start_time": "2021-11-19T11:33:11.235810",
     "status": "completed"
    },
    "tags": []
   },
   "outputs": [
    {
     "data": {
      "text/plain": [
       "Text(0, 0.5, 'MILEAGE')"
      ]
     },
     "execution_count": 45,
     "metadata": {},
     "output_type": "execute_result"
    },
    {
     "data": {
      "image/png": "[encoded data removed]",
      "text/plain": [
       "<Figure size 864x360 with 1 Axes>"
      ]
     },
     "metadata": {
      "needs_background": "light"
     },
     "output_type": "display_data"
    }
   ],
   "source": [
    "fig = plt.figure(figsize=(12,5))\n",
    "sns.barplot(x=fuelmialage['fuelType'],y=fuelmialage['mileage'],palette=color)\n",
    "plt.title('EACH FUELTYPE MILEAGE')\n",
    "plt.xlabel('FUELTYPE')\n",
    "plt.ylabel('MILEAGE')"
   ]
  },
  {
   "cell_type": "markdown",
   "id": "a59db3d7",
   "metadata": {
    "papermill": {
     "duration": 0.076009,
     "end_time": "2021-11-19T11:33:11.842108",
     "exception": false,
     "start_time": "2021-11-19T11:33:11.766099",
     "status": "completed"
    },
    "tags": []
   },
   "source": [
    "most of the car Diesel and more milaege"
   ]
  },
  {
   "cell_type": "markdown",
   "id": "f8929771",
   "metadata": {
    "papermill": {
     "duration": 0.074928,
     "end_time": "2021-11-19T11:33:11.992191",
     "exception": false,
     "start_time": "2021-11-19T11:33:11.917263",
     "status": "completed"
    },
    "tags": []
   },
   "source": [
    "****total mpg all brands****"
   ]
  },
  {
   "cell_type": "code",
   "execution_count": 46,
   "id": "bfd32846",
   "metadata": {
    "execution": {
     "iopub.execute_input": "2021-11-19T11:33:12.151552Z",
     "iopub.status.busy": "2021-11-19T11:33:12.150105Z",
     "iopub.status.idle": "2021-11-19T11:33:12.154582Z",
     "shell.execute_reply": "2021-11-19T11:33:12.155073Z",
     "shell.execute_reply.started": "2021-11-19T10:59:37.882083Z"
    },
    "papermill": {
     "duration": 0.086013,
     "end_time": "2021-11-19T11:33:12.155254",
     "exception": false,
     "start_time": "2021-11-19T11:33:12.069241",
     "status": "completed"
    },
    "tags": []
   },
   "outputs": [],
   "source": [
    "brandmpg = car.groupby(['brand'])['mpg'].sum()\n",
    "fuelTypempg = car.groupby(['fuelType'])['mpg'].sum()"
   ]
  },
  {
   "cell_type": "code",
   "execution_count": 47,
   "id": "64f95c1e",
   "metadata": {
    "execution": {
     "iopub.execute_input": "2021-11-19T11:33:12.307532Z",
     "iopub.status.busy": "2021-11-19T11:33:12.306892Z",
     "iopub.status.idle": "2021-11-19T11:33:12.312578Z",
     "shell.execute_reply": "2021-11-19T11:33:12.313139Z",
     "shell.execute_reply.started": "2021-11-19T11:00:13.536355Z"
    },
    "papermill": {
     "duration": 0.083479,
     "end_time": "2021-11-19T11:33:12.313315",
     "exception": false,
     "start_time": "2021-11-19T11:33:12.229836",
     "status": "completed"
    },
    "tags": []
   },
   "outputs": [],
   "source": [
    "brandmpg = brandmpg.reset_index()\n",
    "fuelTypempg = fuelTypempg.reset_index()"
   ]
  },
  {
   "cell_type": "code",
   "execution_count": 48,
   "id": "ac182f64",
   "metadata": {
    "execution": {
     "iopub.execute_input": "2021-11-19T11:33:12.466735Z",
     "iopub.status.busy": "2021-11-19T11:33:12.466032Z",
     "iopub.status.idle": "2021-11-19T11:33:12.760547Z",
     "shell.execute_reply": "2021-11-19T11:33:12.759863Z",
     "shell.execute_reply.started": "2021-11-19T11:02:46.131278Z"
    },
    "papermill": {
     "duration": 0.372701,
     "end_time": "2021-11-19T11:33:12.760708",
     "exception": false,
     "start_time": "2021-11-19T11:33:12.388007",
     "status": "completed"
    },
    "tags": []
   },
   "outputs": [
    {
     "data": {
      "text/plain": [
       "Text(0, 0.5, 'MPG')"
      ]
     },
     "execution_count": 48,
     "metadata": {},
     "output_type": "execute_result"
    },
    {
     "data": {
      "image/png": "[encoded data removed]",
      "text/plain": [
       "<Figure size 1080x504 with 1 Axes>"
      ]
     },
     "metadata": {
      "needs_background": "light"
     },
     "output_type": "display_data"
    }
   ],
   "source": [
    "fig = plt.figure(figsize=(15,7))\n",
    "sns.barplot(x=brandmpg['brand'],y=brandmpg['mpg'],palette=color)\n",
    "plt.title('EACH BRAND MPG')\n",
    "plt.xlabel('BRAND')\n",
    "plt.ylabel('MPG')\n"
   ]
  },
  {
   "cell_type": "code",
   "execution_count": 49,
   "id": "40ea1759",
   "metadata": {
    "execution": {
     "iopub.execute_input": "2021-11-19T11:33:12.953755Z",
     "iopub.status.busy": "2021-11-19T11:33:12.947303Z",
     "iopub.status.idle": "2021-11-19T11:33:13.181789Z",
     "shell.execute_reply": "2021-11-19T11:33:13.181156Z",
     "shell.execute_reply.started": "2021-11-19T11:04:27.299433Z"
    },
    "papermill": {
     "duration": 0.344375,
     "end_time": "2021-11-19T11:33:13.181941",
     "exception": false,
     "start_time": "2021-11-19T11:33:12.837566",
     "status": "completed"
    },
    "tags": []
   },
   "outputs": [
    {
     "data": {
      "text/plain": [
       "Text(0, 0.5, 'MPG')"
      ]
     },
     "execution_count": 49,
     "metadata": {},
     "output_type": "execute_result"
    },
    {
     "data": {
      "image/png": "[encoded data removed]",
      "text/plain": [
       "<Figure size 1080x504 with 1 Axes>"
      ]
     },
     "metadata": {
      "needs_background": "light"
     },
     "output_type": "display_data"
    }
   ],
   "source": [
    "fig = plt.figure(figsize=(15,7))\n",
    "sns.barplot(x=fuelTypempg['fuelType'],y=fuelTypempg['mpg'],palette=color)\n",
    "plt.title('EACH FUELTYPE OF MPG')\n",
    "plt.xlabel('FUELTYPE')\n",
    "plt.ylabel('MPG')\n"
   ]
  },
  {
   "cell_type": "markdown",
   "id": "de2748aa",
   "metadata": {
    "papermill": {
     "duration": 0.077672,
     "end_time": "2021-11-19T11:33:13.337469",
     "exception": false,
     "start_time": "2021-11-19T11:33:13.259797",
     "status": "completed"
    },
    "tags": []
   },
   "source": [
    "more mpg ford car\n",
    "more mpg fueltype  Diesel"
   ]
  },
  {
   "cell_type": "markdown",
   "id": "11aefcff",
   "metadata": {
    "papermill": {
     "duration": 0.076739,
     "end_time": "2021-11-19T11:33:13.491091",
     "exception": false,
     "start_time": "2021-11-19T11:33:13.414352",
     "status": "completed"
    },
    "tags": []
   },
   "source": [
    "Engine size****"
   ]
  },
  {
   "cell_type": "code",
   "execution_count": 50,
   "id": "5fd458fc",
   "metadata": {
    "execution": {
     "iopub.execute_input": "2021-11-19T11:33:13.651632Z",
     "iopub.status.busy": "2021-11-19T11:33:13.650945Z",
     "iopub.status.idle": "2021-11-19T11:33:13.654040Z",
     "shell.execute_reply": "2021-11-19T11:33:13.653416Z",
     "shell.execute_reply.started": "2021-11-19T11:07:51.372246Z"
    },
    "papermill": {
     "duration": 0.08553,
     "end_time": "2021-11-19T11:33:13.654179",
     "exception": false,
     "start_time": "2021-11-19T11:33:13.568649",
     "status": "completed"
    },
    "tags": []
   },
   "outputs": [
    {
     "data": {
      "text/plain": [
       "6.6"
      ]
     },
     "execution_count": 50,
     "metadata": {},
     "output_type": "execute_result"
    }
   ],
   "source": [
    "big_engine_size = car['engineSize'].max()\n",
    "big_engine_size"
   ]
  },
  {
   "cell_type": "markdown",
   "id": "d5d0e013",
   "metadata": {
    "papermill": {
     "duration": 0.076696,
     "end_time": "2021-11-19T11:33:13.808513",
     "exception": false,
     "start_time": "2021-11-19T11:33:13.731817",
     "status": "completed"
    },
    "tags": []
   },
   "source": [
    "Which brand engine size is very big"
   ]
  },
  {
   "cell_type": "code",
   "execution_count": 51,
   "id": "d86a5324",
   "metadata": {
    "execution": {
     "iopub.execute_input": "2021-11-19T11:33:13.980152Z",
     "iopub.status.busy": "2021-11-19T11:33:13.979418Z",
     "iopub.status.idle": "2021-11-19T11:33:13.983362Z",
     "shell.execute_reply": "2021-11-19T11:33:13.982842Z",
     "shell.execute_reply.started": "2021-11-19T11:10:33.612526Z"
    },
    "papermill": {
     "duration": 0.097467,
     "end_time": "2021-11-19T11:33:13.983511",
     "exception": false,
     "start_time": "2021-11-19T11:33:13.886044",
     "status": "completed"
    },
    "tags": []
   },
   "outputs": [
    {
     "data": {
      "text/html": [
       "<div>\n",
       "<style scoped>\n",
       "    .dataframe tbody tr th:only-of-type {\n",
       "        vertical-align: middle;\n",
       "    }\n",
       "\n",
       "    .dataframe tbody tr th {\n",
       "        vertical-align: top;\n",
       "    }\n",
       "\n",
       "    .dataframe thead th {\n",
       "        text-align: right;\n",
       "    }\n",
       "</style>\n",
       "<table border=\"1\" class=\"dataframe\">\n",
       "  <thead>\n",
       "    <tr style=\"text-align: right;\">\n",
       "      <th></th>\n",
       "      <th>carID</th>\n",
       "      <th>brand</th>\n",
       "      <th>model</th>\n",
       "      <th>year</th>\n",
       "      <th>transmission</th>\n",
       "      <th>mileage</th>\n",
       "      <th>fuelType</th>\n",
       "      <th>tax</th>\n",
       "      <th>mpg</th>\n",
       "      <th>engineSize</th>\n",
       "    </tr>\n",
       "  </thead>\n",
       "  <tbody>\n",
       "    <tr>\n",
       "      <th>2379</th>\n",
       "      <td>19437</td>\n",
       "      <td>bmw</td>\n",
       "      <td>7 Series</td>\n",
       "      <td>2017</td>\n",
       "      <td>Automatic</td>\n",
       "      <td>22000</td>\n",
       "      <td>Petrol</td>\n",
       "      <td>150.0</td>\n",
       "      <td>22.1</td>\n",
       "      <td>6.6</td>\n",
       "    </tr>\n",
       "    <tr>\n",
       "      <th>3599</th>\n",
       "      <td>16694</td>\n",
       "      <td>bmw</td>\n",
       "      <td>7 Series</td>\n",
       "      <td>2017</td>\n",
       "      <td>Automatic</td>\n",
       "      <td>11297</td>\n",
       "      <td>Petrol</td>\n",
       "      <td>145.0</td>\n",
       "      <td>22.1</td>\n",
       "      <td>6.6</td>\n",
       "    </tr>\n",
       "  </tbody>\n",
       "</table>\n",
       "</div>"
      ],
      "text/plain": [
       "      carID brand      model  year transmission  mileage fuelType    tax  \\\n",
       "2379  19437   bmw   7 Series  2017    Automatic    22000   Petrol  150.0   \n",
       "3599  16694   bmw   7 Series  2017    Automatic    11297   Petrol  145.0   \n",
       "\n",
       "       mpg  engineSize  \n",
       "2379  22.1         6.6  \n",
       "3599  22.1         6.6  "
      ]
     },
     "execution_count": 51,
     "metadata": {},
     "output_type": "execute_result"
    }
   ],
   "source": [
    "car[(car['engineSize'] >= 6.6)]"
   ]
  },
  {
   "cell_type": "markdown",
   "id": "ba372264",
   "metadata": {
    "papermill": {
     "duration": 0.07969,
     "end_time": "2021-11-19T11:33:14.142723",
     "exception": false,
     "start_time": "2021-11-19T11:33:14.063033",
     "status": "completed"
    },
    "tags": []
   },
   "source": [
    "**very big enginesize = 6.6 brand BMW model 7 Series year 2017 and fueltype is Petrol**"
   ]
  },
  {
   "cell_type": "markdown",
   "id": "0d9b95a7",
   "metadata": {
    "papermill": {
     "duration": 0.077425,
     "end_time": "2021-11-19T11:33:14.298459",
     "exception": false,
     "start_time": "2021-11-19T11:33:14.221034",
     "status": "completed"
    },
    "tags": []
   },
   "source": [
    "**Conclusion**"
   ]
  },
  {
   "cell_type": "markdown",
   "id": "9127945f",
   "metadata": {
    "papermill": {
     "duration": 0.07758,
     "end_time": "2021-11-19T11:33:14.454030",
     "exception": false,
     "start_time": "2021-11-19T11:33:14.376450",
     "status": "completed"
    },
    "tags": []
   },
   "source": [
    "Car analysis most best brand Mercendes -Benz  ,but this dataset most of model is Arteon,most of tha car puplished 2019.\n",
    "Thier most car working Manual but most of car transmission (ex.automatic,semi_auto..this like)Mercendes - benz car most deveped year 2019.\n",
    "Mercendes -benz car also high mileage.\n",
    "Most of tha car Working Diesel.\n",
    "Hight engine size is 6.6 BMW Atomatic.\n",
    "High mpg car is ford.\n"
   ]
  },
  {
   "cell_type": "code",
   "execution_count": null,
   "id": "db480e8a",
   "metadata": {
    "papermill": {
     "duration": 0.077741,
     "end_time": "2021-11-19T11:33:14.610291",
     "exception": false,
     "start_time": "2021-11-19T11:33:14.532550",
     "status": "completed"
    },
    "tags": []
   },
   "outputs": [],
   "source": []
  },
  {
   "cell_type": "code",
   "execution_count": null,
   "id": "b1ea8480",
   "metadata": {
    "papermill": {
     "duration": 0.077695,
     "end_time": "2021-11-19T11:33:14.766757",
     "exception": false,
     "start_time": "2021-11-19T11:33:14.689062",
     "status": "completed"
    },
    "tags": []
   },
   "outputs": [],
   "source": []
  }
 ],
 "metadata": {
  "kernelspec": {
   "display_name": "Python 3 (ipykernel)",
   "language": "python",
   "name": "python3"
  },
  "language_info": {
   "codemirror_mode": {
    "name": "ipython",
    "version": 3
   },
   "file_extension": ".py",
   "mimetype": "text/x-python",
   "name": "python",
   "nbconvert_exporter": "python",
   "pygments_lexer": "ipython3",
   "version": "3.8.11"
  },
  "papermill": {
   "default_parameters": {},
   "duration": 31.858782,
   "end_time": "2021-11-19T11:33:18.015505",
   "environment_variables": {},
   "exception": null,
   "input_path": "__notebook__.ipynb",
   "output_path": "__notebook__.ipynb",
   "parameters": {},
   "start_time": "2021-11-19T11:32:46.156723",
   "version": "2.3.3"
  }
 },
 "nbformat": 4,
 "nbformat_minor": 5
}
