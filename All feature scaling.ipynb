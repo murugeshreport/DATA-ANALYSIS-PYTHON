{
 "cells": [
  {
   "cell_type": "markdown",
   "id": "bf2c6963",
   "metadata": {},
   "source": [
    "# FEATURE SCALING\n",
    "1. min max scaler\n",
    "2. standard scaler\n",
    "3.max Abs scaler\n",
    "4.Robust Scaler\n",
    "5.Quantile transform scaler\n",
    "6.power transform scaler"
   ]
  },
  {
   "cell_type": "code",
   "execution_count": null,
   "id": "ad234847",
   "metadata": {},
   "outputs": [],
   "source": []
  },
  {
   "cell_type": "code",
   "execution_count": 2,
   "id": "866219e9",
   "metadata": {},
   "outputs": [],
   "source": [
    "import pandas as pd\n",
    "import numpy as np\n",
    "import matplotlib.pyplot as plt\n",
    "import seaborn as sns"
   ]
  },
  {
   "cell_type": "code",
   "execution_count": null,
   "id": "7802095b",
   "metadata": {},
   "outputs": [],
   "source": []
  },
  {
   "cell_type": "code",
   "execution_count": 3,
   "id": "19b8e03c",
   "metadata": {},
   "outputs": [],
   "source": [
    "df = pd.read_csv(r'C:\\Users\\hp\\Downloads\\Air_Quality.csv')"
   ]
  },
  {
   "cell_type": "code",
   "execution_count": 4,
   "id": "804ccfab",
   "metadata": {},
   "outputs": [
    {
     "data": {
      "text/html": [
       "<div>\n",
       "<style scoped>\n",
       "    .dataframe tbody tr th:only-of-type {\n",
       "        vertical-align: middle;\n",
       "    }\n",
       "\n",
       "    .dataframe tbody tr th {\n",
       "        vertical-align: top;\n",
       "    }\n",
       "\n",
       "    .dataframe thead th {\n",
       "        text-align: right;\n",
       "    }\n",
       "</style>\n",
       "<table border=\"1\" class=\"dataframe\">\n",
       "  <thead>\n",
       "    <tr style=\"text-align: right;\">\n",
       "      <th></th>\n",
       "      <th>id</th>\n",
       "      <th>country</th>\n",
       "      <th>state</th>\n",
       "      <th>city</th>\n",
       "      <th>station</th>\n",
       "      <th>pollutant_id</th>\n",
       "      <th>last_update</th>\n",
       "      <th>pollutant_min</th>\n",
       "      <th>pollutant_max</th>\n",
       "      <th>pollutant_avg</th>\n",
       "    </tr>\n",
       "  </thead>\n",
       "  <tbody>\n",
       "    <tr>\n",
       "      <th>0</th>\n",
       "      <td>1</td>\n",
       "      <td>India</td>\n",
       "      <td>Andhra_Pradesh</td>\n",
       "      <td>Amaravati</td>\n",
       "      <td>Secretariat, Amaravati - APPCB</td>\n",
       "      <td>PM2.5</td>\n",
       "      <td>21-10-2021 01:00:00</td>\n",
       "      <td>69.0</td>\n",
       "      <td>109.0</td>\n",
       "      <td>86.0</td>\n",
       "    </tr>\n",
       "    <tr>\n",
       "      <th>1</th>\n",
       "      <td>2</td>\n",
       "      <td>India</td>\n",
       "      <td>Andhra_Pradesh</td>\n",
       "      <td>Amaravati</td>\n",
       "      <td>Secretariat, Amaravati - APPCB</td>\n",
       "      <td>PM10</td>\n",
       "      <td>21-10-2021 01:00:00</td>\n",
       "      <td>82.0</td>\n",
       "      <td>138.0</td>\n",
       "      <td>105.0</td>\n",
       "    </tr>\n",
       "    <tr>\n",
       "      <th>2</th>\n",
       "      <td>3</td>\n",
       "      <td>India</td>\n",
       "      <td>Andhra_Pradesh</td>\n",
       "      <td>Amaravati</td>\n",
       "      <td>Secretariat, Amaravati - APPCB</td>\n",
       "      <td>NO2</td>\n",
       "      <td>21-10-2021 01:00:00</td>\n",
       "      <td>10.0</td>\n",
       "      <td>42.0</td>\n",
       "      <td>19.0</td>\n",
       "    </tr>\n",
       "    <tr>\n",
       "      <th>3</th>\n",
       "      <td>4</td>\n",
       "      <td>India</td>\n",
       "      <td>Andhra_Pradesh</td>\n",
       "      <td>Amaravati</td>\n",
       "      <td>Secretariat, Amaravati - APPCB</td>\n",
       "      <td>NH3</td>\n",
       "      <td>21-10-2021 01:00:00</td>\n",
       "      <td>4.0</td>\n",
       "      <td>5.0</td>\n",
       "      <td>4.0</td>\n",
       "    </tr>\n",
       "    <tr>\n",
       "      <th>4</th>\n",
       "      <td>5</td>\n",
       "      <td>India</td>\n",
       "      <td>Andhra_Pradesh</td>\n",
       "      <td>Amaravati</td>\n",
       "      <td>Secretariat, Amaravati - APPCB</td>\n",
       "      <td>SO2</td>\n",
       "      <td>21-10-2021 01:00:00</td>\n",
       "      <td>16.0</td>\n",
       "      <td>42.0</td>\n",
       "      <td>27.0</td>\n",
       "    </tr>\n",
       "    <tr>\n",
       "      <th>5</th>\n",
       "      <td>6</td>\n",
       "      <td>India</td>\n",
       "      <td>Andhra_Pradesh</td>\n",
       "      <td>Amaravati</td>\n",
       "      <td>Secretariat, Amaravati - APPCB</td>\n",
       "      <td>CO</td>\n",
       "      <td>21-10-2021 01:00:00</td>\n",
       "      <td>15.0</td>\n",
       "      <td>45.0</td>\n",
       "      <td>32.0</td>\n",
       "    </tr>\n",
       "  </tbody>\n",
       "</table>\n",
       "</div>"
      ],
      "text/plain": [
       "   id country           state       city                         station  \\\n",
       "0   1   India  Andhra_Pradesh  Amaravati  Secretariat, Amaravati - APPCB   \n",
       "1   2   India  Andhra_Pradesh  Amaravati  Secretariat, Amaravati - APPCB   \n",
       "2   3   India  Andhra_Pradesh  Amaravati  Secretariat, Amaravati - APPCB   \n",
       "3   4   India  Andhra_Pradesh  Amaravati  Secretariat, Amaravati - APPCB   \n",
       "4   5   India  Andhra_Pradesh  Amaravati  Secretariat, Amaravati - APPCB   \n",
       "5   6   India  Andhra_Pradesh  Amaravati  Secretariat, Amaravati - APPCB   \n",
       "\n",
       "  pollutant_id          last_update  pollutant_min  pollutant_max  \\\n",
       "0        PM2.5  21-10-2021 01:00:00           69.0          109.0   \n",
       "1         PM10  21-10-2021 01:00:00           82.0          138.0   \n",
       "2          NO2  21-10-2021 01:00:00           10.0           42.0   \n",
       "3          NH3  21-10-2021 01:00:00            4.0            5.0   \n",
       "4          SO2  21-10-2021 01:00:00           16.0           42.0   \n",
       "5           CO  21-10-2021 01:00:00           15.0           45.0   \n",
       "\n",
       "   pollutant_avg  \n",
       "0           86.0  \n",
       "1          105.0  \n",
       "2           19.0  \n",
       "3            4.0  \n",
       "4           27.0  \n",
       "5           32.0  "
      ]
     },
     "execution_count": 4,
     "metadata": {},
     "output_type": "execute_result"
    }
   ],
   "source": [
    "df.head(6)"
   ]
  },
  {
   "cell_type": "markdown",
   "id": "7b3ead38",
   "metadata": {},
   "source": [
    "# MIN MAX SCALING"
   ]
  },
  {
   "cell_type": "code",
   "execution_count": 45,
   "id": "2ef918ec",
   "metadata": {},
   "outputs": [],
   "source": [
    "min_max = df.iloc[[0,1,2,3,4,5],[7]]"
   ]
  },
  {
   "cell_type": "code",
   "execution_count": 46,
   "id": "4930f040",
   "metadata": {},
   "outputs": [
    {
     "data": {
      "text/plain": [
       "<AxesSubplot:>"
      ]
     },
     "execution_count": 46,
     "metadata": {},
     "output_type": "execute_result"
    },
    {
     "data": {
      "image/png": "[encoded data removed]",
      "text/plain": [
       "<Figure size 432x288 with 1 Axes>"
      ]
     },
     "metadata": {
      "needs_background": "light"
     },
     "output_type": "display_data"
    }
   ],
   "source": [
    "min_max.plot.line()"
   ]
  },
  {
   "cell_type": "code",
   "execution_count": 17,
   "id": "39e5f282",
   "metadata": {},
   "outputs": [],
   "source": [
    "from sklearn.preprocessing import MinMaxScaler"
   ]
  },
  {
   "cell_type": "code",
   "execution_count": 18,
   "id": "0fc55be6",
   "metadata": {},
   "outputs": [],
   "source": [
    "scaler = MinMaxScaler()"
   ]
  },
  {
   "cell_type": "code",
   "execution_count": 38,
   "id": "f56df92f",
   "metadata": {},
   "outputs": [],
   "source": [
    "transform_min_max = scaler.fit_transform(min_max)"
   ]
  },
  {
   "cell_type": "code",
   "execution_count": 41,
   "id": "9c474ab0",
   "metadata": {},
   "outputs": [
    {
     "data": {
      "text/plain": [
       "(5, 1)"
      ]
     },
     "execution_count": 41,
     "metadata": {},
     "output_type": "execute_result"
    }
   ],
   "source": [
    "transform_min_max.shape"
   ]
  },
  {
   "cell_type": "code",
   "execution_count": 26,
   "id": "14faf279",
   "metadata": {},
   "outputs": [],
   "source": [
    "transform_min_max = scaler.fit_transform(min_max)\n",
    "transform_min_max = pd.DataFrame(transform_min_max)"
   ]
  },
  {
   "cell_type": "code",
   "execution_count": 42,
   "id": "7450ee4c",
   "metadata": {},
   "outputs": [
    {
     "data": {
      "text/html": [
       "<div>\n",
       "<style scoped>\n",
       "    .dataframe tbody tr th:only-of-type {\n",
       "        vertical-align: middle;\n",
       "    }\n",
       "\n",
       "    .dataframe tbody tr th {\n",
       "        vertical-align: top;\n",
       "    }\n",
       "\n",
       "    .dataframe thead th {\n",
       "        text-align: right;\n",
       "    }\n",
       "</style>\n",
       "<table border=\"1\" class=\"dataframe\">\n",
       "  <thead>\n",
       "    <tr style=\"text-align: right;\">\n",
       "      <th></th>\n",
       "      <th>0</th>\n",
       "    </tr>\n",
       "  </thead>\n",
       "  <tbody>\n",
       "    <tr>\n",
       "      <th>0</th>\n",
       "      <td>1.000000</td>\n",
       "    </tr>\n",
       "    <tr>\n",
       "      <th>1</th>\n",
       "      <td>0.092308</td>\n",
       "    </tr>\n",
       "    <tr>\n",
       "      <th>2</th>\n",
       "      <td>0.000000</td>\n",
       "    </tr>\n",
       "    <tr>\n",
       "      <th>3</th>\n",
       "      <td>0.184615</td>\n",
       "    </tr>\n",
       "    <tr>\n",
       "      <th>4</th>\n",
       "      <td>0.169231</td>\n",
       "    </tr>\n",
       "  </tbody>\n",
       "</table>\n",
       "</div>"
      ],
      "text/plain": [
       "          0\n",
       "0  1.000000\n",
       "1  0.092308\n",
       "2  0.000000\n",
       "3  0.184615\n",
       "4  0.169231"
      ]
     },
     "execution_count": 42,
     "metadata": {},
     "output_type": "execute_result"
    }
   ],
   "source": [
    "transform_min_max = pd.DataFrame(transform_min_max)\n",
    "transform_min_max"
   ]
  },
  {
   "cell_type": "code",
   "execution_count": 47,
   "id": "65f9c6fa",
   "metadata": {},
   "outputs": [],
   "source": [
    "values = min_max.join(transform_min_max)"
   ]
  },
  {
   "cell_type": "code",
   "execution_count": 48,
   "id": "b2563ac8",
   "metadata": {},
   "outputs": [],
   "source": [
    "values.columns=['before scaling','ofter scaling']"
   ]
  },
  {
   "cell_type": "code",
   "execution_count": null,
   "id": "8774623f",
   "metadata": {},
   "outputs": [],
   "source": []
  },
  {
   "cell_type": "code",
   "execution_count": 52,
   "id": "c9df75ec",
   "metadata": {},
   "outputs": [
    {
     "data": {
      "text/html": [
       "<div>\n",
       "<style scoped>\n",
       "    .dataframe tbody tr th:only-of-type {\n",
       "        vertical-align: middle;\n",
       "    }\n",
       "\n",
       "    .dataframe tbody tr th {\n",
       "        vertical-align: top;\n",
       "    }\n",
       "\n",
       "    .dataframe thead th {\n",
       "        text-align: right;\n",
       "    }\n",
       "</style>\n",
       "<table border=\"1\" class=\"dataframe\">\n",
       "  <thead>\n",
       "    <tr style=\"text-align: right;\">\n",
       "      <th></th>\n",
       "      <th>before scaling</th>\n",
       "      <th>ofter scaling</th>\n",
       "    </tr>\n",
       "  </thead>\n",
       "  <tbody>\n",
       "    <tr>\n",
       "      <th>0</th>\n",
       "      <td>69.0</td>\n",
       "      <td>1.000000</td>\n",
       "    </tr>\n",
       "    <tr>\n",
       "      <th>1</th>\n",
       "      <td>82.0</td>\n",
       "      <td>0.092308</td>\n",
       "    </tr>\n",
       "    <tr>\n",
       "      <th>2</th>\n",
       "      <td>10.0</td>\n",
       "      <td>0.000000</td>\n",
       "    </tr>\n",
       "    <tr>\n",
       "      <th>3</th>\n",
       "      <td>4.0</td>\n",
       "      <td>0.184615</td>\n",
       "    </tr>\n",
       "    <tr>\n",
       "      <th>4</th>\n",
       "      <td>16.0</td>\n",
       "      <td>0.169231</td>\n",
       "    </tr>\n",
       "  </tbody>\n",
       "</table>\n",
       "</div>"
      ],
      "text/plain": [
       "   before scaling  ofter scaling\n",
       "0            69.0       1.000000\n",
       "1            82.0       0.092308\n",
       "2            10.0       0.000000\n",
       "3             4.0       0.184615\n",
       "4            16.0       0.169231"
      ]
     },
     "execution_count": 52,
     "metadata": {},
     "output_type": "execute_result"
    }
   ],
   "source": [
    "values"
   ]
  },
  {
   "cell_type": "code",
   "execution_count": 54,
   "id": "52bcd9cc",
   "metadata": {},
   "outputs": [
    {
     "data": {
      "text/plain": [
       "<AxesSubplot:title={'center':'MIN_MAX SCALING'}>"
      ]
     },
     "execution_count": 54,
     "metadata": {},
     "output_type": "execute_result"
    },
    {
     "data": {
      "image/png": "[encoded data removed]",
      "text/plain": [
       "<Figure size 432x288 with 1 Axes>"
      ]
     },
     "metadata": {
      "needs_background": "light"
     },
     "output_type": "display_data"
    }
   ],
   "source": [
    "values.plot.line(title='MIN_MAX SCALING')"
   ]
  },
  {
   "cell_type": "markdown",
   "id": "467dd39d",
   "metadata": {},
   "source": [
    "# Standard Scaler"
   ]
  },
  {
   "cell_type": "code",
   "execution_count": 56,
   "id": "fa909b68",
   "metadata": {},
   "outputs": [],
   "source": [
    "from sklearn.preprocessing import StandardScaler"
   ]
  },
  {
   "cell_type": "code",
   "execution_count": 57,
   "id": "1c8a9649",
   "metadata": {},
   "outputs": [],
   "source": [
    "scaler1 = StandardScaler()"
   ]
  },
  {
   "cell_type": "code",
   "execution_count": 58,
   "id": "88f88c02",
   "metadata": {},
   "outputs": [],
   "source": [
    "ssd = df.iloc[[0,1,2,3,4,5],[7]]"
   ]
  },
  {
   "cell_type": "code",
   "execution_count": 70,
   "id": "f786c2dc",
   "metadata": {},
   "outputs": [],
   "source": [
    "sscaler = scaler1.fit_transform(ssd)\n",
    "sscaler = pd.DataFrame(sscaler)"
   ]
  },
  {
   "cell_type": "code",
   "execution_count": null,
   "id": "60120cdc",
   "metadata": {},
   "outputs": [],
   "source": []
  },
  {
   "cell_type": "markdown",
   "id": "a29a0f98",
   "metadata": {},
   "source": [
    "Standard Diviation"
   ]
  },
  {
   "cell_type": "code",
   "execution_count": 68,
   "id": "c8e38170",
   "metadata": {},
   "outputs": [
    {
     "data": {
      "text/plain": [
       "0    1.095445\n",
       "dtype: float64"
      ]
     },
     "execution_count": 68,
     "metadata": {},
     "output_type": "execute_result"
    }
   ],
   "source": [
    "sscaler.std()"
   ]
  },
  {
   "cell_type": "code",
   "execution_count": 73,
   "id": "91b0f1cd",
   "metadata": {},
   "outputs": [],
   "source": [
    "sscaler = sscaler.join(ssd)"
   ]
  },
  {
   "cell_type": "code",
   "execution_count": 74,
   "id": "ce877b56",
   "metadata": {},
   "outputs": [],
   "source": [
    "sscaler.columns=['ofter scaling','before scaling']"
   ]
  },
  {
   "cell_type": "code",
   "execution_count": 77,
   "id": "d97e1f7c",
   "metadata": {},
   "outputs": [
    {
     "data": {
      "text/html": [
       "<div>\n",
       "<style scoped>\n",
       "    .dataframe tbody tr th:only-of-type {\n",
       "        vertical-align: middle;\n",
       "    }\n",
       "\n",
       "    .dataframe tbody tr th {\n",
       "        vertical-align: top;\n",
       "    }\n",
       "\n",
       "    .dataframe thead th {\n",
       "        text-align: right;\n",
       "    }\n",
       "</style>\n",
       "<table border=\"1\" class=\"dataframe\">\n",
       "  <thead>\n",
       "    <tr style=\"text-align: right;\">\n",
       "      <th></th>\n",
       "      <th>ofter scaling</th>\n",
       "      <th>before scaling</th>\n",
       "    </tr>\n",
       "  </thead>\n",
       "  <tbody>\n",
       "    <tr>\n",
       "      <th>0</th>\n",
       "      <td>1.180952</td>\n",
       "      <td>69.0</td>\n",
       "    </tr>\n",
       "    <tr>\n",
       "      <th>1</th>\n",
       "      <td>1.603494</td>\n",
       "      <td>82.0</td>\n",
       "    </tr>\n",
       "    <tr>\n",
       "      <th>2</th>\n",
       "      <td>-0.736741</td>\n",
       "      <td>10.0</td>\n",
       "    </tr>\n",
       "    <tr>\n",
       "      <th>3</th>\n",
       "      <td>-0.931760</td>\n",
       "      <td>4.0</td>\n",
       "    </tr>\n",
       "    <tr>\n",
       "      <th>4</th>\n",
       "      <td>-0.541721</td>\n",
       "      <td>16.0</td>\n",
       "    </tr>\n",
       "    <tr>\n",
       "      <th>5</th>\n",
       "      <td>-0.574224</td>\n",
       "      <td>15.0</td>\n",
       "    </tr>\n",
       "  </tbody>\n",
       "</table>\n",
       "</div>"
      ],
      "text/plain": [
       "   ofter scaling  before scaling\n",
       "0       1.180952            69.0\n",
       "1       1.603494            82.0\n",
       "2      -0.736741            10.0\n",
       "3      -0.931760             4.0\n",
       "4      -0.541721            16.0\n",
       "5      -0.574224            15.0"
      ]
     },
     "execution_count": 77,
     "metadata": {},
     "output_type": "execute_result"
    }
   ],
   "source": [
    "sscaler"
   ]
  },
  {
   "cell_type": "code",
   "execution_count": 78,
   "id": "cf0d16d6",
   "metadata": {},
   "outputs": [
    {
     "data": {
      "text/plain": [
       "<AxesSubplot:title={'center':'STANDARD SCALER'}>"
      ]
     },
     "execution_count": 78,
     "metadata": {},
     "output_type": "execute_result"
    },
    {
     "data": {
      "image/png": "[encoded data removed]",
      "text/plain": [
       "<Figure size 432x288 with 1 Axes>"
      ]
     },
     "metadata": {
      "needs_background": "light"
     },
     "output_type": "display_data"
    }
   ],
   "source": [
    "sscaler.plot.line(title='STANDARD SCALER')"
   ]
  },
  {
   "cell_type": "markdown",
   "id": "e1107529",
   "metadata": {},
   "source": [
    "# MAX ABS SCALER"
   ]
  },
  {
   "cell_type": "code",
   "execution_count": 88,
   "id": "899711e0",
   "metadata": {},
   "outputs": [],
   "source": [
    "from sklearn.preprocessing import MaxAbsScaler"
   ]
  },
  {
   "cell_type": "code",
   "execution_count": 89,
   "id": "5af6b2d7",
   "metadata": {},
   "outputs": [],
   "source": [
    "MaxAbs = MaxAbsScaler()"
   ]
  },
  {
   "cell_type": "code",
   "execution_count": 90,
   "id": "19574abf",
   "metadata": {},
   "outputs": [
    {
     "data": {
      "text/html": [
       "<div>\n",
       "<style scoped>\n",
       "    .dataframe tbody tr th:only-of-type {\n",
       "        vertical-align: middle;\n",
       "    }\n",
       "\n",
       "    .dataframe tbody tr th {\n",
       "        vertical-align: top;\n",
       "    }\n",
       "\n",
       "    .dataframe thead th {\n",
       "        text-align: right;\n",
       "    }\n",
       "</style>\n",
       "<table border=\"1\" class=\"dataframe\">\n",
       "  <thead>\n",
       "    <tr style=\"text-align: right;\">\n",
       "      <th></th>\n",
       "      <th>pollutant_min</th>\n",
       "    </tr>\n",
       "  </thead>\n",
       "  <tbody>\n",
       "    <tr>\n",
       "      <th>0</th>\n",
       "      <td>69.0</td>\n",
       "    </tr>\n",
       "    <tr>\n",
       "      <th>1</th>\n",
       "      <td>82.0</td>\n",
       "    </tr>\n",
       "    <tr>\n",
       "      <th>2</th>\n",
       "      <td>10.0</td>\n",
       "    </tr>\n",
       "    <tr>\n",
       "      <th>3</th>\n",
       "      <td>4.0</td>\n",
       "    </tr>\n",
       "    <tr>\n",
       "      <th>4</th>\n",
       "      <td>16.0</td>\n",
       "    </tr>\n",
       "    <tr>\n",
       "      <th>5</th>\n",
       "      <td>15.0</td>\n",
       "    </tr>\n",
       "  </tbody>\n",
       "</table>\n",
       "</div>"
      ],
      "text/plain": [
       "   pollutant_min\n",
       "0           69.0\n",
       "1           82.0\n",
       "2           10.0\n",
       "3            4.0\n",
       "4           16.0\n",
       "5           15.0"
      ]
     },
     "execution_count": 90,
     "metadata": {},
     "output_type": "execute_result"
    }
   ],
   "source": [
    "MaxAbsScaler1= df.iloc[[0,1,2,3,4,5],[7]]\n",
    "MaxAbsScaler1"
   ]
  },
  {
   "cell_type": "code",
   "execution_count": 93,
   "id": "0367bfc5",
   "metadata": {},
   "outputs": [],
   "source": [
    "MaxAbsScaler = MaxAbs.fit_transform(MaxAbsScaler1)\n",
    "MaxAbsScaler = pd.DataFrame(MaxAbsScaler)"
   ]
  },
  {
   "cell_type": "code",
   "execution_count": 95,
   "id": "1cdd9be1",
   "metadata": {},
   "outputs": [],
   "source": [
    "MaxAbsScaler = MaxAbsScaler.join(MaxAbsScaler1)"
   ]
  },
  {
   "cell_type": "code",
   "execution_count": 102,
   "id": "ba5ac560",
   "metadata": {},
   "outputs": [
    {
     "data": {
      "text/html": [
       "<div>\n",
       "<style scoped>\n",
       "    .dataframe tbody tr th:only-of-type {\n",
       "        vertical-align: middle;\n",
       "    }\n",
       "\n",
       "    .dataframe tbody tr th {\n",
       "        vertical-align: top;\n",
       "    }\n",
       "\n",
       "    .dataframe thead th {\n",
       "        text-align: right;\n",
       "    }\n",
       "</style>\n",
       "<table border=\"1\" class=\"dataframe\">\n",
       "  <thead>\n",
       "    <tr style=\"text-align: right;\">\n",
       "      <th></th>\n",
       "      <th>ofterscaling</th>\n",
       "      <th>before scaling</th>\n",
       "    </tr>\n",
       "  </thead>\n",
       "  <tbody>\n",
       "    <tr>\n",
       "      <th>0</th>\n",
       "      <td>0.841463</td>\n",
       "      <td>69.0</td>\n",
       "    </tr>\n",
       "    <tr>\n",
       "      <th>1</th>\n",
       "      <td>1.000000</td>\n",
       "      <td>82.0</td>\n",
       "    </tr>\n",
       "    <tr>\n",
       "      <th>2</th>\n",
       "      <td>0.121951</td>\n",
       "      <td>10.0</td>\n",
       "    </tr>\n",
       "    <tr>\n",
       "      <th>3</th>\n",
       "      <td>0.048780</td>\n",
       "      <td>4.0</td>\n",
       "    </tr>\n",
       "    <tr>\n",
       "      <th>4</th>\n",
       "      <td>0.195122</td>\n",
       "      <td>16.0</td>\n",
       "    </tr>\n",
       "    <tr>\n",
       "      <th>5</th>\n",
       "      <td>0.182927</td>\n",
       "      <td>15.0</td>\n",
       "    </tr>\n",
       "  </tbody>\n",
       "</table>\n",
       "</div>"
      ],
      "text/plain": [
       "   ofterscaling  before scaling\n",
       "0      0.841463            69.0\n",
       "1      1.000000            82.0\n",
       "2      0.121951            10.0\n",
       "3      0.048780             4.0\n",
       "4      0.195122            16.0\n",
       "5      0.182927            15.0"
      ]
     },
     "execution_count": 102,
     "metadata": {},
     "output_type": "execute_result"
    }
   ],
   "source": [
    "MaxAbsScaler.columns=['ofterscaling','before scaling']\n",
    "MaxAbsScaler"
   ]
  },
  {
   "cell_type": "code",
   "execution_count": 101,
   "id": "121d1e51",
   "metadata": {},
   "outputs": [
    {
     "data": {
      "text/plain": [
       "<AxesSubplot:title={'center':'MAX ABS SCALER'}>"
      ]
     },
     "execution_count": 101,
     "metadata": {},
     "output_type": "execute_result"
    },
    {
     "data": {
      "image/png": "[encoded data removed]",
      "text/plain": [
       "<Figure size 432x288 with 1 Axes>"
      ]
     },
     "metadata": {
      "needs_background": "light"
     },
     "output_type": "display_data"
    }
   ],
   "source": [
    "MaxAbsScaler.plot.line(title='MAX ABS SCALER')"
   ]
  },
  {
   "cell_type": "markdown",
   "id": "5d137f42",
   "metadata": {},
   "source": [
    "# ROBUST SCALER"
   ]
  },
  {
   "cell_type": "code",
   "execution_count": 105,
   "id": "78f555a4",
   "metadata": {},
   "outputs": [],
   "source": [
    "from sklearn.preprocessing import RobustScaler"
   ]
  },
  {
   "cell_type": "code",
   "execution_count": 106,
   "id": "567db1c8",
   "metadata": {},
   "outputs": [],
   "source": [
    "Robust = RobustScaler()"
   ]
  },
  {
   "cell_type": "code",
   "execution_count": 107,
   "id": "e2467f5c",
   "metadata": {},
   "outputs": [],
   "source": [
    "data = df.iloc[[0,1,2,3,4,5],[7]]"
   ]
  },
  {
   "cell_type": "code",
   "execution_count": 110,
   "id": "5bb39538",
   "metadata": {},
   "outputs": [],
   "source": [
    "robust = Robust.fit_transform(data)\n",
    "robust = pd.DataFrame(robust)"
   ]
  },
  {
   "cell_type": "code",
   "execution_count": 112,
   "id": "2efeba68",
   "metadata": {},
   "outputs": [],
   "source": [
    "robust = robust.join(data)"
   ]
  },
  {
   "cell_type": "code",
   "execution_count": 113,
   "id": "1601238f",
   "metadata": {},
   "outputs": [],
   "source": [
    "robust.columns=['ofterscaling','beforscaling']"
   ]
  },
  {
   "cell_type": "code",
   "execution_count": 114,
   "id": "a6be9966",
   "metadata": {},
   "outputs": [
    {
     "data": {
      "text/plain": [
       "<AxesSubplot:title={'center':'ROBUST SCALING'}>"
      ]
     },
     "execution_count": 114,
     "metadata": {},
     "output_type": "execute_result"
    },
    {
     "data": {
      "image/png": "[encoded data removed]",
      "text/plain": [
       "<Figure size 432x288 with 1 Axes>"
      ]
     },
     "metadata": {
      "needs_background": "light"
     },
     "output_type": "display_data"
    }
   ],
   "source": [
    "robust.plot.line(title='ROBUST SCALING')"
   ]
  },
  {
   "cell_type": "markdown",
   "id": "9e087083",
   "metadata": {},
   "source": [
    "# OUTLIER HANDLE STANDARDED SCALER AND ROBUST SCALER"
   ]
  },
  {
   "cell_type": "code",
   "execution_count": 172,
   "id": "a32f66db",
   "metadata": {},
   "outputs": [],
   "source": [
    "m = df.iloc[[0,1,2,3,4,5],[7]]"
   ]
  },
  {
   "cell_type": "code",
   "execution_count": 173,
   "id": "394c29e5",
   "metadata": {},
   "outputs": [],
   "source": [
    "m.iloc[0] = [150]"
   ]
  },
  {
   "cell_type": "code",
   "execution_count": 174,
   "id": "eec51c93",
   "metadata": {},
   "outputs": [],
   "source": [
    "m.iloc[1]=[18]"
   ]
  },
  {
   "cell_type": "code",
   "execution_count": 175,
   "id": "6f955f3a",
   "metadata": {},
   "outputs": [],
   "source": [
    "m.reset_index(inplace =True)\n"
   ]
  },
  {
   "cell_type": "code",
   "execution_count": 176,
   "id": "8800ca3b",
   "metadata": {},
   "outputs": [
    {
     "data": {
      "text/html": [
       "<div>\n",
       "<style scoped>\n",
       "    .dataframe tbody tr th:only-of-type {\n",
       "        vertical-align: middle;\n",
       "    }\n",
       "\n",
       "    .dataframe tbody tr th {\n",
       "        vertical-align: top;\n",
       "    }\n",
       "\n",
       "    .dataframe thead th {\n",
       "        text-align: right;\n",
       "    }\n",
       "</style>\n",
       "<table border=\"1\" class=\"dataframe\">\n",
       "  <thead>\n",
       "    <tr style=\"text-align: right;\">\n",
       "      <th></th>\n",
       "      <th>index</th>\n",
       "      <th>pollutant_min</th>\n",
       "    </tr>\n",
       "  </thead>\n",
       "  <tbody>\n",
       "    <tr>\n",
       "      <th>0</th>\n",
       "      <td>0</td>\n",
       "      <td>150.0</td>\n",
       "    </tr>\n",
       "    <tr>\n",
       "      <th>1</th>\n",
       "      <td>1</td>\n",
       "      <td>18.0</td>\n",
       "    </tr>\n",
       "    <tr>\n",
       "      <th>2</th>\n",
       "      <td>2</td>\n",
       "      <td>10.0</td>\n",
       "    </tr>\n",
       "    <tr>\n",
       "      <th>3</th>\n",
       "      <td>3</td>\n",
       "      <td>4.0</td>\n",
       "    </tr>\n",
       "    <tr>\n",
       "      <th>4</th>\n",
       "      <td>4</td>\n",
       "      <td>16.0</td>\n",
       "    </tr>\n",
       "    <tr>\n",
       "      <th>5</th>\n",
       "      <td>5</td>\n",
       "      <td>15.0</td>\n",
       "    </tr>\n",
       "  </tbody>\n",
       "</table>\n",
       "</div>"
      ],
      "text/plain": [
       "   index  pollutant_min\n",
       "0      0          150.0\n",
       "1      1           18.0\n",
       "2      2           10.0\n",
       "3      3            4.0\n",
       "4      4           16.0\n",
       "5      5           15.0"
      ]
     },
     "execution_count": 176,
     "metadata": {},
     "output_type": "execute_result"
    }
   ],
   "source": [
    "m"
   ]
  },
  {
   "cell_type": "code",
   "execution_count": 177,
   "id": "faf7bcb5",
   "metadata": {},
   "outputs": [
    {
     "data": {
      "text/plain": [
       "<AxesSubplot:xlabel='index', ylabel='pollutant_min'>"
      ]
     },
     "execution_count": 177,
     "metadata": {},
     "output_type": "execute_result"
    },
    {
     "data": {
      "image/png": "[encoded data removed]",
      "text/plain": [
       "<Figure size 432x288 with 1 Axes>"
      ]
     },
     "metadata": {
      "needs_background": "light"
     },
     "output_type": "display_data"
    }
   ],
   "source": [
    "m.plot.scatter(x='index',y='pollutant_min')"
   ]
  },
  {
   "cell_type": "code",
   "execution_count": 202,
   "id": "9cc14a57",
   "metadata": {},
   "outputs": [],
   "source": [
    "stan = scaler1.fit_transform(m[['pollutant_min']])\n",
    "stan = pd.DataFrame(stan)"
   ]
  },
  {
   "cell_type": "code",
   "execution_count": 211,
   "id": "51665fe1",
   "metadata": {},
   "outputs": [],
   "source": [
    "stan = stan.reset_index()"
   ]
  },
  {
   "cell_type": "code",
   "execution_count": null,
   "id": "1486729b",
   "metadata": {},
   "outputs": [],
   "source": [
    "\n"
   ]
  },
  {
   "cell_type": "code",
   "execution_count": 212,
   "id": "8972b09d",
   "metadata": {},
   "outputs": [
    {
     "data": {
      "text/html": [
       "<div>\n",
       "<style scoped>\n",
       "    .dataframe tbody tr th:only-of-type {\n",
       "        vertical-align: middle;\n",
       "    }\n",
       "\n",
       "    .dataframe tbody tr th {\n",
       "        vertical-align: top;\n",
       "    }\n",
       "\n",
       "    .dataframe thead th {\n",
       "        text-align: right;\n",
       "    }\n",
       "</style>\n",
       "<table border=\"1\" class=\"dataframe\">\n",
       "  <thead>\n",
       "    <tr style=\"text-align: right;\">\n",
       "      <th></th>\n",
       "      <th>name</th>\n",
       "      <th>stanardscalr</th>\n",
       "    </tr>\n",
       "  </thead>\n",
       "  <tbody>\n",
       "    <tr>\n",
       "      <th>0</th>\n",
       "      <td>0</td>\n",
       "      <td>2.227083</td>\n",
       "    </tr>\n",
       "    <tr>\n",
       "      <th>1</th>\n",
       "      <td>1</td>\n",
       "      <td>-0.340384</td>\n",
       "    </tr>\n",
       "    <tr>\n",
       "      <th>2</th>\n",
       "      <td>2</td>\n",
       "      <td>-0.495988</td>\n",
       "    </tr>\n",
       "    <tr>\n",
       "      <th>3</th>\n",
       "      <td>3</td>\n",
       "      <td>-0.612691</td>\n",
       "    </tr>\n",
       "    <tr>\n",
       "      <th>4</th>\n",
       "      <td>4</td>\n",
       "      <td>-0.379285</td>\n",
       "    </tr>\n",
       "    <tr>\n",
       "      <th>5</th>\n",
       "      <td>5</td>\n",
       "      <td>-0.398735</td>\n",
       "    </tr>\n",
       "  </tbody>\n",
       "</table>\n",
       "</div>"
      ],
      "text/plain": [
       "   name  stanardscalr\n",
       "0     0      2.227083\n",
       "1     1     -0.340384\n",
       "2     2     -0.495988\n",
       "3     3     -0.612691\n",
       "4     4     -0.379285\n",
       "5     5     -0.398735"
      ]
     },
     "execution_count": 212,
     "metadata": {},
     "output_type": "execute_result"
    }
   ],
   "source": [
    "stan.columns=['name','stanardscalr']\n",
    "stan"
   ]
  },
  {
   "cell_type": "code",
   "execution_count": 213,
   "id": "3d438414",
   "metadata": {},
   "outputs": [],
   "source": [
    "robust = Robust.fit_transform(m[['pollutant_min']])\n",
    "robust = pd.DataFrame(robust)"
   ]
  },
  {
   "cell_type": "code",
   "execution_count": 215,
   "id": "ef605b5d",
   "metadata": {},
   "outputs": [],
   "source": [
    "robust = robust.reset_index()"
   ]
  },
  {
   "cell_type": "code",
   "execution_count": 216,
   "id": "8ec86f45",
   "metadata": {},
   "outputs": [
    {
     "data": {
      "text/html": [
       "<div>\n",
       "<style scoped>\n",
       "    .dataframe tbody tr th:only-of-type {\n",
       "        vertical-align: middle;\n",
       "    }\n",
       "\n",
       "    .dataframe tbody tr th {\n",
       "        vertical-align: top;\n",
       "    }\n",
       "\n",
       "    .dataframe thead th {\n",
       "        text-align: right;\n",
       "    }\n",
       "</style>\n",
       "<table border=\"1\" class=\"dataframe\">\n",
       "  <thead>\n",
       "    <tr style=\"text-align: right;\">\n",
       "      <th></th>\n",
       "      <th>name</th>\n",
       "      <th>Robust Scalr</th>\n",
       "    </tr>\n",
       "  </thead>\n",
       "  <tbody>\n",
       "    <tr>\n",
       "      <th>0</th>\n",
       "      <td>0</td>\n",
       "      <td>21.52</td>\n",
       "    </tr>\n",
       "    <tr>\n",
       "      <th>1</th>\n",
       "      <td>1</td>\n",
       "      <td>0.40</td>\n",
       "    </tr>\n",
       "    <tr>\n",
       "      <th>2</th>\n",
       "      <td>2</td>\n",
       "      <td>-0.88</td>\n",
       "    </tr>\n",
       "    <tr>\n",
       "      <th>3</th>\n",
       "      <td>3</td>\n",
       "      <td>-1.84</td>\n",
       "    </tr>\n",
       "    <tr>\n",
       "      <th>4</th>\n",
       "      <td>4</td>\n",
       "      <td>0.08</td>\n",
       "    </tr>\n",
       "    <tr>\n",
       "      <th>5</th>\n",
       "      <td>5</td>\n",
       "      <td>-0.08</td>\n",
       "    </tr>\n",
       "  </tbody>\n",
       "</table>\n",
       "</div>"
      ],
      "text/plain": [
       "   name  Robust Scalr\n",
       "0     0         21.52\n",
       "1     1          0.40\n",
       "2     2         -0.88\n",
       "3     3         -1.84\n",
       "4     4          0.08\n",
       "5     5         -0.08"
      ]
     },
     "execution_count": 216,
     "metadata": {},
     "output_type": "execute_result"
    }
   ],
   "source": [
    "robust.columns=['name','Robust Scalr']\n",
    "robust"
   ]
  },
  {
   "cell_type": "code",
   "execution_count": 225,
   "id": "bb1294ab",
   "metadata": {},
   "outputs": [
    {
     "data": {
      "text/plain": [
       "<matplotlib.legend.Legend at 0x15e3cba11c0>"
      ]
     },
     "execution_count": 225,
     "metadata": {},
     "output_type": "execute_result"
    },
    {
     "data": {
      "image/png": "[encoded data removed]",
      "text/plain": [
       "<Figure size 720x504 with 1 Axes>"
      ]
     },
     "metadata": {
      "needs_background": "light"
     },
     "output_type": "display_data"
    }
   ],
   "source": [
    "ax,legend=(['l1','l2'])\n",
    "fig = plt.figure(figsize=(10,7))\n",
    "ax = fig.add_subplot(111)\n",
    "stan.plot.scatter(x='name',y='stanardscalr',ax=ax,color='black')\n",
    "robust.plot.scatter(x='name',y='Robust Scalr',ax=ax)\n",
    "ax.legend(['standard scaler','robust scaler'])"
   ]
  },
  {
   "cell_type": "markdown",
   "id": "ce28f1de",
   "metadata": {},
   "source": [
    "# Quantile Transformer scaler"
   ]
  },
  {
   "cell_type": "code",
   "execution_count": 230,
   "id": "f0e06152",
   "metadata": {},
   "outputs": [],
   "source": [
    "from sklearn.preprocessing import QuantileTransformer"
   ]
  },
  {
   "cell_type": "code",
   "execution_count": 231,
   "id": "066f7bd4",
   "metadata": {},
   "outputs": [],
   "source": [
    "q = QuantileTransformer()"
   ]
  },
  {
   "cell_type": "code",
   "execution_count": 232,
   "id": "bd3692f3",
   "metadata": {},
   "outputs": [
    {
     "data": {
      "text/html": [
       "<div>\n",
       "<style scoped>\n",
       "    .dataframe tbody tr th:only-of-type {\n",
       "        vertical-align: middle;\n",
       "    }\n",
       "\n",
       "    .dataframe tbody tr th {\n",
       "        vertical-align: top;\n",
       "    }\n",
       "\n",
       "    .dataframe thead th {\n",
       "        text-align: right;\n",
       "    }\n",
       "</style>\n",
       "<table border=\"1\" class=\"dataframe\">\n",
       "  <thead>\n",
       "    <tr style=\"text-align: right;\">\n",
       "      <th></th>\n",
       "      <th>index</th>\n",
       "      <th>pollutant_min</th>\n",
       "    </tr>\n",
       "  </thead>\n",
       "  <tbody>\n",
       "    <tr>\n",
       "      <th>0</th>\n",
       "      <td>0</td>\n",
       "      <td>150.0</td>\n",
       "    </tr>\n",
       "    <tr>\n",
       "      <th>1</th>\n",
       "      <td>1</td>\n",
       "      <td>18.0</td>\n",
       "    </tr>\n",
       "    <tr>\n",
       "      <th>2</th>\n",
       "      <td>2</td>\n",
       "      <td>10.0</td>\n",
       "    </tr>\n",
       "    <tr>\n",
       "      <th>3</th>\n",
       "      <td>3</td>\n",
       "      <td>4.0</td>\n",
       "    </tr>\n",
       "    <tr>\n",
       "      <th>4</th>\n",
       "      <td>4</td>\n",
       "      <td>16.0</td>\n",
       "    </tr>\n",
       "    <tr>\n",
       "      <th>5</th>\n",
       "      <td>5</td>\n",
       "      <td>15.0</td>\n",
       "    </tr>\n",
       "  </tbody>\n",
       "</table>\n",
       "</div>"
      ],
      "text/plain": [
       "   index  pollutant_min\n",
       "0      0          150.0\n",
       "1      1           18.0\n",
       "2      2           10.0\n",
       "3      3            4.0\n",
       "4      4           16.0\n",
       "5      5           15.0"
      ]
     },
     "execution_count": 232,
     "metadata": {},
     "output_type": "execute_result"
    }
   ],
   "source": [
    "m"
   ]
  },
  {
   "cell_type": "code",
   "execution_count": 235,
   "id": "46242726",
   "metadata": {},
   "outputs": [
    {
     "name": "stderr",
     "output_type": "stream",
     "text": [
      "C:\\Users\\hp\\anaconda3\\envs\\tensorflow_env\\lib\\site-packages\\sklearn\\preprocessing\\_data.py:2612: UserWarning: n_quantiles (1000) is greater than the total number of samples (6). n_quantiles is set to n_samples.\n",
      "  warnings.warn(\"n_quantiles (%s) is greater than the total number \"\n"
     ]
    }
   ],
   "source": [
    "qu = q.fit_transform(m[['pollutant_min']])"
   ]
  },
  {
   "cell_type": "code",
   "execution_count": 236,
   "id": "1892f561",
   "metadata": {},
   "outputs": [],
   "source": [
    "qu = pd.DataFrame(qu)"
   ]
  },
  {
   "cell_type": "code",
   "execution_count": 238,
   "id": "5e3ff8e2",
   "metadata": {},
   "outputs": [],
   "source": [
    "quntaile = m.join(qu)"
   ]
  },
  {
   "cell_type": "code",
   "execution_count": 239,
   "id": "178e9551",
   "metadata": {},
   "outputs": [],
   "source": [
    "quntaile.columns=['index','beforescale','ofterscale']"
   ]
  },
  {
   "cell_type": "code",
   "execution_count": 245,
   "id": "e0730865",
   "metadata": {},
   "outputs": [],
   "source": [
    "quantail = quntaile.drop('index',axis=1)"
   ]
  },
  {
   "cell_type": "code",
   "execution_count": 247,
   "id": "cc74739f",
   "metadata": {},
   "outputs": [
    {
     "data": {
      "text/plain": [
       "<AxesSubplot:title={'center':'Quantile transformer'}>"
      ]
     },
     "execution_count": 247,
     "metadata": {},
     "output_type": "execute_result"
    },
    {
     "data": {
      "image/png": "[encoded data removed]",
      "text/plain": [
       "<Figure size 432x288 with 1 Axes>"
      ]
     },
     "metadata": {
      "needs_background": "light"
     },
     "output_type": "display_data"
    }
   ],
   "source": [
    "quantail.plot.line(title = 'Quantile transformer')"
   ]
  },
  {
   "cell_type": "markdown",
   "id": "69cb1f43",
   "metadata": {},
   "source": [
    "# POWER TRANSFORMER"
   ]
  },
  {
   "cell_type": "code",
   "execution_count": 248,
   "id": "2804a45a",
   "metadata": {},
   "outputs": [],
   "source": [
    "from sklearn.preprocessing import PowerTransformer"
   ]
  },
  {
   "cell_type": "markdown",
   "id": "c91aaa5a",
   "metadata": {},
   "source": [
    "1.Yeo-johnson"
   ]
  },
  {
   "cell_type": "code",
   "execution_count": 250,
   "id": "144b3107",
   "metadata": {},
   "outputs": [],
   "source": [
    "power =PowerTransformer(method='yeo-johnson')"
   ]
  },
  {
   "cell_type": "code",
   "execution_count": 253,
   "id": "577df828",
   "metadata": {},
   "outputs": [],
   "source": [
    "m=m.drop('index',axis=1)"
   ]
  },
  {
   "cell_type": "code",
   "execution_count": 254,
   "id": "72a58a28",
   "metadata": {},
   "outputs": [
    {
     "data": {
      "text/html": [
       "<div>\n",
       "<style scoped>\n",
       "    .dataframe tbody tr th:only-of-type {\n",
       "        vertical-align: middle;\n",
       "    }\n",
       "\n",
       "    .dataframe tbody tr th {\n",
       "        vertical-align: top;\n",
       "    }\n",
       "\n",
       "    .dataframe thead th {\n",
       "        text-align: right;\n",
       "    }\n",
       "</style>\n",
       "<table border=\"1\" class=\"dataframe\">\n",
       "  <thead>\n",
       "    <tr style=\"text-align: right;\">\n",
       "      <th></th>\n",
       "      <th>pollutant_min</th>\n",
       "    </tr>\n",
       "  </thead>\n",
       "  <tbody>\n",
       "    <tr>\n",
       "      <th>0</th>\n",
       "      <td>150.0</td>\n",
       "    </tr>\n",
       "    <tr>\n",
       "      <th>1</th>\n",
       "      <td>18.0</td>\n",
       "    </tr>\n",
       "    <tr>\n",
       "      <th>2</th>\n",
       "      <td>10.0</td>\n",
       "    </tr>\n",
       "    <tr>\n",
       "      <th>3</th>\n",
       "      <td>4.0</td>\n",
       "    </tr>\n",
       "    <tr>\n",
       "      <th>4</th>\n",
       "      <td>16.0</td>\n",
       "    </tr>\n",
       "    <tr>\n",
       "      <th>5</th>\n",
       "      <td>15.0</td>\n",
       "    </tr>\n",
       "  </tbody>\n",
       "</table>\n",
       "</div>"
      ],
      "text/plain": [
       "   pollutant_min\n",
       "0          150.0\n",
       "1           18.0\n",
       "2           10.0\n",
       "3            4.0\n",
       "4           16.0\n",
       "5           15.0"
      ]
     },
     "execution_count": 254,
     "metadata": {},
     "output_type": "execute_result"
    }
   ],
   "source": [
    "m"
   ]
  },
  {
   "cell_type": "code",
   "execution_count": 256,
   "id": "1d663a9c",
   "metadata": {},
   "outputs": [],
   "source": [
    "powertrans = power.fit_transform(m)"
   ]
  },
  {
   "cell_type": "code",
   "execution_count": 257,
   "id": "c2ee3ccf",
   "metadata": {},
   "outputs": [],
   "source": [
    "powertrans = pd.DataFrame(powertrans)"
   ]
  },
  {
   "cell_type": "code",
   "execution_count": 258,
   "id": "3204fad7",
   "metadata": {},
   "outputs": [],
   "source": [
    "powertrans = powertrans.join(m)"
   ]
  },
  {
   "cell_type": "code",
   "execution_count": 259,
   "id": "630c272f",
   "metadata": {},
   "outputs": [],
   "source": [
    "powertrans.columns=['ofter jeo-john','befor yeo-jhn']"
   ]
  },
  {
   "cell_type": "code",
   "execution_count": 261,
   "id": "4951fc37",
   "metadata": {},
   "outputs": [
    {
     "data": {
      "text/plain": [
       "<AxesSubplot:title={'center':'Power transform--jeo-john'}>"
      ]
     },
     "execution_count": 261,
     "metadata": {},
     "output_type": "execute_result"
    },
    {
     "data": {
      "image/png": "[encoded data removed]",
      "text/plain": [
       "<Figure size 432x288 with 1 Axes>"
      ]
     },
     "metadata": {
      "needs_background": "light"
     },
     "output_type": "display_data"
    }
   ],
   "source": [
    "powertrans.plot.line(title = 'Power transform--jeo-john')"
   ]
  },
  {
   "cell_type": "markdown",
   "id": "3383cb89",
   "metadata": {},
   "source": [
    "2.box-cox"
   ]
  },
  {
   "cell_type": "code",
   "execution_count": 262,
   "id": "f5486aae",
   "metadata": {},
   "outputs": [],
   "source": [
    "power1 =PowerTransformer(method='box-cox')"
   ]
  },
  {
   "cell_type": "code",
   "execution_count": 263,
   "id": "e12d4ccb",
   "metadata": {},
   "outputs": [
    {
     "data": {
      "text/html": [
       "<div>\n",
       "<style scoped>\n",
       "    .dataframe tbody tr th:only-of-type {\n",
       "        vertical-align: middle;\n",
       "    }\n",
       "\n",
       "    .dataframe tbody tr th {\n",
       "        vertical-align: top;\n",
       "    }\n",
       "\n",
       "    .dataframe thead th {\n",
       "        text-align: right;\n",
       "    }\n",
       "</style>\n",
       "<table border=\"1\" class=\"dataframe\">\n",
       "  <thead>\n",
       "    <tr style=\"text-align: right;\">\n",
       "      <th></th>\n",
       "      <th>pollutant_min</th>\n",
       "    </tr>\n",
       "  </thead>\n",
       "  <tbody>\n",
       "    <tr>\n",
       "      <th>0</th>\n",
       "      <td>150.0</td>\n",
       "    </tr>\n",
       "    <tr>\n",
       "      <th>1</th>\n",
       "      <td>18.0</td>\n",
       "    </tr>\n",
       "    <tr>\n",
       "      <th>2</th>\n",
       "      <td>10.0</td>\n",
       "    </tr>\n",
       "    <tr>\n",
       "      <th>3</th>\n",
       "      <td>4.0</td>\n",
       "    </tr>\n",
       "    <tr>\n",
       "      <th>4</th>\n",
       "      <td>16.0</td>\n",
       "    </tr>\n",
       "    <tr>\n",
       "      <th>5</th>\n",
       "      <td>15.0</td>\n",
       "    </tr>\n",
       "  </tbody>\n",
       "</table>\n",
       "</div>"
      ],
      "text/plain": [
       "   pollutant_min\n",
       "0          150.0\n",
       "1           18.0\n",
       "2           10.0\n",
       "3            4.0\n",
       "4           16.0\n",
       "5           15.0"
      ]
     },
     "execution_count": 263,
     "metadata": {},
     "output_type": "execute_result"
    }
   ],
   "source": [
    "m"
   ]
  },
  {
   "cell_type": "code",
   "execution_count": 264,
   "id": "34f4f3a1",
   "metadata": {},
   "outputs": [],
   "source": [
    "powercox = power1.fit_transform(m)"
   ]
  },
  {
   "cell_type": "code",
   "execution_count": 268,
   "id": "361d49af",
   "metadata": {},
   "outputs": [],
   "source": [
    "powercox = pd.DataFrame(powercox)\n",
    "powercox = powercox.join(m)"
   ]
  },
  {
   "cell_type": "code",
   "execution_count": 269,
   "id": "5c57aadb",
   "metadata": {},
   "outputs": [],
   "source": [
    "powercox.columns=['oftercoxbox','before coxbox']"
   ]
  },
  {
   "cell_type": "code",
   "execution_count": 270,
   "id": "b6d0204b",
   "metadata": {},
   "outputs": [
    {
     "data": {
      "text/plain": [
       "<AxesSubplot:title={'center':'COX-BOX transform'}>"
      ]
     },
     "execution_count": 270,
     "metadata": {},
     "output_type": "execute_result"
    },
    {
     "data": {
      "image/png": "[encoded data removed]",
      "text/plain": [
       "<Figure size 432x288 with 1 Axes>"
      ]
     },
     "metadata": {
      "needs_background": "light"
     },
     "output_type": "display_data"
    }
   ],
   "source": [
    "powercox.plot.line(title='COX-BOX transform')"
   ]
  },
  {
   "cell_type": "code",
   "execution_count": null,
   "id": "9ade205e",
   "metadata": {},
   "outputs": [],
   "source": []
  }
 ],
 "metadata": {
  "kernelspec": {
   "display_name": "Python 3 (ipykernel)",
   "language": "python",
   "name": "python3"
  },
  "language_info": {
   "codemirror_mode": {
    "name": "ipython",
    "version": 3
   },
   "file_extension": ".py",
   "mimetype": "text/x-python",
   "name": "python",
   "nbconvert_exporter": "python",
   "pygments_lexer": "ipython3",
   "version": "3.8.11"
  }
 },
 "nbformat": 4,
 "nbformat_minor": 5
}
